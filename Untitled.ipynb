{
 "cells": [
  {
   "cell_type": "code",
   "execution_count": 13,
   "id": "1713a3c7",
   "metadata": {},
   "outputs": [],
   "source": [
    "import tensorflow as tf\n",
    "import tensorflow.keras as keras\n",
    "import gensim"
   ]
  },
  {
   "cell_type": "code",
   "execution_count": 14,
   "id": "9a0c43f3",
   "metadata": {},
   "outputs": [],
   "source": [
    "model = keras.models.load_model('models/now.fullT2.h5')"
   ]
  },
  {
   "cell_type": "code",
   "execution_count": 18,
   "id": "d88d5f30",
   "metadata": {},
   "outputs": [],
   "source": [
    "weights = tf.Variable(model.layers[0].get_weights()[0])"
   ]
  },
  {
   "cell_type": "code",
   "execution_count": 19,
   "id": "c8d3aa45",
   "metadata": {},
   "outputs": [
    {
     "data": {
      "text/plain": [
       "TensorShape([63525, 300])"
      ]
     },
     "execution_count": 19,
     "metadata": {},
     "output_type": "execute_result"
    }
   ],
   "source": [
    "weights.shape"
   ]
  },
  {
   "cell_type": "code",
   "execution_count": 20,
   "id": "7511fa3b",
   "metadata": {},
   "outputs": [],
   "source": [
    "checkpoint = tf.train.Checkpoint(embedding=weights)"
   ]
  },
  {
   "cell_type": "code",
   "execution_count": 21,
   "id": "2e0bf76d",
   "metadata": {},
   "outputs": [
    {
     "data": {
      "text/plain": [
       "'logs/embedding.ckpt-1'"
      ]
     },
     "execution_count": 21,
     "metadata": {},
     "output_type": "execute_result"
    }
   ],
   "source": [
    "checkpoint.save(\"logs/embedding.ckpt\")"
   ]
  },
  {
   "cell_type": "code",
   "execution_count": 23,
   "id": "a72e3dea",
   "metadata": {},
   "outputs": [],
   "source": [
    "from tensorboard.plugins import projector"
   ]
  },
  {
   "cell_type": "code",
   "execution_count": 24,
   "id": "311bce9e",
   "metadata": {},
   "outputs": [],
   "source": [
    "config = projector.ProjectorConfig()\n",
    "embedding = config.embeddings.add()"
   ]
  },
  {
   "cell_type": "code",
   "execution_count": 27,
   "id": "eafde584",
   "metadata": {},
   "outputs": [],
   "source": [
    "embedding.tensor_name = \"embedding/.ATTRIBUTES/VARIABLE_VALUE\"\n",
    "embedding.metadata_path = 'metadata.tsv'\n",
    "projector.visualize_embeddings('logs/', config)"
   ]
  },
  {
   "cell_type": "code",
   "execution_count": null,
   "id": "6fb7ab15",
   "metadata": {},
   "outputs": [],
   "source": []
  }
 ],
 "metadata": {
  "kernelspec": {
   "display_name": "Python 3",
   "language": "python",
   "name": "python3"
  },
  "language_info": {
   "codemirror_mode": {
    "name": "ipython",
    "version": 3
   },
   "file_extension": ".py",
   "mimetype": "text/x-python",
   "name": "python",
   "nbconvert_exporter": "python",
   "pygments_lexer": "ipython3",
   "version": "3.7.1"
  }
 },
 "nbformat": 4,
 "nbformat_minor": 5
}

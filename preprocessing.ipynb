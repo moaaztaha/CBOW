{
 "cells": [
  {
   "cell_type": "code",
   "execution_count": 5,
   "id": "5318a03d",
   "metadata": {},
   "outputs": [],
   "source": [
    "import pandas as pd"
   ]
  },
  {
   "cell_type": "code",
   "execution_count": 16,
   "id": "3c96489a",
   "metadata": {},
   "outputs": [],
   "source": [
    "with open('data/text.txt') as f:\n",
    "    data = f.read().splitlines()"
   ]
  },
  {
   "cell_type": "code",
   "execution_count": 51,
   "id": "c4f712b9",
   "metadata": {},
   "outputs": [
    {
     "data": {
      "text/plain": [
       "['123hello', '456world', '']"
      ]
     },
     "execution_count": 51,
     "metadata": {},
     "output_type": "execute_result"
    }
   ],
   "source": [
    "import re\n",
    "my_str = '123hello 456world <dev>'.split()\n",
    "output = [re.sub('<\\w+>', '', word) for word in my_str]\n",
    "output"
   ]
  },
  {
   "cell_type": "code",
   "execution_count": 36,
   "id": "60904841",
   "metadata": {},
   "outputs": [
    {
     "data": {
      "text/plain": [
       "'@@11241 <p> Sol Yurick , the writer whose 1965 novel \" The Warriors \" was adapted into a film 14 years later -- which then became one of the best adapted works ever in video gaming -- died this weekend . He was 88 . <p> Yurick \\'s work itself was a loose adaptation of a story told 2,300 years before : Anabasis , which chronicles the journey of Greek mercenaries through hostile territory after the death of their leader . Yurick \\'s book , and The Warriors both open with a grand council of street gangs , convened in the Bronx , and the murder of the leader who called for the gathering ( Cyrus , a direct reference to the leader of the Greeks in Anabasis ) . But the stories then diverge significantly . <p> Walter Hill , the director of The Warriors , strove to give a comic-book depiction of the gang \\'s flight from the Bronx back to their Coney Island turf . ( Indeed , in Yurick \\'s book , the gang \\'s mascot , Junior , reads a comic book version of @ @ @ @ @ @ @ @ @ @ , each faction was given a name and a costume theme invoking it , typified by the iconic \" Baseball Furies \" the protagonist Warriors fight in Riverside Park . After making their way through rival gangs \\' turf in Manhattan and then back to Coney Island , the Warriors defeat the gang responsible for Cyrus \\' death . <p> Advertisement <p> The Warriors became a cult hit , partly because its exaggerated portrayal of New York City \\'s lawlessness fit with the image of violent crime and decay that blighted the city in the late 1970s . A staple of Saturday and Sunday afternoon movie programming on UHF stations , the film faded from popular memory until Rockstar resurrected it as a video game 26 years later . <p> Sponsored <p> The Warriors , released in 2005 for the Xbox and PS2 , began with a three-minute recreation of the film \\'s opening sequence ( shown above ) . Set to the blood pumping guitar and synthesizer of Barry Vorzon \\'s original soundtrack , it \\'s one of the best openings a video game has ever had . Critics familiar @ @ @ @ @ @ @ @ @ @ well in a year full of big hits . Primarily a brawler , with some limited open-world features , the game also served as a canonical prologue to the all-gang meeting in the Bronx . It is playable only on the PlayStation 2 and original Xbox ; a version for the PSP was released in 2007. '"
      ]
     },
     "execution_count": 36,
     "metadata": {},
     "output_type": "execute_result"
    }
   ],
   "source": [
    "data[3]"
   ]
  },
  {
   "cell_type": "code",
   "execution_count": 25,
   "id": "708c2bb1",
   "metadata": {},
   "outputs": [
    {
     "data": {
      "text/plain": [
       "'@@11242 <h> That \\'s What They Say : Dialect Society chooses its words of the year <p> For this week \\'s edition of \" That \\'s What They Say , \" University of Michigan Professor Anne Curzan spoke with us from Boston , where she was attending the American Dialect Society \\'s annual meeting , whose 200 members voted on their \" Word of the Year . \" <p> Rina Miller : So the winner is ? <p> Anne : The winner is \" hashtag . \" It was a surprise entry . It was nominated from the floor . I must admit , I went in thinking \" fiscal cliff \" had this hands down . I thought there was no way anything would beat that , but fiscal cliff did n\\'t even make the runoff . It was hashtag vs. marriage equality . <p> Rina : Why hashtag ? <p> Anne : The argument was that while the word hashtag has been around since 2007 , this was the year of the hashtag . This was the year that hashtag was everywhere in the Twittersphere and beyond @ @ @ @ @ @ @ @ @ @ , making memes go viral . <p> Rina : And what were the winners in some of the other categories ? <p> Anne : Marriage equality , which was in the runoff for word of the year , actually won most likely to succeed . And I thought it was a very interesting entry . The argument was that as the country has changed its attitudes about marriage equality , we \\'ve seen the terminology shift from same-sex marriage or gay marriage to marriage equality . And people pointed out that when textbooks write this up as a movement , it will be about the movement for marriage equality . <p> Rina : Tell us about some of the other categories . <p> Anne : One of my favorites , most years , is the most creative word of the year . And there were two terrific candidates this year . One is \" mansplaining , \" which is defined as a man \\'s condescending explanation to a female audience . It \\'s designed to capture a certain kind of male behavior . It did mean that during the discussion of @ @ @ @ @ @ @ @ @ @ talking because they could easily be accused of mansplaining every time they tried to say anything , even though it was a mixed-gender audience . <p> Rina : That \\'s never happened to me , has it to you , Anne ? <p> Anne : No , never . <p> The mansplaining was up against \" gate lice \" -- a description of passengers on an airplane who crowd around the gate waiting to board . <p> Rina : I love that ! <p> Anne : I loved it , too , and I particularly liked the singular , which is gate louse . <p> Rina : And who does n\\'t know that ? Maybe we \\'ve even been a louse . <p> Anne : And now we have such a great way to talk about it . We can say , \" Look at all the gate lice . \" <p> Rina : There \\'s also the most unnecessary and the most outrageous categories . Those are more serious . <p> Anne : They are more serious . And this year the same phrase won in both categories . It @ @ @ @ @ @ @ @ @ @ Senate candidate Todd Akins . And someone pointed out when we were voting for most unnecessary , that it came up again under most outrageous on the ballot . And someone yelled out , \" It should win both . \" And it did . <p> Rina : And which word was least likely to succeed ? <p> Anne : That was a tie . One of the first I remember . It was a tie between \" YOLO , \" which our listeners over about 25 or 30 may be less familiar with . It is an acronym for \" you only live once . \" It came to prominence this year from the rapper , Drake . He had a song in which he talked about you only live once -- YOLO -- and I think there are a number of young people who got YOLO tattoos , which they are going to come to regret , because students tell me it is already very unhip . <p> YOLO tied with \" phablet , \" which is apparently a mid-sized electronic device between a smart phone and a tablet @ @ @ @ @ @ @ @ @ @ Anne : For the most useful , we had two combining forms . \" Pocalypse \" or \" mageddon , \" which you \\'ll hear people attach to things like \" snowmaggedon \" or \" oilpocalypse \" to describe a huge oil spill as a hyperbolic way to talk about a catastrophe . <p> Rina : There had to be something that came out of the elections . <p> Anne : The election phrase of the year is \" binders full of women . \" After presidential candidate Mitt Romney said that , it instantly became a hashtag , and many people have probably seen it circulating online . It beat \" 47 percent , \" which was also up for word of the year . So both 47 percent and \" fiscal cliff \" did n\\'t win anything . '"
      ]
     },
     "execution_count": 25,
     "metadata": {},
     "output_type": "execute_result"
    }
   ],
   "source": [
    "data[4]"
   ]
  },
  {
   "cell_type": "code",
   "execution_count": 26,
   "id": "082b5b99",
   "metadata": {},
   "outputs": [
    {
     "data": {
      "text/plain": [
       "'@@11243 <h> A sublime croissant at French Tart in Grant City , Staten Island . <p> French Tart chef Laurent Chavenet claims to work in the only authentic French cafe and restaurant in Staten Island . And he just might be right . Opened in 2009 , French Tart is one of those hidden gems that food lovers so often hear about in the outer boroughs , but so rarely find . Baked fresh every morning by Chavenet himself , the croissants are a work of art . The texture runs from crispy on the outside to soft and airy on the inside . According to Chavenet , the secret to making a great croissant is in quality ingredients , especially the butter , and the folding of the dough , which Chavenet demonstrates on a napkin . While the plain croissant is outstanding , the almond croissant is truly world-class . Moist , sweet and decadent , it \\'s more of a dessert than a breakfast item , but go ahead and dig in any time of day . After all , life is short . Eat dessert @ @ @ @ @ @ @ @ @ @ Colson Patisserie , in Park Slope , uses two types of flour in its croissants . <p> In 1986 , pastry chef Hubert Colson first opened his famed pastry shop in Mons , Belgium . Barely 20 years later , Yonatan Israel , a French filmmaker searching for structure and opportunity in life , opened his own shop as a tribute to his favorite pastry chef . And so the Park Slope outpost of Colson Patisserie was born . What a gift for pastry lovers in Brooklyn ! Colson \\'s croissants ( $2.45 ) seem light enough to float above the table and rich enough to melt in your mouth . Two types of flour are used in the dough , which is then folded six to eight times . Eighty croissants are made daily for the pastry shop , which is small but well-lit by a storefront of large windows . Sweet but not candied , these croissants taste like a big puff of flaky butter , which is just what every New Yorker needs to start off their day . As Israel says , \" New York is the @ @ @ @ @ @ @ @ @ @ to change that . \" <p> You ca n\\'t talk about croissants in New York City without mentioning master pastry chef Laurent Dupal and his Spring St. shop Ceci-Cela . Since his quaint cafe opened in 1992 , Dupal has consistently made some of the flakiest , butteriest , airiest croissants ( $2 ) in the five boroughs . Dupal credits fresh ingredients , a controlled setting and years of experience for the excellent taste of his croissants , hundreds of which are sold a day in the patisserie . In fact , Dupal compares baking croissants with raising a child . \" Everyone does it differently , \" he says , \" and , no matter what , you have to adjust to the temperament of the dough , which ca n\\'t be too thin or too thick . \" Take some home for the whole family . A pack of six frozen croissants costs $7 and can be baked at home . <p> YOUR TWO CENTS <p> The croissant at Chock Full o \\' Nuts Cafe ( 1611 Avenue M , Brooklyn ) is very buttery inside and outside @ @ @ @ @ @ @ @ @ @ good with a side of butter/jelly along with a cup of regular or flavored coffee or chai latte or tea . Service is very courteous , but a little slow . -- Tzivia M. <p> Stork \\'s Bakery , located at 12-42 150th St. in Whitestone , makes the perfect croissant . Its golden , flaky , light crust is pleasing to the eye , and it draws you into its succulent flavor , which is light , rich and satisfying . Be sure to get there early in the a.m. if you wish to partake in this culinary delight . They sell out quickly . -- Carol D. <p> The best croissant in the city can be found at City Bakery ( 3 W. 18th St. in Manhattan ) . The pretzel croissant , as it \\'s called , combines the rich buttery body of a typical croissant with the salty crispness of a pretzel. -- Christopher O. <p> The croissants at The Standard hotel are the tastiest in the city . The secret is in the sourdough they add to it ! Also , buttery and flaky as all @ @ @ @ @ @ @ @ @ @ the upper West Side has the best croissant I \\'ve had in NYC . It \\'s flaky on the outside , but buttery and perfectly doughy on the inside . It \\'s the best croissant I \\'ve had outside of Paris . -- Colman C. <p> YOU SUGGEST IT , WE \\'LL TEST IT <p> We \\'re in search of the best of the city , but we need your help . Send your picks for the following , and we \\'ll try them ! '"
      ]
     },
     "execution_count": 26,
     "metadata": {},
     "output_type": "execute_result"
    }
   ],
   "source": [
    "data[5]"
   ]
  },
  {
   "cell_type": "code",
   "execution_count": null,
   "id": "f018bb80",
   "metadata": {},
   "outputs": [],
   "source": []
  }
 ],
 "metadata": {
  "kernelspec": {
   "display_name": "Python 3",
   "language": "python",
   "name": "python3"
  },
  "language_info": {
   "codemirror_mode": {
    "name": "ipython",
    "version": 3
   },
   "file_extension": ".py",
   "mimetype": "text/x-python",
   "name": "python",
   "nbconvert_exporter": "python",
   "pygments_lexer": "ipython3",
   "version": "3.8.8"
  }
 },
 "nbformat": 4,
 "nbformat_minor": 5
}

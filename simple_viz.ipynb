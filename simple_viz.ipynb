{
  "nbformat": 4,
  "nbformat_minor": 0,
  "metadata": {
    "colab": {
      "name": "simple viz",
      "provenance": [],
      "collapsed_sections": []
    },
    "kernelspec": {
      "name": "python3",
      "display_name": "Python 3"
    },
    "language_info": {
      "name": "python"
    }
  },
  "cells": [
    {
      "cell_type": "code",
      "metadata": {
        "id": "X0MrZRh6kw3g"
      },
      "source": [
        "import tensorflow.keras as keras"
      ],
      "execution_count": 50,
      "outputs": []
    },
    {
      "cell_type": "code",
      "metadata": {
        "id": "ihuA9D0ZlBr1"
      },
      "source": [
        "# plotting\n",
        "import numpy as np\n",
        "import matplotlib.pyplot as plt\n",
        "%matplotlib inline\n",
        "\n",
        "# PCA\n",
        "from sklearn.decomposition import PCA, KernelPCA\n",
        "# TSNE\n",
        "from sklearn.manifold import TSNE"
      ],
      "execution_count": 55,
      "outputs": []
    },
    {
      "cell_type": "code",
      "metadata": {
        "id": "xxqHkimMv6KB"
      },
      "source": [
        "from gensim.scripts.glove2word2vec import glove2word2vec\n",
        "from gensim.models.keyedvectors import KeyedVectors"
      ],
      "execution_count": 56,
      "outputs": []
    },
    {
      "cell_type": "code",
      "metadata": {
        "id": "QL1PGntCk0uZ"
      },
      "source": [
        "model = keras.models.load_model('/content/drive/MyDrive/weights/cbow/now_500.h5')"
      ],
      "execution_count": 57,
      "outputs": []
    },
    {
      "cell_type": "code",
      "metadata": {
        "id": "I64Uc_kik7tR"
      },
      "source": [
        "weights = model.layers[0].get_weights()[0]"
      ],
      "execution_count": 58,
      "outputs": []
    },
    {
      "cell_type": "code",
      "metadata": {
        "id": "3uTib6Zo1ZKL"
      },
      "source": [
        "words = ['king', 'queen', 'prince', 'dog', 'royal', 'teacher', 'war', 'apple', 'egypt']\n",
        "idx = [2216, 3215, 9188, 2524, 2211, 5768, 1494, 2488, 13074]\n"
      ],
      "execution_count": 65,
      "outputs": []
    },
    {
      "cell_type": "code",
      "metadata": {
        "colab": {
          "base_uri": "https://localhost:8080/",
          "height": 264
        },
        "id": "BRCAYsaWxhtO",
        "outputId": "5d84577e-9598-415f-f2bb-862d9768abdd"
      },
      "source": [
        "word_embds = [weights[w] for w in idx]\n",
        "\n",
        "pca = PCA(n_components=2)\n",
        "result = pca.fit_transform(word_embds)\n",
        "\n",
        "\n",
        "plt.scatter(result[:, 0], result[:, 1])\n",
        "for i, word in enumerate(words):\n",
        "  plt.annotate(word, xy=(result[i, 0], result[i, 1]))\n",
        "\n",
        "plt.show()"
      ],
      "execution_count": 66,
      "outputs": [
        {
          "output_type": "display_data",
          "data": {
            "image/png": "[encoded data removed]",
            "text/plain": [
              "<Figure size 432x288 with 1 Axes>"
            ]
          },
          "metadata": {
            "tags": [],
            "needs_background": "light"
          }
        }
      ]
    }
  ]
}
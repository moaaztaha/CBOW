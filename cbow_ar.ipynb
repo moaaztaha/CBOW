{
 "cells": [
  {
   "cell_type": "code",
   "execution_count": 104,
   "id": "64e65b1c",
   "metadata": {},
   "outputs": [
    {
     "data": {
      "text/html": [
       "<style>.container { width:100% !important; }</style>"
      ],
      "text/plain": [
       "<IPython.core.display.HTML object>"
      ]
     },
     "metadata": {},
     "output_type": "display_data"
    }
   ],
   "source": [
    "from IPython.core.display import display, HTML\n",
    "display(HTML(\"<style>.container { width:100% !important; }</style>\"))"
   ]
  },
  {
   "cell_type": "code",
   "execution_count": 116,
   "id": "14d01097",
   "metadata": {
    "colab": {
     "base_uri": "https://localhost:8080/"
    },
    "id": "14d01097",
    "outputId": "20f8f087-304e-4de5-e561-391190ad866b"
   },
   "outputs": [],
   "source": [
    "import tensorflow.keras as keras\n",
    "from keras.preprocessing.sequence import pad_sequences\n",
    "from keras.utils.np_utils import to_categorical\n",
    "import tensorflow as tf\n",
    "import tensorflow.keras.callbacks as callbacks\n",
    "from tensorflow.keras.utils import plot_model \n",
    "\n",
    "from nltk import sent_tokenize\n",
    "from tqdm import tqdm \n",
    "import numpy as np\n",
    "import re\n",
    "import string\n",
    "import pandas as pd"
   ]
  },
  {
   "cell_type": "code",
   "execution_count": 5,
   "id": "e276f93b",
   "metadata": {
    "id": "e276f93b"
   },
   "outputs": [],
   "source": [
    "path_to_file = 'data/40000-Egyptian-tweets.xlsx'"
   ]
  },
  {
   "cell_type": "code",
   "execution_count": 6,
   "id": "fa2bb56d",
   "metadata": {
    "colab": {
     "base_uri": "https://localhost:8080/"
    },
    "id": "fa2bb56d",
    "outputId": "93ec1584-74b3-40f3-c82e-8894ed0e74e4"
   },
   "outputs": [],
   "source": [
    "df = pd.read_excel(path_to_file)"
   ]
  },
  {
   "cell_type": "code",
   "execution_count": 8,
   "id": "4ffb2b82",
   "metadata": {},
   "outputs": [],
   "source": [
    "df.drop(['label'], axis=1, inplace=True)"
   ]
  },
  {
   "cell_type": "code",
   "execution_count": 9,
   "id": "6710134c",
   "metadata": {},
   "outputs": [
    {
     "data": {
      "text/html": [
       "<div>\n",
       "<style scoped>\n",
       "    .dataframe tbody tr th:only-of-type {\n",
       "        vertical-align: middle;\n",
       "    }\n",
       "\n",
       "    .dataframe tbody tr th {\n",
       "        vertical-align: top;\n",
       "    }\n",
       "\n",
       "    .dataframe thead th {\n",
       "        text-align: right;\n",
       "    }\n",
       "</style>\n",
       "<table border=\"1\" class=\"dataframe\">\n",
       "  <thead>\n",
       "    <tr style=\"text-align: right;\">\n",
       "      <th></th>\n",
       "      <th>review</th>\n",
       "    </tr>\n",
       "  </thead>\n",
       "  <tbody>\n",
       "    <tr>\n",
       "      <th>0</th>\n",
       "      <td>اكبر خطا ترتكبه ان تعامل الناس باخلاقك انت مش ...</td>\n",
       "    </tr>\n",
       "    <tr>\n",
       "      <th>1</th>\n",
       "      <td>دائما اكره اخر ليله في كل مكان   .</td>\n",
       "    </tr>\n",
       "    <tr>\n",
       "      <th>2</th>\n",
       "      <td>يارب اللى يسرق تويتاتى يدخل النار .</td>\n",
       "    </tr>\n",
       "    <tr>\n",
       "      <th>3</th>\n",
       "      <td>الاسراف فى تناول القهوة يسبب الوفاه .</td>\n",
       "    </tr>\n",
       "    <tr>\n",
       "      <th>4</th>\n",
       "      <td>انا اتبهدلت من التراب النهارده. حاجة تقرف  .</td>\n",
       "    </tr>\n",
       "  </tbody>\n",
       "</table>\n",
       "</div>"
      ],
      "text/plain": [
       "                                              review\n",
       "0  اكبر خطا ترتكبه ان تعامل الناس باخلاقك انت مش ...\n",
       "1               دائما اكره اخر ليله في كل مكان   .  \n",
       "2              يارب اللى يسرق تويتاتى يدخل النار .  \n",
       "3            الاسراف فى تناول القهوة يسبب الوفاه .  \n",
       "4      انا اتبهدلت من التراب النهارده. حاجة تقرف  . "
      ]
     },
     "execution_count": 9,
     "metadata": {},
     "output_type": "execute_result"
    }
   ],
   "source": [
    "df.head()"
   ]
  },
  {
   "cell_type": "code",
   "execution_count": 16,
   "id": "bc35979c",
   "metadata": {},
   "outputs": [
    {
     "data": {
      "text/plain": [
       "array(['اكبر خطا ترتكبه ان تعامل الناس باخلاقك انت مش باخلاقهم هما  .  '],\n",
       "      dtype=object)"
      ]
     },
     "execution_count": 16,
     "metadata": {},
     "output_type": "execute_result"
    }
   ],
   "source": [
    "df.to_numpy()[0]"
   ]
  },
  {
   "cell_type": "code",
   "execution_count": 22,
   "id": "1d27526d",
   "metadata": {},
   "outputs": [
    {
     "data": {
      "text/plain": [
       "['اكبر خطا ترتكبه ان تعامل الناس باخلاقك انت مش باخلاقهم هما  .  ',\n",
       " 'دائما اكره اخر ليله في كل مكان   .  ']"
      ]
     },
     "execution_count": 22,
     "metadata": {},
     "output_type": "execute_result"
    }
   ],
   "source": [
    "corpus = [sent[0] for sent in df.to_numpy()]\n",
    "corpus[:2]"
   ]
  },
  {
   "cell_type": "markdown",
   "id": "23763a63",
   "metadata": {
    "id": "23763a63"
   },
   "source": [
    "### Preprocessing "
   ]
  },
  {
   "cell_type": "code",
   "execution_count": 23,
   "id": "c5e5b5fb",
   "metadata": {
    "id": "c5e5b5fb"
   },
   "outputs": [],
   "source": [
    "punctuation_string = '!\"\\\\\\\\#\\\\$%\\\\&\\\\\\(\\\\)\\\\*\\\\+,\\\\-\\\\./:;<=>\\\\?@\\\\[\\\\\\\\\\\\]\\\\^_`\\\\{\\\\|\\\\}\\\\~\\d'"
   ]
  },
  {
   "cell_type": "code",
   "execution_count": 105,
   "id": "0dee3a20",
   "metadata": {},
   "outputs": [],
   "source": [
    "import pyarabic.araby as araby\n",
    "from pyarabic.araby import strip_tashkeel, strip_tatweel, strip_tashkeel, is_arabicrange"
   ]
  },
  {
   "cell_type": "code",
   "execution_count": 179,
   "id": "cc1ee2d5",
   "metadata": {},
   "outputs": [
    {
     "data": {
      "text/plain": [
       "('ال', 'راحه')"
      ]
     },
     "execution_count": 179,
     "metadata": {},
     "output_type": "execute_result"
    }
   ],
   "source": [
    "def split_al(word):\n",
    "    if word.startswith('ال'):\n",
    "        return word[:2], word[2:]\n",
    "    else: \n",
    "        return word\n",
    "\n",
    "    \n",
    "split_al('الراحه')"
   ]
  },
  {
   "cell_type": "code",
   "execution_count": 185,
   "id": "a7fd119f",
   "metadata": {},
   "outputs": [],
   "source": [
    "def split_al_sent(sent):\n",
    "    ww = []\n",
    "    for word in sent.split():\n",
    "        out = split_al(word)\n",
    "        if type(out) is tuple:\n",
    "            for w in out:\n",
    "                ww.append(w)\n",
    "        else:\n",
    "            ww.append(word)\n",
    "    return ' '.join(w for w in ww)"
   ]
  },
  {
   "cell_type": "code",
   "execution_count": 186,
   "id": "65c5eb84",
   "metadata": {},
   "outputs": [
    {
     "data": {
      "text/plain": [
       "'ال راحه ببساطة فى ال قرآن فى ال صلاة فى ال دعاء فى...'"
      ]
     },
     "execution_count": 186,
     "metadata": {},
     "output_type": "execute_result"
    }
   ],
   "source": [
    "split_al_sent('الراحه ببساطة فى القرآن فى الصلاة فى الدعاء فى...')"
   ]
  },
  {
   "cell_type": "code",
   "execution_count": 188,
   "id": "7096a4fd",
   "metadata": {},
   "outputs": [],
   "source": [
    "conditions = [is_arabicrange]\n",
    "morphs = [strip_tashkeel, strip_tatweel]"
   ]
  },
  {
   "cell_type": "code",
   "execution_count": 189,
   "id": "39654e9c",
   "metadata": {
    "id": "39654e9c"
   },
   "outputs": [],
   "source": [
    "def preprocess(corpus):\n",
    "    sentences = sent_tokenize(' '.join(w for w in corpus))\n",
    "#     sentences = [sent.lower() for sent in sentences]\n",
    "#     sentences = [re.sub('<\\w+>', '', sent) for sent in sentences]\n",
    "    sentences = [sent.decode() for sent in \n",
    "                 tf.strings.regex_replace(sentences,f'[{punctuation_string}]', '').numpy()]\n",
    "    sentences = [split_al_sent(sent) for sent in sentences]\n",
    "    sentences = [araby.normalize_hamza(sent, method='tasheel') for sent in sentences]\n",
    "#     tokens = [word_tokenize(sent) for sent in tqdm(sentences)]\n",
    "    tokens = [araby.tokenize(sent, conditions=conditions, morphs=morphs) for sent in tqdm(sentences)]\n",
    "    # return tokenized sentences\n",
    "    return tokens"
   ]
  },
  {
   "cell_type": "code",
   "execution_count": 195,
   "id": "b2124c53",
   "metadata": {
    "colab": {
     "base_uri": "https://localhost:8080/"
    },
    "id": "b2124c53",
    "outputId": "217c5a76-9b9c-4470-d9e0-1646a56b737f"
   },
   "outputs": [
    {
     "name": "stderr",
     "output_type": "stream",
     "text": [
      "100%|██████████| 44996/44996 [00:01<00:00, 40167.37it/s]\n"
     ]
    }
   ],
   "source": [
    "tokens_list = preprocess(corpus)"
   ]
  },
  {
   "cell_type": "code",
   "execution_count": 196,
   "id": "762a2f2c",
   "metadata": {},
   "outputs": [
    {
     "data": {
      "text/plain": [
       "44996"
      ]
     },
     "execution_count": 196,
     "metadata": {},
     "output_type": "execute_result"
    }
   ],
   "source": [
    "len(tokens_list)"
   ]
  },
  {
   "cell_type": "code",
   "execution_count": 197,
   "id": "1577c700",
   "metadata": {
    "colab": {
     "base_uri": "https://localhost:8080/"
    },
    "id": "1577c700",
    "outputId": "48aaef29-fbd6-4dde-cd16-1f0e1d056a10",
    "scrolled": false
   },
   "outputs": [
    {
     "name": "stdout",
     "output_type": "stream",
     "text": [
      "['اكبر', 'خطا', 'ترتكبه', 'ان', 'تعامل', 'ال', 'ناس', 'باخلاقك', 'انت', 'مش', 'باخلاقهم', 'هما']\n"
     ]
    }
   ],
   "source": [
    "print(tokens_list[0])"
   ]
  },
  {
   "cell_type": "code",
   "execution_count": 198,
   "id": "039e7abf",
   "metadata": {
    "id": "039e7abf"
   },
   "outputs": [],
   "source": [
    "def build_vocabulary(tokens_list):\n",
    "    stoi = {}\n",
    "    itos = {}\n",
    "    idx = 0\n",
    "    \n",
    "    stoi['<pad>'] = idx\n",
    "    itos[idx] = '<pad>'\n",
    "    idx += 1\n",
    "    \n",
    "    for tokens in tqdm(tokens_list):\n",
    "        for word in tokens:\n",
    "            if word not in stoi:\n",
    "                stoi[word] = idx\n",
    "                itos[idx] = word\n",
    "                idx += 1\n",
    "    return stoi, itos"
   ]
  },
  {
   "cell_type": "code",
   "execution_count": 199,
   "id": "e71406ea",
   "metadata": {
    "colab": {
     "base_uri": "https://localhost:8080/"
    },
    "id": "e71406ea",
    "outputId": "eb1a0b1e-b7ab-4b10-c687-6b46f46128d4"
   },
   "outputs": [
    {
     "name": "stderr",
     "output_type": "stream",
     "text": [
      "100%|██████████| 44996/44996 [00:00<00:00, 365069.90it/s]\n"
     ]
    }
   ],
   "source": [
    "# remove '\n",
    "tokens_list\n",
    "stoi, itos = build_vocabulary(tokens_list)"
   ]
  },
  {
   "cell_type": "code",
   "execution_count": 200,
   "id": "3ad5d165",
   "metadata": {
    "id": "3ad5d165"
   },
   "outputs": [],
   "source": [
    "numericalized = [[stoi[w] for w in sent] for sent in tokens_list]"
   ]
  },
  {
   "cell_type": "code",
   "execution_count": 201,
   "id": "7234b995",
   "metadata": {
    "colab": {
     "base_uri": "https://localhost:8080/"
    },
    "id": "7234b995",
    "outputId": "2a69988e-2b90-461c-eaf2-bbf088fa5f1d"
   },
   "outputs": [
    {
     "name": "stdout",
     "output_type": "stream",
     "text": [
      "Vocab Size  : 49454\n",
      "Vocab Sample: [('<pad>', 0), ('اكبر', 1), ('خطا', 2), ('ترتكبه', 3), ('ان', 4)]\n"
     ]
    }
   ],
   "source": [
    "vocab_size = len(stoi)\n",
    "embed_size = 300\n",
    "window_size = 2\n",
    "\n",
    "print(f\"Vocab Size  : {vocab_size}\")\n",
    "print(f\"Vocab Sample: {list(stoi.items())[:5]}\")"
   ]
  },
  {
   "cell_type": "code",
   "execution_count": 202,
   "id": "919437ce",
   "metadata": {
    "id": "919437ce"
   },
   "outputs": [],
   "source": [
    "def generate_context_target_pairs(corpus=numericalized, window_size=2, vocab_size=vocab_size):\n",
    "    \n",
    "    context_length = window_size * 2\n",
    "    \n",
    "    for sentence in corpus:\n",
    "        sentence_length = len(sentence)\n",
    "        \n",
    "        for index, word in enumerate(sentence):\n",
    "            context_words = []\n",
    "            label_word = []\n",
    "            start = index - window_size\n",
    "            end = index + window_size + 1\n",
    "            \n",
    "            context_words.append([sentence[i] for i in range(start, end)\n",
    "                                 if 0 <= i < sentence_length and i != index])\n",
    "            label_word.append(word)\n",
    "            \n",
    "            x = pad_sequences(context_words, maxlen=context_length)\n",
    "            y = to_categorical(label_word, vocab_size)\n",
    "            yield(x[0], y[0])"
   ]
  },
  {
   "cell_type": "code",
   "execution_count": 204,
   "id": "15fd95d8",
   "metadata": {
    "colab": {
     "base_uri": "https://localhost:8080/"
    },
    "id": "15fd95d8",
    "outputId": "6c47719f-e860-446c-e479-7a54cc0c8e7b"
   },
   "outputs": [
    {
     "name": "stdout",
     "output_type": "stream",
     "text": [
      "Target: ترتكبه, Context: ['اكبر', 'خطا', 'ان', 'تعامل']\n",
      "Target: ان, Context: ['خطا', 'ترتكبه', 'تعامل', 'ال']\n",
      "Target: تعامل, Context: ['ترتكبه', 'ان', 'ال', 'ناس']\n",
      "Target: ال, Context: ['ان', 'تعامل', 'ناس', 'باخلاقك']\n",
      "Target: ناس, Context: ['تعامل', 'ال', 'باخلاقك', 'انت']\n",
      "Target: باخلاقك, Context: ['ال', 'ناس', 'انت', 'مش']\n",
      "Target: انت, Context: ['ناس', 'باخلاقك', 'مش', 'باخلاقهم']\n",
      "Target: مش, Context: ['باخلاقك', 'انت', 'باخلاقهم', 'هما']\n",
      "Target: اخر, Context: ['دايما', 'اكره', 'ليله', 'في']\n",
      "Target: ليله, Context: ['اكره', 'اخر', 'في', 'كل']\n"
     ]
    }
   ],
   "source": [
    "i = 0\n",
    "for x, y in generate_context_target_pairs(numericalized, 2, vocab_size):\n",
    "    if 0 not in x:\n",
    "        if i == 10: break\n",
    "        i+=1\n",
    "\n",
    "        print(f'Target: {itos[np.argmax(y)]}, Context: {[itos[w] for w in x]}')"
   ]
  },
  {
   "cell_type": "code",
   "execution_count": 205,
   "id": "J9OFp6bNfWzI",
   "metadata": {
    "colab": {
     "base_uri": "https://localhost:8080/"
    },
    "id": "J9OFp6bNfWzI",
    "outputId": "1bd04f50-9217-49a2-89cc-397640595b8a"
   },
   "outputs": [
    {
     "data": {
      "text/plain": [
       "([None, 4], [None, 49454])"
      ]
     },
     "execution_count": 205,
     "metadata": {},
     "output_type": "execute_result"
    }
   ],
   "source": [
    "output_shapes = ([None, window_size*2],[None, vocab_size])\n",
    "output_shapes"
   ]
  },
  {
   "cell_type": "code",
   "execution_count": 206,
   "id": "eYXGjsibE0dH",
   "metadata": {
    "id": "eYXGjsibE0dH"
   },
   "outputs": [],
   "source": [
    "output_shapes = ([window_size*2],[vocab_size])\n",
    "dataset = tf.data.Dataset.from_generator(generate_context_target_pairs, (tf.int32, tf.int32), output_shapes=output_shapes)\n",
    "dataset = dataset.batch(1000)"
   ]
  },
  {
   "cell_type": "code",
   "execution_count": 207,
   "id": "qoc3fNijFhwJ",
   "metadata": {
    "colab": {
     "base_uri": "https://localhost:8080/",
     "height": 402
    },
    "id": "qoc3fNijFhwJ",
    "outputId": "b5fe46f3-34db-4017-b47e-fda1a22aa2ee"
   },
   "outputs": [
    {
     "name": "stdout",
     "output_type": "stream",
     "text": [
      "(1000, 4) (1000, 49454)\n"
     ]
    }
   ],
   "source": [
    "for batch, (x, y) in enumerate(dataset):\n",
    "    break\n",
    "    #print(\"batch: \", batch)\n",
    "print(x.shape, y.shape)"
   ]
  },
  {
   "cell_type": "code",
   "execution_count": 155,
   "id": "92110bc5",
   "metadata": {
    "id": "92110bc5"
   },
   "outputs": [],
   "source": [
    "from keras.models import Sequential\n",
    "from keras.layers import Dense, Embedding, Lambda\n",
    "\n",
    "model = Sequential([\n",
    "    Embedding(input_dim=vocab_size, output_dim=embed_size, input_length=window_size*2),\n",
    "    Lambda(lambda x: keras.backend.mean(x, axis=1), output_shape=(embed_size)),\n",
    "    Dense(vocab_size, activation='softmax')\n",
    "])\n",
    "\n",
    "model.compile(loss='categorical_crossentropy', optimizer='adam', metrics=['accuracy'])"
   ]
  },
  {
   "cell_type": "code",
   "execution_count": 156,
   "id": "fb3a97fa",
   "metadata": {
    "colab": {
     "base_uri": "https://localhost:8080/"
    },
    "id": "fb3a97fa",
    "outputId": "5150d00d-4d97-45c3-b32e-f5915dc84639",
    "scrolled": true
   },
   "outputs": [
    {
     "name": "stdout",
     "output_type": "stream",
     "text": [
      "Model: \"sequential_1\"\n",
      "_________________________________________________________________\n",
      "Layer (type)                 Output Shape              Param #   \n",
      "=================================================================\n",
      "embedding_1 (Embedding)      (None, 4, 300)            174600    \n",
      "_________________________________________________________________\n",
      "lambda_1 (Lambda)            (None, 300)               0         \n",
      "_________________________________________________________________\n",
      "dense_1 (Dense)              (None, 582)               175182    \n",
      "=================================================================\n",
      "Total params: 349,782\n",
      "Trainable params: 349,782\n",
      "Non-trainable params: 0\n",
      "_________________________________________________________________\n"
     ]
    }
   ],
   "source": [
    "model.summary()"
   ]
  },
  {
   "cell_type": "code",
   "execution_count": 157,
   "id": "34abdf49",
   "metadata": {
    "colab": {
     "base_uri": "https://localhost:8080/",
     "height": 421
    },
    "id": "34abdf49",
    "outputId": "afe6a51e-9216-4fe8-a1b4-069baac8da35",
    "scrolled": true
   },
   "outputs": [
    {
     "name": "stdout",
     "output_type": "stream",
     "text": [
      "('You must install pydot (`pip install pydot`) and install graphviz (see instructions at https://graphviz.gitlab.io/download/) ', 'for plot_model/model_to_dot to work.')\n"
     ]
    }
   ],
   "source": [
    "plot_model(model,show_shapes=True, show_layer_names=True, rankdir='TB', expand_nested=True)"
   ]
  },
  {
   "cell_type": "code",
   "execution_count": 158,
   "id": "dda46620",
   "metadata": {
    "id": "dda46620"
   },
   "outputs": [],
   "source": [
    "# google_drive_path = '/content/drive/MyDrive/weights/cbow/now_1000.h5'\n",
    "google_drive_path = 'models/test_ar.h5'"
   ]
  },
  {
   "cell_type": "code",
   "execution_count": 159,
   "id": "tcuFVYxLDU6J",
   "metadata": {
    "colab": {
     "base_uri": "https://localhost:8080/"
    },
    "id": "tcuFVYxLDU6J",
    "outputId": "b3656b3c-6dd6-4534-a397-8906f97fde7f"
   },
   "outputs": [
    {
     "name": "stdout",
     "output_type": "stream",
     "text": [
      "1/1 [==============================] - 13s 13s/step - loss: 6.3656 - accuracy: 0.0013\n",
      "\n",
      "Epoch 00001: loss improved from inf to 6.36562, saving model to models/test_ar.h5\n"
     ]
    }
   ],
   "source": [
    "early_stopping_cb = callbacks.EarlyStopping(monitor='loss', patience=4, verbose=True)\n",
    "checkpoint_cb = callbacks.ModelCheckpoint(google_drive_path, monitor='loss', verbose=True, save_best_only=True)\n",
    "tensorboard_callback = callbacks.TensorBoard(log_dir=\"logs\")\n",
    "\n",
    "callbacks_list = [early_stopping_cb, checkpoint_cb, tensorboard_callback]\n",
    "\n",
    "history = model.fit(dataset, epochs=1, callbacks=callbacks_list)"
   ]
  }
 ],
 "metadata": {
  "accelerator": "GPU",
  "colab": {
   "collapsed_sections": [],
   "name": "different sizes",
   "provenance": [],
   "toc_visible": true
  },
  "kernelspec": {
   "display_name": "Python 3",
   "language": "python",
   "name": "python3"
  },
  "language_info": {
   "codemirror_mode": {
    "name": "ipython",
    "version": 3
   },
   "file_extension": ".py",
   "mimetype": "text/x-python",
   "name": "python",
   "nbconvert_exporter": "python",
   "pygments_lexer": "ipython3",
   "version": "3.8.8"
  }
 },
 "nbformat": 4,
 "nbformat_minor": 5
}

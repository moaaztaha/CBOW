{
 "cells": [
  {
   "cell_type": "code",
   "execution_count": 1,
   "id": "14d01097",
   "metadata": {
    "colab": {
     "base_uri": "https://localhost:8080/"
    },
    "id": "14d01097",
    "outputId": "dc9b2eb7-5ffd-4e7c-bbc1-5f8570dbdc14"
   },
   "outputs": [],
   "source": [
    "import tensorflow.keras as keras\n",
    "from tensorflow.keras.preprocessing.sequence import pad_sequences\n",
    "from tensorflow.keras.utils import to_categorical\n",
    "import tensorflow as tf\n",
    "import tensorflow.keras.callbacks as callbacks\n",
    "from tensorflow.keras.utils import plot_model \n",
    "\n",
    "from nltk import sent_tokenize\n",
    "import nltk\n",
    "from tqdm import tqdm \n",
    "import numpy as np\n",
    "import re\n",
    "import string\n",
    "import pandas as pd\n",
    "from collections import OrderedDict"
   ]
  },
  {
   "cell_type": "code",
   "execution_count": 2,
   "id": "a7c1f121",
   "metadata": {},
   "outputs": [],
   "source": [
    "# !pip install pyarabic\n",
    "# nltk.download('punkt')"
   ]
  },
  {
   "cell_type": "code",
   "execution_count": 4,
   "id": "e276f93b",
   "metadata": {
    "id": "e276f93b"
   },
   "outputs": [],
   "source": [
    "path_to_file = 'data/40000-Egyptian-tweets.xlsx'"
   ]
  },
  {
   "cell_type": "code",
   "execution_count": 5,
   "id": "fa2bb56d",
   "metadata": {
    "id": "fa2bb56d"
   },
   "outputs": [],
   "source": [
    "df = pd.read_excel(path_to_file)"
   ]
  },
  {
   "cell_type": "code",
   "execution_count": 6,
   "id": "4ffb2b82",
   "metadata": {
    "id": "4ffb2b82"
   },
   "outputs": [],
   "source": [
    "df.drop(['label'], axis=1, inplace=True)"
   ]
  },
  {
   "cell_type": "code",
   "execution_count": 7,
   "id": "6710134c",
   "metadata": {
    "colab": {
     "base_uri": "https://localhost:8080/",
     "height": 196
    },
    "id": "6710134c",
    "outputId": "9180e5c4-8063-415e-c08b-0f1aab07aa22"
   },
   "outputs": [
    {
     "data": {
      "text/html": [
       "<div>\n",
       "<style scoped>\n",
       "    .dataframe tbody tr th:only-of-type {\n",
       "        vertical-align: middle;\n",
       "    }\n",
       "\n",
       "    .dataframe tbody tr th {\n",
       "        vertical-align: top;\n",
       "    }\n",
       "\n",
       "    .dataframe thead th {\n",
       "        text-align: right;\n",
       "    }\n",
       "</style>\n",
       "<table border=\"1\" class=\"dataframe\">\n",
       "  <thead>\n",
       "    <tr style=\"text-align: right;\">\n",
       "      <th></th>\n",
       "      <th>review</th>\n",
       "    </tr>\n",
       "  </thead>\n",
       "  <tbody>\n",
       "    <tr>\n",
       "      <th>0</th>\n",
       "      <td>اكبر خطا ترتكبه ان تعامل الناس باخلاقك انت مش ...</td>\n",
       "    </tr>\n",
       "    <tr>\n",
       "      <th>1</th>\n",
       "      <td>دائما اكره اخر ليله في كل مكان   .</td>\n",
       "    </tr>\n",
       "    <tr>\n",
       "      <th>2</th>\n",
       "      <td>يارب اللى يسرق تويتاتى يدخل النار .</td>\n",
       "    </tr>\n",
       "    <tr>\n",
       "      <th>3</th>\n",
       "      <td>الاسراف فى تناول القهوة يسبب الوفاه .</td>\n",
       "    </tr>\n",
       "    <tr>\n",
       "      <th>4</th>\n",
       "      <td>انا اتبهدلت من التراب النهارده. حاجة تقرف  .</td>\n",
       "    </tr>\n",
       "  </tbody>\n",
       "</table>\n",
       "</div>"
      ],
      "text/plain": [
       "                                              review\n",
       "0  اكبر خطا ترتكبه ان تعامل الناس باخلاقك انت مش ...\n",
       "1               دائما اكره اخر ليله في كل مكان   .  \n",
       "2              يارب اللى يسرق تويتاتى يدخل النار .  \n",
       "3            الاسراف فى تناول القهوة يسبب الوفاه .  \n",
       "4      انا اتبهدلت من التراب النهارده. حاجة تقرف  . "
      ]
     },
     "execution_count": 7,
     "metadata": {},
     "output_type": "execute_result"
    }
   ],
   "source": [
    "df.head()"
   ]
  },
  {
   "cell_type": "code",
   "execution_count": 8,
   "id": "bc35979c",
   "metadata": {
    "colab": {
     "base_uri": "https://localhost:8080/"
    },
    "id": "bc35979c",
    "outputId": "9e27b979-2b21-44a5-8d6b-9331b35a0827"
   },
   "outputs": [
    {
     "data": {
      "text/plain": [
       "array(['اكبر خطا ترتكبه ان تعامل الناس باخلاقك انت مش باخلاقهم هما  .  '],\n",
       "      dtype=object)"
      ]
     },
     "execution_count": 8,
     "metadata": {},
     "output_type": "execute_result"
    }
   ],
   "source": [
    "df.to_numpy()[0]"
   ]
  },
  {
   "cell_type": "code",
   "execution_count": 9,
   "id": "1d27526d",
   "metadata": {
    "colab": {
     "base_uri": "https://localhost:8080/"
    },
    "id": "1d27526d",
    "outputId": "cee3bdae-c9b4-4b08-e5cc-1b5f041de4fb"
   },
   "outputs": [
    {
     "data": {
      "text/plain": [
       "['اكبر خطا ترتكبه ان تعامل الناس باخلاقك انت مش باخلاقهم هما  .  ',\n",
       " 'دائما اكره اخر ليله في كل مكان   .  ']"
      ]
     },
     "execution_count": 9,
     "metadata": {},
     "output_type": "execute_result"
    }
   ],
   "source": [
    "corpus = [sent[0] for sent in df.to_numpy()]\n",
    "corpus[:2]"
   ]
  },
  {
   "cell_type": "markdown",
   "id": "23763a63",
   "metadata": {
    "id": "23763a63"
   },
   "source": [
    "### Preprocessing "
   ]
  },
  {
   "cell_type": "code",
   "execution_count": 10,
   "id": "c5e5b5fb",
   "metadata": {
    "id": "c5e5b5fb"
   },
   "outputs": [],
   "source": [
    "punctuation_string = '!\"\\\\\\\\#\\\\$%\\\\&\\\\\\(\\\\)\\\\*\\\\+,\\\\-\\\\./:;<=>\\\\?@\\\\[\\\\\\\\\\\\]\\\\^_`\\\\{\\\\|\\\\}\\\\~\\d'"
   ]
  },
  {
   "cell_type": "code",
   "execution_count": 11,
   "id": "0dee3a20",
   "metadata": {
    "id": "0dee3a20"
   },
   "outputs": [],
   "source": [
    "import pyarabic.araby as araby\n",
    "from pyarabic.araby import strip_tashkeel, strip_tatweel, strip_tashkeel, is_arabicrange"
   ]
  },
  {
   "cell_type": "code",
   "execution_count": 12,
   "id": "cc1ee2d5",
   "metadata": {
    "colab": {
     "base_uri": "https://localhost:8080/"
    },
    "id": "cc1ee2d5",
    "outputId": "8f8e21fb-b50e-498c-d5cb-6963a73479fd"
   },
   "outputs": [
    {
     "data": {
      "text/plain": [
       "('ال', 'راحه')"
      ]
     },
     "execution_count": 12,
     "metadata": {},
     "output_type": "execute_result"
    }
   ],
   "source": [
    "def split_al(word):\n",
    "    if word.startswith('ال'):\n",
    "        return word[:2], word[2:]\n",
    "    else: \n",
    "        return word\n",
    "\n",
    "    \n",
    "split_al('الراحه')"
   ]
  },
  {
   "cell_type": "code",
   "execution_count": 13,
   "id": "a7fd119f",
   "metadata": {
    "id": "a7fd119f"
   },
   "outputs": [],
   "source": [
    "def split_al_sent(sent):\n",
    "    ww = []\n",
    "    for word in sent.split():\n",
    "        out = split_al(word)\n",
    "        if type(out) is tuple:\n",
    "            for w in out:\n",
    "                ww.append(w)\n",
    "        else:\n",
    "            ww.append(word)\n",
    "    return ' '.join(w for w in ww)"
   ]
  },
  {
   "cell_type": "code",
   "execution_count": 14,
   "id": "65c5eb84",
   "metadata": {
    "colab": {
     "base_uri": "https://localhost:8080/",
     "height": 35
    },
    "id": "65c5eb84",
    "outputId": "236771e4-dab0-4818-ce3c-b766147660eb"
   },
   "outputs": [
    {
     "data": {
      "text/plain": [
       "'ال راحه ببساطة فى ال قرآن فى ال صلاة فى ال دعاء فى...'"
      ]
     },
     "execution_count": 14,
     "metadata": {},
     "output_type": "execute_result"
    }
   ],
   "source": [
    "split_al_sent('الراحه ببساطة فى القرآن فى الصلاة فى الدعاء فى...')"
   ]
  },
  {
   "cell_type": "code",
   "execution_count": 15,
   "id": "7096a4fd",
   "metadata": {
    "id": "7096a4fd"
   },
   "outputs": [],
   "source": [
    "conditions = [is_arabicrange]\n",
    "morphs = [strip_tashkeel, strip_tatweel]"
   ]
  },
  {
   "cell_type": "code",
   "execution_count": 16,
   "id": "39654e9c",
   "metadata": {
    "id": "39654e9c"
   },
   "outputs": [],
   "source": [
    "def preprocess(corpus):\n",
    "    sentences = sent_tokenize(' '.join(w for w in corpus))\n",
    "#     sentences = [sent.lower() for sent in sentences]\n",
    "#     sentences = [re.sub('<\\w+>', '', sent) for sent in sentences]\n",
    "    sentences = [sent.decode() for sent in \n",
    "                 tf.strings.regex_replace(sentences,f'[{punctuation_string}]', '').numpy()]\n",
    "    sentences = [split_al_sent(sent) for sent in sentences]\n",
    "    sentences = [araby.normalize_hamza(sent, method='tasheel') for sent in sentences]\n",
    "#     tokens = [word_tokenize(sent) for sent in tqdm(sentences)]\n",
    "    tokens = [araby.tokenize(sent, conditions=conditions, morphs=morphs) for sent in tqdm(sentences)]\n",
    "    # return tokenized sentences\n",
    "    return tokens"
   ]
  },
  {
   "cell_type": "code",
   "execution_count": 17,
   "id": "b2124c53",
   "metadata": {
    "colab": {
     "base_uri": "https://localhost:8080/"
    },
    "id": "b2124c53",
    "outputId": "a9c01630-0fb9-4576-864d-6e8a78125b32"
   },
   "outputs": [
    {
     "name": "stderr",
     "output_type": "stream",
     "text": [
      "100%|██████████| 44996/44996 [00:01<00:00, 43183.28it/s]\n"
     ]
    }
   ],
   "source": [
    "tokens_list = preprocess(corpus)"
   ]
  },
  {
   "cell_type": "code",
   "execution_count": 18,
   "id": "762a2f2c",
   "metadata": {
    "colab": {
     "base_uri": "https://localhost:8080/"
    },
    "id": "762a2f2c",
    "outputId": "b8632baa-9284-4981-fba9-2c615622989c"
   },
   "outputs": [
    {
     "data": {
      "text/plain": [
       "44996"
      ]
     },
     "execution_count": 18,
     "metadata": {},
     "output_type": "execute_result"
    }
   ],
   "source": [
    "len(tokens_list)"
   ]
  },
  {
   "cell_type": "code",
   "execution_count": 19,
   "id": "1577c700",
   "metadata": {
    "colab": {
     "base_uri": "https://localhost:8080/"
    },
    "id": "1577c700",
    "outputId": "98476d17-c072-49bd-dd34-56a677703b20",
    "scrolled": false
   },
   "outputs": [
    {
     "name": "stdout",
     "output_type": "stream",
     "text": [
      "['اكبر', 'خطا', 'ترتكبه', 'ان', 'تعامل', 'ال', 'ناس', 'باخلاقك', 'انت', 'مش', 'باخلاقهم', 'هما']\n"
     ]
    }
   ],
   "source": [
    "print(tokens_list[0])"
   ]
  },
  {
   "cell_type": "code",
   "execution_count": 21,
   "id": "039e7abf",
   "metadata": {
    "id": "039e7abf"
   },
   "outputs": [],
   "source": [
    "def build_vocabulary(tokens_list, top_n=10000):\n",
    "    freqs = {}\n",
    "\n",
    "    # get the freqs\n",
    "    for tokens in tqdm(tokens_list):\n",
    "        for word in tokens:\n",
    "            if word not in freqs:\n",
    "                freqs[word] = 1\n",
    "            else:\n",
    "                freqs[word] += 1\n",
    "    # sort the freqs\n",
    "    freqs = OrderedDict(sorted(freqs.items(), key=lambda x: x[1], reverse=True))\n",
    "    \n",
    "    # get the first top_n words\n",
    "    top_n_words = list(freqs)[:top_n]\n",
    "    \n",
    "    \n",
    "    stoi = {'<pad>': 0, '<unk>': 1}\n",
    "    itos = {0: '<pad>', 1: '<unk>'}\n",
    "    idx = 2\n",
    "    \n",
    "    for word in tqdm(top_n_words):\n",
    "        if word not in stoi:\n",
    "            stoi[word] = idx\n",
    "            itos[idx] = word\n",
    "            idx += 1\n",
    "    \n",
    "    \n",
    "    return stoi, itos"
   ]
  },
  {
   "cell_type": "code",
   "execution_count": 22,
   "id": "e71406ea",
   "metadata": {
    "colab": {
     "base_uri": "https://localhost:8080/"
    },
    "id": "e71406ea",
    "outputId": "cb1bb623-6c01-4be3-bf49-c7cccb92ed24"
   },
   "outputs": [
    {
     "name": "stderr",
     "output_type": "stream",
     "text": [
      "100%|██████████| 44996/44996 [00:00<00:00, 328938.07it/s]\n",
      "100%|██████████| 10000/10000 [00:00<00:00, 1430526.60it/s]\n"
     ]
    }
   ],
   "source": [
    "stoi, itos = build_vocabulary(tokens_list)"
   ]
  },
  {
   "cell_type": "code",
   "execution_count": 23,
   "id": "58008f6c",
   "metadata": {},
   "outputs": [],
   "source": [
    "def numericalize(tokens_list):\n",
    "    numericalized = []\n",
    "    for sent in tqdm(tokens_list):\n",
    "        n_set = []\n",
    "        for w in sent:\n",
    "            if w in stoi:\n",
    "                n_set.append(stoi[w])\n",
    "            else:\n",
    "                n_set.append(stoi['<unk>'])\n",
    "        numericalized.append(n_set)\n",
    "    \n",
    "    return numericalized"
   ]
  },
  {
   "cell_type": "code",
   "execution_count": 24,
   "id": "3ad5d165",
   "metadata": {
    "id": "3ad5d165"
   },
   "outputs": [
    {
     "name": "stderr",
     "output_type": "stream",
     "text": [
      "100%|██████████| 44996/44996 [00:00<00:00, 191667.66it/s]\n"
     ]
    }
   ],
   "source": [
    "numericalized = numericalize(tokens_list)"
   ]
  },
  {
   "cell_type": "code",
   "execution_count": 25,
   "id": "7234b995",
   "metadata": {
    "colab": {
     "base_uri": "https://localhost:8080/"
    },
    "id": "7234b995",
    "outputId": "33cb5168-9648-40fb-dd5d-4b58c3ee8c39"
   },
   "outputs": [
    {
     "name": "stdout",
     "output_type": "stream",
     "text": [
      "Vocab Size  : 10002\n",
      "Vocab Sample: [('<pad>', 0), ('<unk>', 1), ('ال', 2), ('من', 3), ('انا', 4)]\n"
     ]
    }
   ],
   "source": [
    "vocab_size = len(stoi)\n",
    "embed_size = 300\n",
    "window_size = 2\n",
    "\n",
    "print(f\"Vocab Size  : {vocab_size}\")\n",
    "print(f\"Vocab Sample: {list(stoi.items())[:5]}\")"
   ]
  },
  {
   "cell_type": "code",
   "execution_count": 26,
   "id": "919437ce",
   "metadata": {
    "id": "919437ce"
   },
   "outputs": [],
   "source": [
    "def generate_context_target_pairs(corpus=numericalized, window_size=2, vocab_size=vocab_size):\n",
    "    \n",
    "    context_length = window_size * 2\n",
    "    \n",
    "    for sentence in corpus:\n",
    "        sentence_length = len(sentence)\n",
    "        \n",
    "        for index, word in enumerate(sentence):\n",
    "            context_words = []\n",
    "            label_word = []\n",
    "            start = index - window_size\n",
    "            end = index + window_size + 1\n",
    "            \n",
    "            context_words.append([sentence[i] for i in range(start, end)\n",
    "                                 if 0 <= i < sentence_length and i != index])\n",
    "            label_word.append(word)\n",
    "            \n",
    "            x = pad_sequences(context_words, maxlen=context_length)\n",
    "            y = to_categorical(label_word, vocab_size)\n",
    "            yield(x[0], y[0])"
   ]
  },
  {
   "cell_type": "code",
   "execution_count": 27,
   "id": "15fd95d8",
   "metadata": {
    "colab": {
     "base_uri": "https://localhost:8080/"
    },
    "id": "15fd95d8",
    "outputId": "fdc525c1-cb73-406f-8e59-775f8047b702"
   },
   "outputs": [
    {
     "name": "stdout",
     "output_type": "stream",
     "text": [
      "Target: <unk>, Context: ['اكبر', 'خطا', 'ان', 'تعامل']\n",
      "Target: ان, Context: ['خطا', '<unk>', 'تعامل', 'ال']\n",
      "Target: تعامل, Context: ['<unk>', 'ان', 'ال', 'ناس']\n",
      "Target: ال, Context: ['ان', 'تعامل', 'ناس', '<unk>']\n",
      "Target: ناس, Context: ['تعامل', 'ال', '<unk>', 'انت']\n",
      "Target: <unk>, Context: ['ال', 'ناس', 'انت', 'مش']\n",
      "Target: انت, Context: ['ناس', '<unk>', 'مش', 'باخلاقهم']\n",
      "Target: مش, Context: ['<unk>', 'انت', 'باخلاقهم', 'هما']\n",
      "Target: اخر, Context: ['دايما', 'اكره', 'ليله', 'في']\n",
      "Target: ليله, Context: ['اكره', 'اخر', 'في', 'كل']\n"
     ]
    }
   ],
   "source": [
    "i = 0\n",
    "for x, y in generate_context_target_pairs(numericalized, 2, vocab_size):\n",
    "    if 0 not in x:\n",
    "        if i == 10: break\n",
    "        i+=1\n",
    "\n",
    "        print(f'Target: {itos[np.argmax(y)]}, Context: {[itos[w] for w in x]}')"
   ]
  },
  {
   "cell_type": "code",
   "execution_count": 28,
   "id": "J9OFp6bNfWzI",
   "metadata": {
    "colab": {
     "base_uri": "https://localhost:8080/"
    },
    "id": "J9OFp6bNfWzI",
    "outputId": "17978f7c-e66b-4c52-9c26-9c86585df65b"
   },
   "outputs": [
    {
     "data": {
      "text/plain": [
       "([None, 4], [None, 10002])"
      ]
     },
     "execution_count": 28,
     "metadata": {},
     "output_type": "execute_result"
    }
   ],
   "source": [
    "output_shapes = ([None, window_size*2],[None, vocab_size])\n",
    "output_shapes"
   ]
  },
  {
   "cell_type": "code",
   "execution_count": 29,
   "id": "eYXGjsibE0dH",
   "metadata": {
    "id": "eYXGjsibE0dH"
   },
   "outputs": [],
   "source": [
    "output_shapes = ([window_size*2],[vocab_size])\n",
    "dataset = tf.data.Dataset.from_generator(generate_context_target_pairs, (tf.int32, tf.int32), output_shapes=output_shapes)\n",
    "dataset = dataset.batch(1000)"
   ]
  },
  {
   "cell_type": "code",
   "execution_count": 30,
   "id": "qoc3fNijFhwJ",
   "metadata": {
    "colab": {
     "base_uri": "https://localhost:8080/"
    },
    "id": "qoc3fNijFhwJ",
    "outputId": "3c7c218b-5439-48ef-c805-19c0c81e3696"
   },
   "outputs": [
    {
     "name": "stdout",
     "output_type": "stream",
     "text": [
      "(1000, 4) (1000, 10002)\n"
     ]
    }
   ],
   "source": [
    "for batch, (x, y) in enumerate(dataset):\n",
    "    break\n",
    "    #print(\"batch: \", batch)\n",
    "print(x.shape, y.shape)"
   ]
  },
  {
   "cell_type": "code",
   "execution_count": 34,
   "id": "92110bc5",
   "metadata": {
    "id": "92110bc5"
   },
   "outputs": [],
   "source": [
    "from tensorflow.keras.models import Sequential\n",
    "from tensorflow.keras.layers import Dense, Embedding, Lambda\n",
    "\n",
    "model = Sequential([\n",
    "    Embedding(input_dim=vocab_size, output_dim=embed_size, input_length=window_size*2),\n",
    "    Lambda(lambda x: keras.backend.mean(x, axis=1), output_shape=(embed_size)),\n",
    "    Dense(vocab_size, activation='softmax')\n",
    "])\n",
    "\n",
    "model.compile(loss='categorical_crossentropy', optimizer='adam', metrics=['accuracy'])"
   ]
  },
  {
   "cell_type": "code",
   "execution_count": 35,
   "id": "fb3a97fa",
   "metadata": {
    "colab": {
     "base_uri": "https://localhost:8080/"
    },
    "id": "fb3a97fa",
    "outputId": "7b7fd174-98bc-454b-e65f-2c7b6463ca9e",
    "scrolled": true
   },
   "outputs": [
    {
     "name": "stdout",
     "output_type": "stream",
     "text": [
      "Model: \"sequential\"\n",
      "_________________________________________________________________\n",
      "Layer (type)                 Output Shape              Param #   \n",
      "=================================================================\n",
      "embedding (Embedding)        (None, 4, 300)            3000600   \n",
      "_________________________________________________________________\n",
      "lambda (Lambda)              (None, 300)               0         \n",
      "_________________________________________________________________\n",
      "dense (Dense)                (None, 10002)             3010602   \n",
      "=================================================================\n",
      "Total params: 6,011,202\n",
      "Trainable params: 6,011,202\n",
      "Non-trainable params: 0\n",
      "_________________________________________________________________\n"
     ]
    }
   ],
   "source": [
    "model.summary()"
   ]
  },
  {
   "cell_type": "code",
   "execution_count": 36,
   "id": "34abdf49",
   "metadata": {
    "colab": {
     "base_uri": "https://localhost:8080/",
     "height": 421
    },
    "id": "34abdf49",
    "outputId": "fc1b2d56-1e89-4706-87d5-46e2f02b7e21",
    "scrolled": true
   },
   "outputs": [
    {
     "name": "stdout",
     "output_type": "stream",
     "text": [
      "('Failed to import pydot. You must `pip install pydot` and install graphviz (https://graphviz.gitlab.io/download/), ', 'for `pydotprint` to work.')\n"
     ]
    }
   ],
   "source": [
    "plot_model(model,show_shapes=True, show_layer_names=True, rankdir='TB', expand_nested=True)"
   ]
  },
  {
   "cell_type": "code",
   "execution_count": 37,
   "id": "dda46620",
   "metadata": {
    "id": "dda46620"
   },
   "outputs": [],
   "source": [
    "#google_drive_path = '/content/drive/MyDrive/weights/cbow/ar_full.h5'\n",
    "google_drive_path = 'models/local_test_ar_10k.h5'"
   ]
  },
  {
   "cell_type": "code",
   "execution_count": 38,
   "id": "tcuFVYxLDU6J",
   "metadata": {
    "colab": {
     "base_uri": "https://localhost:8080/"
    },
    "id": "tcuFVYxLDU6J",
    "outputId": "1cc8fbfd-95da-4f92-cf5c-34eedb8935db"
   },
   "outputs": [
    {
     "name": "stdout",
     "output_type": "stream",
     "text": [
      "Epoch 1/30\n",
      "414/414 [==============================] - 217s 522ms/step - loss: 7.8110 - accuracy: 0.1297\n",
      "\n",
      "Epoch 00001: loss improved from inf to 6.96490, saving model to models/local_test_ar_10k.h5\n",
      "Epoch 2/30\n",
      " 24/414 [>.............................] - ETA: 3:26 - loss: 6.3676 - accuracy: 0.1619"
     ]
    },
    {
     "ename": "KeyboardInterrupt",
     "evalue": "",
     "output_type": "error",
     "traceback": [
      "\u001b[0;31m---------------------------------------------------------------------------\u001b[0m",
      "\u001b[0;31mKeyboardInterrupt\u001b[0m                         Traceback (most recent call last)",
      "\u001b[0;32m<ipython-input-38-ac47cf3c1f25>\u001b[0m in \u001b[0;36m<module>\u001b[0;34m\u001b[0m\n\u001b[1;32m      5\u001b[0m \u001b[0mcallbacks_list\u001b[0m \u001b[0;34m=\u001b[0m \u001b[0;34m[\u001b[0m\u001b[0mearly_stopping_cb\u001b[0m\u001b[0;34m,\u001b[0m \u001b[0mcheckpoint_cb\u001b[0m\u001b[0;34m,\u001b[0m \u001b[0mtensorboard_callback\u001b[0m\u001b[0;34m]\u001b[0m\u001b[0;34m\u001b[0m\u001b[0;34m\u001b[0m\u001b[0m\n\u001b[1;32m      6\u001b[0m \u001b[0;34m\u001b[0m\u001b[0m\n\u001b[0;32m----> 7\u001b[0;31m \u001b[0mhistory\u001b[0m \u001b[0;34m=\u001b[0m \u001b[0mmodel\u001b[0m\u001b[0;34m.\u001b[0m\u001b[0mfit\u001b[0m\u001b[0;34m(\u001b[0m\u001b[0mdataset\u001b[0m\u001b[0;34m,\u001b[0m \u001b[0mepochs\u001b[0m\u001b[0;34m=\u001b[0m\u001b[0;36m30\u001b[0m\u001b[0;34m,\u001b[0m \u001b[0mcallbacks\u001b[0m\u001b[0;34m=\u001b[0m\u001b[0mcallbacks_list\u001b[0m\u001b[0;34m)\u001b[0m\u001b[0;34m\u001b[0m\u001b[0;34m\u001b[0m\u001b[0m\n\u001b[0m",
      "\u001b[0;32m~/anaconda3/envs/colab/lib/python3.7/site-packages/tensorflow/python/keras/engine/training.py\u001b[0m in \u001b[0;36mfit\u001b[0;34m(self, x, y, batch_size, epochs, verbose, callbacks, validation_split, validation_data, shuffle, class_weight, sample_weight, initial_epoch, steps_per_epoch, validation_steps, validation_batch_size, validation_freq, max_queue_size, workers, use_multiprocessing)\u001b[0m\n\u001b[1;32m   1098\u001b[0m                 _r=1):\n\u001b[1;32m   1099\u001b[0m               \u001b[0mcallbacks\u001b[0m\u001b[0;34m.\u001b[0m\u001b[0mon_train_batch_begin\u001b[0m\u001b[0;34m(\u001b[0m\u001b[0mstep\u001b[0m\u001b[0;34m)\u001b[0m\u001b[0;34m\u001b[0m\u001b[0;34m\u001b[0m\u001b[0m\n\u001b[0;32m-> 1100\u001b[0;31m               \u001b[0mtmp_logs\u001b[0m \u001b[0;34m=\u001b[0m \u001b[0mself\u001b[0m\u001b[0;34m.\u001b[0m\u001b[0mtrain_function\u001b[0m\u001b[0;34m(\u001b[0m\u001b[0miterator\u001b[0m\u001b[0;34m)\u001b[0m\u001b[0;34m\u001b[0m\u001b[0;34m\u001b[0m\u001b[0m\n\u001b[0m\u001b[1;32m   1101\u001b[0m               \u001b[0;32mif\u001b[0m \u001b[0mdata_handler\u001b[0m\u001b[0;34m.\u001b[0m\u001b[0mshould_sync\u001b[0m\u001b[0;34m:\u001b[0m\u001b[0;34m\u001b[0m\u001b[0;34m\u001b[0m\u001b[0m\n\u001b[1;32m   1102\u001b[0m                 \u001b[0mcontext\u001b[0m\u001b[0;34m.\u001b[0m\u001b[0masync_wait\u001b[0m\u001b[0;34m(\u001b[0m\u001b[0;34m)\u001b[0m\u001b[0;34m\u001b[0m\u001b[0;34m\u001b[0m\u001b[0m\n",
      "\u001b[0;32m~/anaconda3/envs/colab/lib/python3.7/site-packages/tensorflow/python/eager/def_function.py\u001b[0m in \u001b[0;36m__call__\u001b[0;34m(self, *args, **kwds)\u001b[0m\n\u001b[1;32m    826\u001b[0m     \u001b[0mtracing_count\u001b[0m \u001b[0;34m=\u001b[0m \u001b[0mself\u001b[0m\u001b[0;34m.\u001b[0m\u001b[0mexperimental_get_tracing_count\u001b[0m\u001b[0;34m(\u001b[0m\u001b[0;34m)\u001b[0m\u001b[0;34m\u001b[0m\u001b[0;34m\u001b[0m\u001b[0m\n\u001b[1;32m    827\u001b[0m     \u001b[0;32mwith\u001b[0m \u001b[0mtrace\u001b[0m\u001b[0;34m.\u001b[0m\u001b[0mTrace\u001b[0m\u001b[0;34m(\u001b[0m\u001b[0mself\u001b[0m\u001b[0;34m.\u001b[0m\u001b[0m_name\u001b[0m\u001b[0;34m)\u001b[0m \u001b[0;32mas\u001b[0m \u001b[0mtm\u001b[0m\u001b[0;34m:\u001b[0m\u001b[0;34m\u001b[0m\u001b[0;34m\u001b[0m\u001b[0m\n\u001b[0;32m--> 828\u001b[0;31m       \u001b[0mresult\u001b[0m \u001b[0;34m=\u001b[0m \u001b[0mself\u001b[0m\u001b[0;34m.\u001b[0m\u001b[0m_call\u001b[0m\u001b[0;34m(\u001b[0m\u001b[0;34m*\u001b[0m\u001b[0margs\u001b[0m\u001b[0;34m,\u001b[0m \u001b[0;34m**\u001b[0m\u001b[0mkwds\u001b[0m\u001b[0;34m)\u001b[0m\u001b[0;34m\u001b[0m\u001b[0;34m\u001b[0m\u001b[0m\n\u001b[0m\u001b[1;32m    829\u001b[0m       \u001b[0mcompiler\u001b[0m \u001b[0;34m=\u001b[0m \u001b[0;34m\"xla\"\u001b[0m \u001b[0;32mif\u001b[0m \u001b[0mself\u001b[0m\u001b[0;34m.\u001b[0m\u001b[0m_experimental_compile\u001b[0m \u001b[0;32melse\u001b[0m \u001b[0;34m\"nonXla\"\u001b[0m\u001b[0;34m\u001b[0m\u001b[0;34m\u001b[0m\u001b[0m\n\u001b[1;32m    830\u001b[0m       \u001b[0mnew_tracing_count\u001b[0m \u001b[0;34m=\u001b[0m \u001b[0mself\u001b[0m\u001b[0;34m.\u001b[0m\u001b[0mexperimental_get_tracing_count\u001b[0m\u001b[0;34m(\u001b[0m\u001b[0;34m)\u001b[0m\u001b[0;34m\u001b[0m\u001b[0;34m\u001b[0m\u001b[0m\n",
      "\u001b[0;32m~/anaconda3/envs/colab/lib/python3.7/site-packages/tensorflow/python/eager/def_function.py\u001b[0m in \u001b[0;36m_call\u001b[0;34m(self, *args, **kwds)\u001b[0m\n\u001b[1;32m    853\u001b[0m       \u001b[0;31m# In this case we have created variables on the first call, so we run the\u001b[0m\u001b[0;34m\u001b[0m\u001b[0;34m\u001b[0m\u001b[0;34m\u001b[0m\u001b[0m\n\u001b[1;32m    854\u001b[0m       \u001b[0;31m# defunned version which is guaranteed to never create variables.\u001b[0m\u001b[0;34m\u001b[0m\u001b[0;34m\u001b[0m\u001b[0;34m\u001b[0m\u001b[0m\n\u001b[0;32m--> 855\u001b[0;31m       \u001b[0;32mreturn\u001b[0m \u001b[0mself\u001b[0m\u001b[0;34m.\u001b[0m\u001b[0m_stateless_fn\u001b[0m\u001b[0;34m(\u001b[0m\u001b[0;34m*\u001b[0m\u001b[0margs\u001b[0m\u001b[0;34m,\u001b[0m \u001b[0;34m**\u001b[0m\u001b[0mkwds\u001b[0m\u001b[0;34m)\u001b[0m  \u001b[0;31m# pylint: disable=not-callable\u001b[0m\u001b[0;34m\u001b[0m\u001b[0;34m\u001b[0m\u001b[0m\n\u001b[0m\u001b[1;32m    856\u001b[0m     \u001b[0;32melif\u001b[0m \u001b[0mself\u001b[0m\u001b[0;34m.\u001b[0m\u001b[0m_stateful_fn\u001b[0m \u001b[0;32mis\u001b[0m \u001b[0;32mnot\u001b[0m \u001b[0;32mNone\u001b[0m\u001b[0;34m:\u001b[0m\u001b[0;34m\u001b[0m\u001b[0;34m\u001b[0m\u001b[0m\n\u001b[1;32m    857\u001b[0m       \u001b[0;31m# Release the lock early so that multiple threads can perform the call\u001b[0m\u001b[0;34m\u001b[0m\u001b[0;34m\u001b[0m\u001b[0;34m\u001b[0m\u001b[0m\n",
      "\u001b[0;32m~/anaconda3/envs/colab/lib/python3.7/site-packages/tensorflow/python/eager/function.py\u001b[0m in \u001b[0;36m__call__\u001b[0;34m(self, *args, **kwargs)\u001b[0m\n\u001b[1;32m   2941\u001b[0m        filtered_flat_args) = self._maybe_define_function(args, kwargs)\n\u001b[1;32m   2942\u001b[0m     return graph_function._call_flat(\n\u001b[0;32m-> 2943\u001b[0;31m         filtered_flat_args, captured_inputs=graph_function.captured_inputs)  # pylint: disable=protected-access\n\u001b[0m\u001b[1;32m   2944\u001b[0m \u001b[0;34m\u001b[0m\u001b[0m\n\u001b[1;32m   2945\u001b[0m   \u001b[0;34m@\u001b[0m\u001b[0mproperty\u001b[0m\u001b[0;34m\u001b[0m\u001b[0;34m\u001b[0m\u001b[0m\n",
      "\u001b[0;32m~/anaconda3/envs/colab/lib/python3.7/site-packages/tensorflow/python/eager/function.py\u001b[0m in \u001b[0;36m_call_flat\u001b[0;34m(self, args, captured_inputs, cancellation_manager)\u001b[0m\n\u001b[1;32m   1917\u001b[0m       \u001b[0;31m# No tape is watching; skip to running the function.\u001b[0m\u001b[0;34m\u001b[0m\u001b[0;34m\u001b[0m\u001b[0;34m\u001b[0m\u001b[0m\n\u001b[1;32m   1918\u001b[0m       return self._build_call_outputs(self._inference_function.call(\n\u001b[0;32m-> 1919\u001b[0;31m           ctx, args, cancellation_manager=cancellation_manager))\n\u001b[0m\u001b[1;32m   1920\u001b[0m     forward_backward = self._select_forward_and_backward_functions(\n\u001b[1;32m   1921\u001b[0m         \u001b[0margs\u001b[0m\u001b[0;34m,\u001b[0m\u001b[0;34m\u001b[0m\u001b[0;34m\u001b[0m\u001b[0m\n",
      "\u001b[0;32m~/anaconda3/envs/colab/lib/python3.7/site-packages/tensorflow/python/eager/function.py\u001b[0m in \u001b[0;36mcall\u001b[0;34m(self, ctx, args, cancellation_manager)\u001b[0m\n\u001b[1;32m    558\u001b[0m               \u001b[0minputs\u001b[0m\u001b[0;34m=\u001b[0m\u001b[0margs\u001b[0m\u001b[0;34m,\u001b[0m\u001b[0;34m\u001b[0m\u001b[0;34m\u001b[0m\u001b[0m\n\u001b[1;32m    559\u001b[0m               \u001b[0mattrs\u001b[0m\u001b[0;34m=\u001b[0m\u001b[0mattrs\u001b[0m\u001b[0;34m,\u001b[0m\u001b[0;34m\u001b[0m\u001b[0;34m\u001b[0m\u001b[0m\n\u001b[0;32m--> 560\u001b[0;31m               ctx=ctx)\n\u001b[0m\u001b[1;32m    561\u001b[0m         \u001b[0;32melse\u001b[0m\u001b[0;34m:\u001b[0m\u001b[0;34m\u001b[0m\u001b[0;34m\u001b[0m\u001b[0m\n\u001b[1;32m    562\u001b[0m           outputs = execute.execute_with_cancellation(\n",
      "\u001b[0;32m~/anaconda3/envs/colab/lib/python3.7/site-packages/tensorflow/python/eager/execute.py\u001b[0m in \u001b[0;36mquick_execute\u001b[0;34m(op_name, num_outputs, inputs, attrs, ctx, name)\u001b[0m\n\u001b[1;32m     58\u001b[0m     \u001b[0mctx\u001b[0m\u001b[0;34m.\u001b[0m\u001b[0mensure_initialized\u001b[0m\u001b[0;34m(\u001b[0m\u001b[0;34m)\u001b[0m\u001b[0;34m\u001b[0m\u001b[0;34m\u001b[0m\u001b[0m\n\u001b[1;32m     59\u001b[0m     tensors = pywrap_tfe.TFE_Py_Execute(ctx._handle, device_name, op_name,\n\u001b[0;32m---> 60\u001b[0;31m                                         inputs, attrs, num_outputs)\n\u001b[0m\u001b[1;32m     61\u001b[0m   \u001b[0;32mexcept\u001b[0m \u001b[0mcore\u001b[0m\u001b[0;34m.\u001b[0m\u001b[0m_NotOkStatusException\u001b[0m \u001b[0;32mas\u001b[0m \u001b[0me\u001b[0m\u001b[0;34m:\u001b[0m\u001b[0;34m\u001b[0m\u001b[0;34m\u001b[0m\u001b[0m\n\u001b[1;32m     62\u001b[0m     \u001b[0;32mif\u001b[0m \u001b[0mname\u001b[0m \u001b[0;32mis\u001b[0m \u001b[0;32mnot\u001b[0m \u001b[0;32mNone\u001b[0m\u001b[0;34m:\u001b[0m\u001b[0;34m\u001b[0m\u001b[0;34m\u001b[0m\u001b[0m\n",
      "\u001b[0;31mKeyboardInterrupt\u001b[0m: "
     ]
    }
   ],
   "source": [
    "early_stopping_cb = callbacks.EarlyStopping(monitor='loss', patience=4, verbose=True)\n",
    "checkpoint_cb = callbacks.ModelCheckpoint(google_drive_path, monitor='loss', verbose=True, save_best_only=True)\n",
    "tensorboard_callback = callbacks.TensorBoard(log_dir=\"logs\")\n",
    "\n",
    "callbacks_list = [early_stopping_cb, checkpoint_cb, tensorboard_callback]\n",
    "\n",
    "history = model.fit(dataset, epochs=30, callbacks=callbacks_list)"
   ]
  }
 ],
 "metadata": {
  "accelerator": "GPU",
  "colab": {
   "collapsed_sections": [],
   "name": "different sizes",
   "provenance": []
  },
  "kernelspec": {
   "display_name": "Python 3",
   "language": "python",
   "name": "python3"
  },
  "language_info": {
   "codemirror_mode": {
    "name": "ipython",
    "version": 3
   },
   "file_extension": ".py",
   "mimetype": "text/x-python",
   "name": "python",
   "nbconvert_exporter": "python",
   "pygments_lexer": "ipython3",
   "version": "3.7.1"
  }
 },
 "nbformat": 4,
 "nbformat_minor": 5
}

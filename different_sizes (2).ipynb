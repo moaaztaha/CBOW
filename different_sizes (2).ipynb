{
  "nbformat": 4,
  "nbformat_minor": 5,
  "metadata": {
    "accelerator": "GPU",
    "colab": {
      "name": "different sizes",
      "provenance": [],
      "collapsed_sections": []
    },
    "kernelspec": {
      "display_name": "Python 3",
      "language": "python",
      "name": "python3"
    },
    "language_info": {
      "codemirror_mode": {
        "name": "ipython",
        "version": 3
      },
      "file_extension": ".py",
      "mimetype": "text/x-python",
      "name": "python",
      "nbconvert_exporter": "python",
      "pygments_lexer": "ipython3",
      "version": "3.8.8"
    }
  },
  "cells": [
    {
      "cell_type": "code",
      "metadata": {
        "colab": {
          "base_uri": "https://localhost:8080/"
        },
        "id": "HeLOMlp2UfvL",
        "outputId": "8ce488fe-897e-4944-a565-8fce69d23e5f"
      },
      "source": [
        "!nvidia-smi"
      ],
      "id": "HeLOMlp2UfvL",
      "execution_count": null,
      "outputs": [
        {
          "output_type": "stream",
          "text": [
            "Sat May 22 09:38:53 2021       \n",
            "+-----------------------------------------------------------------------------+\n",
            "| NVIDIA-SMI 465.19.01    Driver Version: 460.32.03    CUDA Version: 11.2     |\n",
            "|-------------------------------+----------------------+----------------------+\n",
            "| GPU  Name        Persistence-M| Bus-Id        Disp.A | Volatile Uncorr. ECC |\n",
            "| Fan  Temp  Perf  Pwr:Usage/Cap|         Memory-Usage | GPU-Util  Compute M. |\n",
            "|                               |                      |               MIG M. |\n",
            "|===============================+======================+======================|\n",
            "|   0  Tesla T4            Off  | 00000000:00:04.0 Off |                    0 |\n",
            "| N/A   43C    P8    10W /  70W |      0MiB / 15109MiB |      0%      Default |\n",
            "|                               |                      |                  N/A |\n",
            "+-------------------------------+----------------------+----------------------+\n",
            "                                                                               \n",
            "+-----------------------------------------------------------------------------+\n",
            "| Processes:                                                                  |\n",
            "|  GPU   GI   CI        PID   Type   Process name                  GPU Memory |\n",
            "|        ID   ID                                                   Usage      |\n",
            "|=============================================================================|\n",
            "|  No running processes found                                                 |\n",
            "+-----------------------------------------------------------------------------+\n"
          ],
          "name": "stdout"
        }
      ]
    },
    {
      "cell_type": "code",
      "metadata": {
        "id": "14d01097",
        "colab": {
          "base_uri": "https://localhost:8080/"
        },
        "outputId": "c0aa9e87-adfb-4e9e-b757-516aa79fbccd"
      },
      "source": [
        "import tensorflow.keras as keras\n",
        "from keras.preprocessing.text import Tokenizer\n",
        "from keras.preprocessing.text import text_to_word_sequence\n",
        "from keras.preprocessing.sequence import pad_sequences\n",
        "from keras.utils.np_utils import to_categorical\n",
        "import tensorflow as tf\n",
        "import tensorflow.keras.callbacks as callbacks\n",
        "from tensorflow.keras.utils import plot_model \n",
        "\n",
        "\n",
        "from nltk import word_tokenize, sent_tokenize\n",
        "import nltk\n",
        "nltk.download('punkt')\n",
        "from tqdm import tqdm \n",
        "import numpy as np\n",
        "import re\n",
        "import string"
      ],
      "id": "14d01097",
      "execution_count": null,
      "outputs": [
        {
          "output_type": "stream",
          "text": [
            "[nltk_data] Downloading package punkt to /root/nltk_data...\n",
            "[nltk_data]   Package punkt is already up-to-date!\n"
          ],
          "name": "stdout"
        }
      ]
    },
    {
      "cell_type": "code",
      "metadata": {
        "colab": {
          "base_uri": "https://localhost:8080/"
        },
        "id": "b0oJ7rj2Uk-2",
        "outputId": "69d8a7d9-e725-4d3d-8908-5e5c7668c117"
      },
      "source": [
        "!wget https://www.corpusdata.org/now/samples/text.zip\n",
        "!unzip -q text.zip"
      ],
      "id": "b0oJ7rj2Uk-2",
      "execution_count": null,
      "outputs": [
        {
          "output_type": "stream",
          "text": [
            "--2021-05-22 09:39:21--  https://www.corpusdata.org/now/samples/text.zip\n",
            "Resolving www.corpusdata.org (www.corpusdata.org)... 209.90.108.238\n",
            "Connecting to www.corpusdata.org (www.corpusdata.org)|209.90.108.238|:443... connected.\n",
            "HTTP request sent, awaiting response... 200 OK\n",
            "Length: 3797519 (3.6M) [application/x-zip-compressed]\n",
            "Saving to: ‘text.zip’\n",
            "\n",
            "text.zip            100%[===================>]   3.62M   933KB/s    in 4.0s    \n",
            "\n",
            "2021-05-22 09:39:26 (933 KB/s) - ‘text.zip’ saved [3797519/3797519]\n",
            "\n"
          ],
          "name": "stdout"
        }
      ]
    },
    {
      "cell_type": "code",
      "metadata": {
        "id": "e276f93b"
      },
      "source": [
        "path_to_file = 'text.txt'"
      ],
      "id": "e276f93b",
      "execution_count": null,
      "outputs": []
    },
    {
      "cell_type": "code",
      "metadata": {
        "colab": {
          "base_uri": "https://localhost:8080/"
        },
        "id": "fa2bb56d",
        "outputId": "1afd8c96-6ba5-4bec-fa5f-4651d2063c9f"
      },
      "source": [
        "with open(path_to_file) as f:\n",
        "    corpus = f.read().splitlines()\n",
        "len(corpus)"
      ],
      "id": "fa2bb56d",
      "execution_count": null,
      "outputs": [
        {
          "output_type": "execute_result",
          "data": {
            "text/plain": [
              "2917"
            ]
          },
          "metadata": {
            "tags": []
          },
          "execution_count": 132
        }
      ]
    },
    {
      "cell_type": "markdown",
      "metadata": {
        "id": "23763a63"
      },
      "source": [
        "### Preprocessing "
      ],
      "id": "23763a63"
    },
    {
      "cell_type": "code",
      "metadata": {
        "id": "c5e5b5fb"
      },
      "source": [
        "punctuation_string = '!\"\\\\\\\\#\\\\$%\\\\&\\\\\\(\\\\)\\\\*\\\\+,\\\\-\\\\./:;<=>\\\\?@\\\\[\\\\\\\\\\\\]\\\\^_`\\\\{\\\\|\\\\}\\\\~\\d'"
      ],
      "id": "c5e5b5fb",
      "execution_count": null,
      "outputs": []
    },
    {
      "cell_type": "code",
      "metadata": {
        "id": "39654e9c"
      },
      "source": [
        "def preprocess(corpus):\n",
        "    sentences = sent_tokenize(' '.join(w for w in corpus))\n",
        "    sentences = [sent.lower() for sent in sentences]\n",
        "    sentences = [re.sub('<\\w+>', '', sent) for sent in sentences]\n",
        "    sentences = [sent.decode() for sent in \n",
        "                 tf.strings.regex_replace(sentences,f'[{punctuation_string}]', '').numpy()]\n",
        "    \n",
        "    tokens = [word_tokenize(sent) for sent in tqdm(sentences)]\n",
        "    \n",
        "    # return tokenized sentences\n",
        "    return tokens"
      ],
      "id": "39654e9c",
      "execution_count": null,
      "outputs": []
    },
    {
      "cell_type": "code",
      "metadata": {
        "id": "b2124c53",
        "colab": {
          "base_uri": "https://localhost:8080/"
        },
        "outputId": "cac8da9b-def2-4809-b27b-c6b694cef733"
      },
      "source": [
        "tokens_list = preprocess(corpus[3:103])"
      ],
      "id": "b2124c53",
      "execution_count": null,
      "outputs": [
        {
          "output_type": "stream",
          "text": [
            "\n",
            "  0%|          | 0/2949 [00:00<?, ?it/s]\u001b[A\n",
            " 28%|██▊       | 817/2949 [00:00<00:00, 8159.27it/s]\u001b[A\n",
            " 55%|█████▍    | 1613/2949 [00:00<00:00, 8095.53it/s]\u001b[A\n",
            "100%|██████████| 2949/2949 [00:00<00:00, 7769.15it/s]\n"
          ],
          "name": "stderr"
        }
      ]
    },
    {
      "cell_type": "code",
      "metadata": {
        "scrolled": true,
        "id": "40961fd0",
        "colab": {
          "base_uri": "https://localhost:8080/"
        },
        "outputId": "41f5efcc-372a-42c2-e79a-bc70d9235dca"
      },
      "source": [
        "len(tokens_list)"
      ],
      "id": "40961fd0",
      "execution_count": null,
      "outputs": [
        {
          "output_type": "execute_result",
          "data": {
            "text/plain": [
              "2949"
            ]
          },
          "metadata": {
            "tags": []
          },
          "execution_count": 148
        }
      ]
    },
    {
      "cell_type": "code",
      "metadata": {
        "scrolled": false,
        "id": "1577c700",
        "colab": {
          "base_uri": "https://localhost:8080/"
        },
        "outputId": "05500e6e-7058-434d-cc3c-514778e07880"
      },
      "source": [
        "print(tokens_list[0][:5])"
      ],
      "id": "1577c700",
      "execution_count": null,
      "outputs": [
        {
          "output_type": "stream",
          "text": [
            "['sol', 'yurick', 'the', 'writer', 'whose']\n"
          ],
          "name": "stdout"
        }
      ]
    },
    {
      "cell_type": "code",
      "metadata": {
        "id": "039e7abf"
      },
      "source": [
        "def build_vocabulary(tokens_list):\n",
        "    stoi = {}\n",
        "    itos = {}\n",
        "    idx = 0\n",
        "    \n",
        "    stoi['<pad>'] = idx\n",
        "    itos[idx] = '<pad>'\n",
        "    idx += 1\n",
        "    \n",
        "    for tokens in tqdm(tokens_list):\n",
        "        for word in tokens:\n",
        "            if word not in stoi:\n",
        "                stoi[word] = idx\n",
        "                itos[idx] = word\n",
        "                idx += 1\n",
        "    return stoi, itos"
      ],
      "id": "039e7abf",
      "execution_count": null,
      "outputs": []
    },
    {
      "cell_type": "code",
      "metadata": {
        "id": "e71406ea",
        "colab": {
          "base_uri": "https://localhost:8080/"
        },
        "outputId": "bbcd38a0-aef1-4d10-b515-c7aba361b584"
      },
      "source": [
        "# remove '\n",
        "tokens_list\n",
        "stoi, itos = build_vocabulary(tokens_list)"
      ],
      "id": "e71406ea",
      "execution_count": null,
      "outputs": [
        {
          "output_type": "stream",
          "text": [
            "\n",
            "100%|██████████| 2949/2949 [00:00<00:00, 214319.17it/s]\n"
          ],
          "name": "stderr"
        }
      ]
    },
    {
      "cell_type": "code",
      "metadata": {
        "id": "3ad5d165"
      },
      "source": [
        "numericalized = [[stoi[w] for w in sent] for sent in tokens_list]"
      ],
      "id": "3ad5d165",
      "execution_count": null,
      "outputs": []
    },
    {
      "cell_type": "code",
      "metadata": {
        "colab": {
          "base_uri": "https://localhost:8080/"
        },
        "id": "7234b995",
        "outputId": "8b12edb4-3a50-462c-b2fe-e3aa1682e768"
      },
      "source": [
        "vocab_size = len(stoi)\n",
        "embed_size = 300\n",
        "window_size = 2\n",
        "\n",
        "print(f\"Vocab Size  : {vocab_size}\")\n",
        "print(f\"Vocab Sample: {list(stoi.items())[:5]}\")"
      ],
      "id": "7234b995",
      "execution_count": null,
      "outputs": [
        {
          "output_type": "stream",
          "text": [
            "Vocab Size  : 9969\n",
            "Vocab Sample: [('<pad>', 0), ('sol', 1), ('yurick', 2), ('the', 3), ('writer', 4)]\n"
          ],
          "name": "stdout"
        }
      ]
    },
    {
      "cell_type": "code",
      "metadata": {
        "id": "919437ce"
      },
      "source": [
        "def generate_context_target_pairs(corpus=numericalized, window_size=2, vocab_size=vocab_size):\n",
        "    \n",
        "    context_length = window_size * 2\n",
        "    \n",
        "    for sentence in corpus:\n",
        "        sentence_length = len(sentence)\n",
        "        \n",
        "        for index, word in enumerate(sentence):\n",
        "            context_words = []\n",
        "            label_word = []\n",
        "            start = index - window_size\n",
        "            end = index + window_size + 1\n",
        "            \n",
        "            context_words.append([sentence[i] for i in range(start, end)\n",
        "                                 if 0 <= i < sentence_length and i != index])\n",
        "            label_word.append(word)\n",
        "            \n",
        "            x = pad_sequences(context_words, maxlen=context_length)\n",
        "            y = to_categorical(label_word, vocab_size)\n",
        "            yield(x[0], y[0])"
      ],
      "id": "919437ce",
      "execution_count": null,
      "outputs": []
    },
    {
      "cell_type": "code",
      "metadata": {
        "colab": {
          "base_uri": "https://localhost:8080/"
        },
        "id": "15fd95d8",
        "outputId": "41bbe00f-b950-49c9-9784-b4aac9847d63"
      },
      "source": [
        "i = 0\n",
        "for x, y in generate_context_target_pairs(numericalized, 2, vocab_size):\n",
        "    if 0 not in x:\n",
        "        if i == 10: break\n",
        "        i+=1\n",
        "\n",
        "        print(f'Target: {itos[np.argmax(y)]}, Context: {[itos[w] for w in x]}')"
      ],
      "id": "15fd95d8",
      "execution_count": null,
      "outputs": [
        {
          "output_type": "stream",
          "text": [
            "Target: the, Context: ['sol', 'yurick', 'writer', 'whose']\n",
            "Target: writer, Context: ['yurick', 'the', 'whose', 'novel']\n",
            "Target: whose, Context: ['the', 'writer', 'novel', 'the']\n",
            "Target: novel, Context: ['writer', 'whose', 'the', 'warriors']\n",
            "Target: the, Context: ['whose', 'novel', 'warriors', 'was']\n",
            "Target: warriors, Context: ['novel', 'the', 'was', 'adapted']\n",
            "Target: was, Context: ['the', 'warriors', 'adapted', 'into']\n",
            "Target: adapted, Context: ['warriors', 'was', 'into', 'a']\n",
            "Target: into, Context: ['was', 'adapted', 'a', 'film']\n",
            "Target: a, Context: ['adapted', 'into', 'film', 'years']\n"
          ],
          "name": "stdout"
        }
      ]
    },
    {
      "cell_type": "code",
      "metadata": {
        "colab": {
          "base_uri": "https://localhost:8080/"
        },
        "id": "J9OFp6bNfWzI",
        "outputId": "c5fa157c-b6e1-484d-8a3d-f961bc38dcc7"
      },
      "source": [
        "output_shapes = ([None, window_size*2],[None, vocab_size])\n",
        "output_shapes"
      ],
      "id": "J9OFp6bNfWzI",
      "execution_count": null,
      "outputs": [
        {
          "output_type": "execute_result",
          "data": {
            "text/plain": [
              "([None, 4], [None, 9969])"
            ]
          },
          "metadata": {
            "tags": []
          },
          "execution_count": 156
        }
      ]
    },
    {
      "cell_type": "code",
      "metadata": {
        "id": "eYXGjsibE0dH"
      },
      "source": [
        "output_shapes = ([window_size*2],[vocab_size])\n",
        "dataset = tf.data.Dataset.from_generator(generate_context_target_pairs, (tf.int32, tf.int32), output_shapes=output_shapes)\n",
        "dataset = dataset.batch(10000)"
      ],
      "id": "eYXGjsibE0dH",
      "execution_count": null,
      "outputs": []
    },
    {
      "cell_type": "code",
      "metadata": {
        "colab": {
          "base_uri": "https://localhost:8080/"
        },
        "id": "qoc3fNijFhwJ",
        "outputId": "050deeb2-e3f0-4895-8d8a-8a7dae124959"
      },
      "source": [
        "for batch, (x, y) in tqdm(enumerate(dataset)):\n",
        "    break\n",
        "    #print(\"batch: \", batch)\n",
        "    # if x.shape != (1000, 4) or y.shape != (1000, 37188):\n",
        "print(x.shape, y.shape)"
      ],
      "id": "qoc3fNijFhwJ",
      "execution_count": null,
      "outputs": [
        {
          "output_type": "stream",
          "text": [
            "\n",
            "\n",
            "0it [00:00, ?it/s]\u001b[A\u001b[A"
          ],
          "name": "stderr"
        },
        {
          "output_type": "stream",
          "text": [
            "(10000, 4) (10000, 9969)\n"
          ],
          "name": "stdout"
        }
      ]
    },
    {
      "cell_type": "code",
      "metadata": {
        "id": "92110bc5"
      },
      "source": [
        "from keras.models import Sequential\n",
        "from keras.layers import Dense, Embedding, Lambda\n",
        "\n",
        "model = Sequential([\n",
        "    Embedding(input_dim=vocab_size, output_dim=embed_size, input_length=window_size*2),\n",
        "    Lambda(lambda x: keras.backend.mean(x, axis=1), output_shape=(embed_size)),\n",
        "    Dense(vocab_size, activation='softmax')\n",
        "])\n",
        "\n",
        "model.compile(loss='categorical_crossentropy', optimizer='adam', metrics=['accuracy'])"
      ],
      "id": "92110bc5",
      "execution_count": null,
      "outputs": []
    },
    {
      "cell_type": "code",
      "metadata": {
        "colab": {
          "base_uri": "https://localhost:8080/"
        },
        "id": "fb3a97fa",
        "scrolled": true,
        "outputId": "55823cf8-b69e-4451-d88f-3ad569c09c14"
      },
      "source": [
        "model.summary()"
      ],
      "id": "fb3a97fa",
      "execution_count": null,
      "outputs": [
        {
          "output_type": "stream",
          "text": [
            "Model: \"sequential_7\"\n",
            "_________________________________________________________________\n",
            "Layer (type)                 Output Shape              Param #   \n",
            "=================================================================\n",
            "embedding_7 (Embedding)      (None, 4, 300)            2990700   \n",
            "_________________________________________________________________\n",
            "lambda_7 (Lambda)            (None, 300)               0         \n",
            "_________________________________________________________________\n",
            "dense_7 (Dense)              (None, 9969)              3000669   \n",
            "=================================================================\n",
            "Total params: 5,991,369\n",
            "Trainable params: 5,991,369\n",
            "Non-trainable params: 0\n",
            "_________________________________________________________________\n"
          ],
          "name": "stdout"
        }
      ]
    },
    {
      "cell_type": "code",
      "metadata": {
        "colab": {
          "base_uri": "https://localhost:8080/",
          "height": 421
        },
        "id": "34abdf49",
        "outputId": "c5a2fc35-a6a5-4637-fae4-7fbf67c41757"
      },
      "source": [
        "plot_model(model,show_shapes=True, show_layer_names=True, rankdir='TB', expand_nested=True)"
      ],
      "id": "34abdf49",
      "execution_count": null,
      "outputs": [
        {
          "output_type": "execute_result",
          "data": {
            "image/png": "[encoded data removed]",
            "text/plain": [
              "<IPython.core.display.Image object>"
            ]
          },
          "metadata": {
            "tags": []
          },
          "execution_count": 169
        }
      ]
    },
    {
      "cell_type": "code",
      "metadata": {
        "id": "dda46620"
      },
      "source": [
        "google_drive_path = '/content/drive/MyDrive/weights/cbow/now_small.h5'"
      ],
      "id": "dda46620",
      "execution_count": null,
      "outputs": []
    },
    {
      "cell_type": "code",
      "metadata": {
        "colab": {
          "base_uri": "https://localhost:8080/"
        },
        "id": "tcuFVYxLDU6J",
        "outputId": "12f687bf-ffb6-4b79-f915-f3e87a2f6e88"
      },
      "source": [
        "early_stopping_cb = callbacks.EarlyStopping(monitor='loss', patience=4, verbose=True)\n",
        "checkpoint_cb = callbacks.ModelCheckpoint(google_drive_path, monitor='loss', verbose=True, save_best_only=True)\n",
        "tensorboard_callback = callbacks.TensorBoard(log_dir=\"logs\")\n",
        "\n",
        "callbacks_list = [early_stopping_cb, checkpoint_cb, tensorboard_callback]\n",
        "\n",
        "history = model.fit(dataset, epochs=50, callbacks=callbacks_list)"
      ],
      "id": "tcuFVYxLDU6J",
      "execution_count": null,
      "outputs": [
        {
          "output_type": "stream",
          "text": [
            "Epoch 1/50\n",
            "7/7 [==============================] - 18s 2s/step - loss: 9.2048 - accuracy: 0.0058\n",
            "\n",
            "Epoch 00001: loss improved from inf to 9.20322, saving model to /content/drive/MyDrive/weights/cbow/now_small.h5\n",
            "Epoch 2/50\n",
            "7/7 [==============================] - 16s 2s/step - loss: 9.1893 - accuracy: 0.0612\n",
            "\n",
            "Epoch 00002: loss improved from 9.20322 to 9.18728, saving model to /content/drive/MyDrive/weights/cbow/now_small.h5\n",
            "Epoch 3/50\n",
            "7/7 [==============================] - 16s 2s/step - loss: 9.1676 - accuracy: 0.0875\n",
            "\n",
            "Epoch 00003: loss improved from 9.18728 to 9.16392, saving model to /content/drive/MyDrive/weights/cbow/now_small.h5\n",
            "Epoch 4/50\n",
            "7/7 [==============================] - 16s 2s/step - loss: 9.1331 - accuracy: 0.0902\n",
            "\n",
            "Epoch 00004: loss improved from 9.16392 to 9.12650, saving model to /content/drive/MyDrive/weights/cbow/now_small.h5\n",
            "Epoch 5/50\n",
            "7/7 [==============================] - 16s 2s/step - loss: 9.0785 - accuracy: 0.0885\n",
            "\n",
            "Epoch 00005: loss improved from 9.12650 to 9.06759, saving model to /content/drive/MyDrive/weights/cbow/now_small.h5\n",
            "Epoch 6/50\n",
            "7/7 [==============================] - 16s 2s/step - loss: 8.9963 - accuracy: 0.0864\n",
            "\n",
            "Epoch 00006: loss improved from 9.06759 to 8.97959, saving model to /content/drive/MyDrive/weights/cbow/now_small.h5\n",
            "Epoch 7/50\n",
            "7/7 [==============================] - 16s 2s/step - loss: 8.8800 - accuracy: 0.0833\n",
            "\n",
            "Epoch 00007: loss improved from 8.97959 to 8.85644, saving model to /content/drive/MyDrive/weights/cbow/now_small.h5\n",
            "Epoch 8/50\n",
            "7/7 [==============================] - 16s 2s/step - loss: 8.7264 - accuracy: 0.0805\n",
            "\n",
            "Epoch 00008: loss improved from 8.85644 to 8.69541, saving model to /content/drive/MyDrive/weights/cbow/now_small.h5\n",
            "Epoch 9/50\n",
            "7/7 [==============================] - 16s 2s/step - loss: 8.5369 - accuracy: 0.0780\n",
            "\n",
            "Epoch 00009: loss improved from 8.69541 to 8.49891, saving model to /content/drive/MyDrive/weights/cbow/now_small.h5\n",
            "Epoch 10/50\n",
            "7/7 [==============================] - 16s 2s/step - loss: 8.3195 - accuracy: 0.0771\n",
            "\n",
            "Epoch 00010: loss improved from 8.49891 to 8.27585, saving model to /content/drive/MyDrive/weights/cbow/now_small.h5\n",
            "Epoch 11/50\n",
            "7/7 [==============================] - 16s 2s/step - loss: 8.0886 - accuracy: 0.0770\n",
            "\n",
            "Epoch 00011: loss improved from 8.27585 to 8.04185, saving model to /content/drive/MyDrive/weights/cbow/now_small.h5\n",
            "Epoch 12/50\n",
            "7/7 [==============================] - 16s 2s/step - loss: 7.8639 - accuracy: 0.0776\n",
            "\n",
            "Epoch 00012: loss improved from 8.04185 to 7.81694, saving model to /content/drive/MyDrive/weights/cbow/now_small.h5\n",
            "Epoch 13/50\n",
            "7/7 [==============================] - 16s 2s/step - loss: 7.6648 - accuracy: 0.0777\n",
            "\n",
            "Epoch 00013: loss improved from 7.81694 to 7.62032, saving model to /content/drive/MyDrive/weights/cbow/now_small.h5\n",
            "Epoch 14/50\n",
            "7/7 [==============================] - 16s 2s/step - loss: 7.5048 - accuracy: 0.0773\n",
            "\n",
            "Epoch 00014: loss improved from 7.62032 to 7.46444, saving model to /content/drive/MyDrive/weights/cbow/now_small.h5\n",
            "Epoch 15/50\n",
            "7/7 [==============================] - 16s 2s/step - loss: 7.3876 - accuracy: 0.0760\n",
            "\n",
            "Epoch 00015: loss improved from 7.46444 to 7.35138, saving model to /content/drive/MyDrive/weights/cbow/now_small.h5\n",
            "Epoch 16/50\n",
            "7/7 [==============================] - 16s 2s/step - loss: 7.3066 - accuracy: 0.0722\n",
            "\n",
            "Epoch 00016: loss improved from 7.35138 to 7.27381, saving model to /content/drive/MyDrive/weights/cbow/now_small.h5\n",
            "Epoch 17/50\n",
            "7/7 [==============================] - 16s 2s/step - loss: 7.2509 - accuracy: 0.0664\n",
            "\n",
            "Epoch 00017: loss improved from 7.27381 to 7.22077, saving model to /content/drive/MyDrive/weights/cbow/now_small.h5\n",
            "Epoch 18/50\n",
            "7/7 [==============================] - 16s 2s/step - loss: 7.2111 - accuracy: 0.0615\n",
            "\n",
            "Epoch 00018: loss improved from 7.22077 to 7.18279, saving model to /content/drive/MyDrive/weights/cbow/now_small.h5\n",
            "Epoch 19/50\n",
            "7/7 [==============================] - 16s 2s/step - loss: 7.1799 - accuracy: 0.0604\n",
            "\n",
            "Epoch 00019: loss improved from 7.18279 to 7.15284, saving model to /content/drive/MyDrive/weights/cbow/now_small.h5\n",
            "Epoch 20/50\n",
            "7/7 [==============================] - 16s 2s/step - loss: 7.1528 - accuracy: 0.0595\n",
            "\n",
            "Epoch 00020: loss improved from 7.15284 to 7.12645, saving model to /content/drive/MyDrive/weights/cbow/now_small.h5\n",
            "Epoch 21/50\n",
            "7/7 [==============================] - 16s 2s/step - loss: 7.1276 - accuracy: 0.0594\n",
            "\n",
            "Epoch 00021: loss improved from 7.12645 to 7.10169, saving model to /content/drive/MyDrive/weights/cbow/now_small.h5\n",
            "Epoch 22/50\n",
            "7/7 [==============================] - 16s 2s/step - loss: 7.1036 - accuracy: 0.0594\n",
            "\n",
            "Epoch 00022: loss improved from 7.10169 to 7.07795, saving model to /content/drive/MyDrive/weights/cbow/now_small.h5\n",
            "Epoch 23/50\n",
            "7/7 [==============================] - 16s 2s/step - loss: 7.0805 - accuracy: 0.0599\n",
            "\n",
            "Epoch 00023: loss improved from 7.07795 to 7.05493, saving model to /content/drive/MyDrive/weights/cbow/now_small.h5\n",
            "Epoch 24/50\n",
            "7/7 [==============================] - 16s 2s/step - loss: 7.0579 - accuracy: 0.0605\n",
            "\n",
            "Epoch 00024: loss improved from 7.05493 to 7.03236, saving model to /content/drive/MyDrive/weights/cbow/now_small.h5\n",
            "Epoch 25/50\n",
            "7/7 [==============================] - 16s 2s/step - loss: 7.0356 - accuracy: 0.0615\n",
            "\n",
            "Epoch 00025: loss improved from 7.03236 to 7.01005, saving model to /content/drive/MyDrive/weights/cbow/now_small.h5\n",
            "Epoch 26/50\n",
            "7/7 [==============================] - 16s 2s/step - loss: 7.0135 - accuracy: 0.0623\n",
            "\n",
            "Epoch 00026: loss improved from 7.01005 to 6.98791, saving model to /content/drive/MyDrive/weights/cbow/now_small.h5\n",
            "Epoch 27/50\n",
            "7/7 [==============================] - 16s 2s/step - loss: 6.9914 - accuracy: 0.0635\n",
            "\n",
            "Epoch 00027: loss improved from 6.98791 to 6.96586, saving model to /content/drive/MyDrive/weights/cbow/now_small.h5\n",
            "Epoch 28/50\n",
            "7/7 [==============================] - 16s 2s/step - loss: 6.9694 - accuracy: 0.0646\n",
            "\n",
            "Epoch 00028: loss improved from 6.96586 to 6.94382, saving model to /content/drive/MyDrive/weights/cbow/now_small.h5\n",
            "Epoch 29/50\n",
            "7/7 [==============================] - 16s 2s/step - loss: 6.9473 - accuracy: 0.0661\n",
            "\n",
            "Epoch 00029: loss improved from 6.94382 to 6.92173, saving model to /content/drive/MyDrive/weights/cbow/now_small.h5\n",
            "Epoch 30/50\n",
            "7/7 [==============================] - 16s 2s/step - loss: 6.9251 - accuracy: 0.0675\n",
            "\n",
            "Epoch 00030: loss improved from 6.92173 to 6.89954, saving model to /content/drive/MyDrive/weights/cbow/now_small.h5\n",
            "Epoch 31/50\n",
            "7/7 [==============================] - 16s 2s/step - loss: 6.9028 - accuracy: 0.0693\n",
            "\n",
            "Epoch 00031: loss improved from 6.89954 to 6.87719, saving model to /content/drive/MyDrive/weights/cbow/now_small.h5\n",
            "Epoch 32/50\n",
            "7/7 [==============================] - 16s 2s/step - loss: 6.8803 - accuracy: 0.0710\n",
            "\n",
            "Epoch 00032: loss improved from 6.87719 to 6.85467, saving model to /content/drive/MyDrive/weights/cbow/now_small.h5\n",
            "Epoch 33/50\n",
            "7/7 [==============================] - 16s 2s/step - loss: 6.8576 - accuracy: 0.0727\n",
            "\n",
            "Epoch 00033: loss improved from 6.85467 to 6.83191, saving model to /content/drive/MyDrive/weights/cbow/now_small.h5\n",
            "Epoch 34/50\n",
            "7/7 [==============================] - 16s 2s/step - loss: 6.8347 - accuracy: 0.0743\n",
            "\n",
            "Epoch 00034: loss improved from 6.83191 to 6.80889, saving model to /content/drive/MyDrive/weights/cbow/now_small.h5\n",
            "Epoch 35/50\n",
            "7/7 [==============================] - 16s 2s/step - loss: 6.8115 - accuracy: 0.0760\n",
            "\n",
            "Epoch 00035: loss improved from 6.80889 to 6.78557, saving model to /content/drive/MyDrive/weights/cbow/now_small.h5\n",
            "Epoch 36/50\n",
            "7/7 [==============================] - 16s 2s/step - loss: 6.7879 - accuracy: 0.0776\n",
            "\n",
            "Epoch 00036: loss improved from 6.78557 to 6.76192, saving model to /content/drive/MyDrive/weights/cbow/now_small.h5\n",
            "Epoch 37/50\n",
            "7/7 [==============================] - 16s 2s/step - loss: 6.7640 - accuracy: 0.0792\n",
            "\n",
            "Epoch 00037: loss improved from 6.76192 to 6.73791, saving model to /content/drive/MyDrive/weights/cbow/now_small.h5\n",
            "Epoch 38/50\n",
            "7/7 [==============================] - 16s 2s/step - loss: 6.7398 - accuracy: 0.0809\n",
            "\n",
            "Epoch 00038: loss improved from 6.73791 to 6.71351, saving model to /content/drive/MyDrive/weights/cbow/now_small.h5\n",
            "Epoch 39/50\n",
            "7/7 [==============================] - 16s 2s/step - loss: 6.7152 - accuracy: 0.0824\n",
            "\n",
            "Epoch 00039: loss improved from 6.71351 to 6.68872, saving model to /content/drive/MyDrive/weights/cbow/now_small.h5\n",
            "Epoch 40/50\n",
            "7/7 [==============================] - 16s 2s/step - loss: 6.6901 - accuracy: 0.0839\n",
            "\n",
            "Epoch 00040: loss improved from 6.68872 to 6.66350, saving model to /content/drive/MyDrive/weights/cbow/now_small.h5\n",
            "Epoch 41/50\n",
            "7/7 [==============================] - 16s 2s/step - loss: 6.6647 - accuracy: 0.0852\n",
            "\n",
            "Epoch 00041: loss improved from 6.66350 to 6.63785, saving model to /content/drive/MyDrive/weights/cbow/now_small.h5\n",
            "Epoch 42/50\n",
            "7/7 [==============================] - 16s 2s/step - loss: 6.6388 - accuracy: 0.0868\n",
            "\n",
            "Epoch 00042: loss improved from 6.63785 to 6.61175, saving model to /content/drive/MyDrive/weights/cbow/now_small.h5\n",
            "Epoch 43/50\n",
            "7/7 [==============================] - 16s 2s/step - loss: 6.6125 - accuracy: 0.0889\n",
            "\n",
            "Epoch 00043: loss improved from 6.61175 to 6.58520, saving model to /content/drive/MyDrive/weights/cbow/now_small.h5\n",
            "Epoch 44/50\n",
            "7/7 [==============================] - 16s 2s/step - loss: 6.5857 - accuracy: 0.0900\n",
            "\n",
            "Epoch 00044: loss improved from 6.58520 to 6.55818, saving model to /content/drive/MyDrive/weights/cbow/now_small.h5\n",
            "Epoch 45/50\n",
            "7/7 [==============================] - 16s 2s/step - loss: 6.5585 - accuracy: 0.0914\n",
            "\n",
            "Epoch 00045: loss improved from 6.55818 to 6.53069, saving model to /content/drive/MyDrive/weights/cbow/now_small.h5\n",
            "Epoch 46/50\n",
            "7/7 [==============================] - 16s 2s/step - loss: 6.5308 - accuracy: 0.0928\n",
            "\n",
            "Epoch 00046: loss improved from 6.53069 to 6.50272, saving model to /content/drive/MyDrive/weights/cbow/now_small.h5\n",
            "Epoch 47/50\n",
            "7/7 [==============================] - 16s 2s/step - loss: 6.5026 - accuracy: 0.0944\n",
            "\n",
            "Epoch 00047: loss improved from 6.50272 to 6.47427, saving model to /content/drive/MyDrive/weights/cbow/now_small.h5\n",
            "Epoch 48/50\n",
            "7/7 [==============================] - 16s 2s/step - loss: 6.4740 - accuracy: 0.0959\n",
            "\n",
            "Epoch 00048: loss improved from 6.47427 to 6.44533, saving model to /content/drive/MyDrive/weights/cbow/now_small.h5\n",
            "Epoch 49/50\n",
            "7/7 [==============================] - 16s 2s/step - loss: 6.4449 - accuracy: 0.0971\n",
            "\n",
            "Epoch 00049: loss improved from 6.44533 to 6.41589, saving model to /content/drive/MyDrive/weights/cbow/now_small.h5\n",
            "Epoch 50/50\n",
            "7/7 [==============================] - 16s 2s/step - loss: 6.4152 - accuracy: 0.0986\n",
            "\n",
            "Epoch 00050: loss improved from 6.41589 to 6.38593, saving model to /content/drive/MyDrive/weights/cbow/now_small.h5\n"
          ],
          "name": "stdout"
        }
      ]
    },
    {
      "cell_type": "code",
      "metadata": {
        "colab": {
          "base_uri": "https://localhost:8080/"
        },
        "id": "7maz9CwDpSjG",
        "outputId": "ff90b050-b852-422e-b6dd-64db1a194a8b"
      },
      "source": [
        "words = ['king', 'queen', 'prince', 'dog', 'royal', 'teacher', 'war', 'apple', 'egypt']\n",
        "idx = [stoi[w] for w in words]\n",
        "idx"
      ],
      "id": "7maz9CwDpSjG",
      "execution_count": null,
      "outputs": [
        {
          "output_type": "execute_result",
          "data": {
            "text/plain": [
              "[2216, 3215, 9188, 2524, 2211, 5768, 1494, 2488, 13074]"
            ]
          },
          "metadata": {
            "tags": []
          },
          "execution_count": 146
        }
      ]
    },
    {
      "cell_type": "code",
      "metadata": {
        "id": "VlSO-9phpT9L"
      },
      "source": [
        ""
      ],
      "id": "VlSO-9phpT9L",
      "execution_count": null,
      "outputs": []
    }
  ]
}
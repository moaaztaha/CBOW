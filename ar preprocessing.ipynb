{
 "cells": [
  {
   "cell_type": "code",
   "execution_count": 79,
   "id": "2c0eb830",
   "metadata": {},
   "outputs": [],
   "source": [
    "import pyarabic.araby as araby\n",
    "from pyarabic.araby import strip_tashkeel,strip_tatweel, strip_tashkeel, is_arabicrange\n",
    "from pyarabic.araby import normalize_hamza"
   ]
  },
  {
   "cell_type": "code",
   "execution_count": 108,
   "id": "b6219151",
   "metadata": {},
   "outputs": [],
   "source": [
    "s = 'كل واحد عايز يتوب ويعملwww   انه مصلح اجتماعي٣٣٣  12 123123'\n",
    "ss = 'دائما بأخلاقك اكره اخر ليلهss111     خطأ في كل مكان الخير'"
   ]
  },
  {
   "cell_type": "code",
   "execution_count": 116,
   "id": "1a4e06ea",
   "metadata": {},
   "outputs": [
    {
     "name": "stdout",
     "output_type": "stream",
     "text": [
      "دائما\n",
      "بأخلاقك\n",
      "اكره\n",
      "اخر\n",
      "ليلهss111\n",
      "خطأ\n",
      "في\n",
      "كل\n",
      "مكان\n",
      "الخير\n"
     ]
    }
   ],
   "source": [
    "for word in ss.split():\n",
    "    print(word)"
   ]
  },
  {
   "cell_type": "code",
   "execution_count": 123,
   "id": "399af41a",
   "metadata": {},
   "outputs": [],
   "source": [
    "z = (1, 2)"
   ]
  },
  {
   "cell_type": "code",
   "execution_count": 127,
   "id": "0d27ab8d",
   "metadata": {},
   "outputs": [
    {
     "data": {
      "text/plain": [
       "True"
      ]
     },
     "execution_count": 127,
     "metadata": {},
     "output_type": "execute_result"
    }
   ],
   "source": [
    "type(z) is tuple"
   ]
  },
  {
   "cell_type": "code",
   "execution_count": 119,
   "id": "cd93bc64",
   "metadata": {},
   "outputs": [
    {
     "data": {
      "text/plain": [
       "['دائما',\n",
       " 'بأخلاقك',\n",
       " 'اكره',\n",
       " 'اخر',\n",
       " 'ليلهss111',\n",
       " 'خطأ',\n",
       " 'في',\n",
       " 'كل',\n",
       " 'مكان',\n",
       " 'الخير']"
      ]
     },
     "execution_count": 119,
     "metadata": {},
     "output_type": "execute_result"
    }
   ],
   "source": [
    "ww = []\n",
    "for word in ss.split():\n",
    "    out = split_al(word)\n",
    "    if type(out) is set:\n",
    "        for w in out:\n",
    "            ww.append(w)\n",
    "    else:\n",
    "        ww.append(word)\n",
    "        \n",
    "ww"
   ]
  },
  {
   "cell_type": "code",
   "execution_count": 111,
   "id": "ee25c84a",
   "metadata": {},
   "outputs": [
    {
     "data": {
      "text/plain": [
       "['دائما',\n",
       " 'بأخلاقك',\n",
       " 'اكره',\n",
       " 'اخر',\n",
       " 'ليلهss111',\n",
       " 'خطأ',\n",
       " 'في',\n",
       " 'كل',\n",
       " 'مكان',\n",
       " ('ال', 'خير')]"
      ]
     },
     "execution_count": 111,
     "metadata": {},
     "output_type": "execute_result"
    }
   ],
   "source": [
    "araby.tokenize(ss, morphs=split_al)"
   ]
  },
  {
   "cell_type": "code",
   "execution_count": 98,
   "id": "f32da083",
   "metadata": {},
   "outputs": [
    {
     "data": {
      "text/plain": [
       "('ال', 'حروف')"
      ]
     },
     "execution_count": 98,
     "metadata": {},
     "output_type": "execute_result"
    }
   ],
   "source": [
    "def split_al(word):\n",
    "    if word.startswith('ال'):\n",
    "        return word[:2], word[2:]\n",
    "    else: \n",
    "        return word\n",
    "\n",
    "    \n",
    "split_al('الحروف')"
   ]
  },
  {
   "cell_type": "code",
   "execution_count": 121,
   "id": "cd282dc2",
   "metadata": {},
   "outputs": [
    {
     "data": {
      "text/plain": [
       "'دايما اكره اخر ليله في كل مكان '"
      ]
     },
     "execution_count": 121,
     "metadata": {},
     "output_type": "execute_result"
    }
   ],
   "source": [
    "remove_al = lambda x: not x.startswith(u'ال')\n",
    "normalize_hamza('دائما اكره اخر ليله في كل مكان ', method='tasheel')"
   ]
  },
  {
   "cell_type": "code",
   "execution_count": 71,
   "id": "824f94eb",
   "metadata": {},
   "outputs": [
    {
     "data": {
      "text/plain": [
       "'داءما اكره اخر ليلهss111  في كل مكان'"
      ]
     },
     "execution_count": 71,
     "metadata": {},
     "output_type": "execute_result"
    }
   ],
   "source": [
    "araby.normalize_hamza(ss)"
   ]
  },
  {
   "cell_type": "code",
   "execution_count": 30,
   "id": "58ac2cc3",
   "metadata": {},
   "outputs": [],
   "source": [
    "import re"
   ]
  },
  {
   "cell_type": "code",
   "execution_count": 43,
   "id": "1e1dfd98",
   "metadata": {},
   "outputs": [
    {
     "data": {
      "text/plain": [
       "'كل واحد عايز يتوب ويعمل انه مصلح اجتماعي   '"
      ]
     },
     "execution_count": 43,
     "metadata": {},
     "output_type": "execute_result"
    }
   ],
   "source": [
    "re.sub(\"\\d+\", \"\", s)"
   ]
  },
  {
   "cell_type": "code",
   "execution_count": 1,
   "id": "5318a03d",
   "metadata": {},
   "outputs": [],
   "source": [
    "import pandas as pd"
   ]
  },
  {
   "cell_type": "code",
   "execution_count": 26,
   "id": "7d2c56f8",
   "metadata": {},
   "outputs": [],
   "source": [
    "from nltk import word_tokenize"
   ]
  },
  {
   "cell_type": "code",
   "execution_count": 27,
   "id": "41c03a33",
   "metadata": {},
   "outputs": [
    {
     "data": {
      "text/plain": [
       "['كل',\n",
       " 'واحد',\n",
       " 'عايز',\n",
       " 'يتوب',\n",
       " 'ويعمل',\n",
       " 'انه',\n",
       " 'مصلح',\n",
       " 'اجتماعي٣٣٣',\n",
       " '12',\n",
       " '123123']"
      ]
     },
     "execution_count": 27,
     "metadata": {},
     "output_type": "execute_result"
    }
   ],
   "source": [
    "word_tokenize(s)"
   ]
  },
  {
   "cell_type": "code",
   "execution_count": 6,
   "id": "9b5a401f",
   "metadata": {},
   "outputs": [
    {
     "data": {
      "text/html": [
       "<div>\n",
       "<style scoped>\n",
       "    .dataframe tbody tr th:only-of-type {\n",
       "        vertical-align: middle;\n",
       "    }\n",
       "\n",
       "    .dataframe tbody tr th {\n",
       "        vertical-align: top;\n",
       "    }\n",
       "\n",
       "    .dataframe thead th {\n",
       "        text-align: right;\n",
       "    }\n",
       "</style>\n",
       "<table border=\"1\" class=\"dataframe\">\n",
       "  <thead>\n",
       "    <tr style=\"text-align: right;\">\n",
       "      <th></th>\n",
       "      <th>review</th>\n",
       "    </tr>\n",
       "  </thead>\n",
       "  <tbody>\n",
       "    <tr>\n",
       "      <th>0</th>\n",
       "      <td>اكبر خطا ترتكبه ان تعامل الناس باخلاقك انت مش ...</td>\n",
       "    </tr>\n",
       "    <tr>\n",
       "      <th>1</th>\n",
       "      <td>دائما اكره اخر ليله في كل مكان   .</td>\n",
       "    </tr>\n",
       "    <tr>\n",
       "      <th>2</th>\n",
       "      <td>يارب اللى يسرق تويتاتى يدخل النار .</td>\n",
       "    </tr>\n",
       "    <tr>\n",
       "      <th>3</th>\n",
       "      <td>الاسراف فى تناول القهوة يسبب الوفاه .</td>\n",
       "    </tr>\n",
       "    <tr>\n",
       "      <th>4</th>\n",
       "      <td>انا اتبهدلت من التراب النهارده. حاجة تقرف  .</td>\n",
       "    </tr>\n",
       "  </tbody>\n",
       "</table>\n",
       "</div>"
      ],
      "text/plain": [
       "                                              review\n",
       "0  اكبر خطا ترتكبه ان تعامل الناس باخلاقك انت مش ...\n",
       "1               دائما اكره اخر ليله في كل مكان   .  \n",
       "2              يارب اللى يسرق تويتاتى يدخل النار .  \n",
       "3            الاسراف فى تناول القهوة يسبب الوفاه .  \n",
       "4      انا اتبهدلت من التراب النهارده. حاجة تقرف  . "
      ]
     },
     "execution_count": 6,
     "metadata": {},
     "output_type": "execute_result"
    }
   ],
   "source": [
    "df = pd.read_excel('data/40000-Egyptian-tweets.xlsx')\n",
    "df.drop('label', axis=1, inplace=True)\n",
    "df.head()"
   ]
  },
  {
   "cell_type": "code",
   "execution_count": 8,
   "id": "61938283",
   "metadata": {},
   "outputs": [
    {
     "data": {
      "text/plain": [
       "(40000, 1)"
      ]
     },
     "execution_count": 8,
     "metadata": {},
     "output_type": "execute_result"
    }
   ],
   "source": [
    "df.shape"
   ]
  },
  {
   "cell_type": "code",
   "execution_count": 132,
   "id": "2e14946b",
   "metadata": {},
   "outputs": [
    {
     "data": {
      "text/plain": [
       "'اكبر خطا ترتكبه ان تعامل الناس باخلاقك انت مش باخلاقهم هما  .  '"
      ]
     },
     "execution_count": 132,
     "metadata": {},
     "output_type": "execute_result"
    }
   ],
   "source": [
    "df.iloc[0].review"
   ]
  },
  {
   "cell_type": "code",
   "execution_count": 18,
   "id": "4a9b8026",
   "metadata": {},
   "outputs": [
    {
     "data": {
      "text/html": [
       "<div>\n",
       "<style scoped>\n",
       "    .dataframe tbody tr th:only-of-type {\n",
       "        vertical-align: middle;\n",
       "    }\n",
       "\n",
       "    .dataframe tbody tr th {\n",
       "        vertical-align: top;\n",
       "    }\n",
       "\n",
       "    .dataframe thead th {\n",
       "        text-align: right;\n",
       "    }\n",
       "</style>\n",
       "<table border=\"1\" class=\"dataframe\">\n",
       "  <thead>\n",
       "    <tr style=\"text-align: right;\">\n",
       "      <th></th>\n",
       "      <th>review</th>\n",
       "    </tr>\n",
       "  </thead>\n",
       "  <tbody>\n",
       "    <tr>\n",
       "      <th>18788</th>\n",
       "      <td>عايزة اسافر مكان هادى كدا وابقى انا والبحر وال...</td>\n",
       "    </tr>\n",
       "    <tr>\n",
       "      <th>33339</th>\n",
       "      <td>ربنا يخليلنا جوجل  .</td>\n",
       "    </tr>\n",
       "    <tr>\n",
       "      <th>37182</th>\n",
       "      <td>كل واحد عايز يتوب ويعمل انه مصلح اجتماعي  .</td>\n",
       "    </tr>\n",
       "    <tr>\n",
       "      <th>5359</th>\n",
       "      <td>مخنوق اليوم طويل ومش عايز يخلص .</td>\n",
       "    </tr>\n",
       "    <tr>\n",
       "      <th>33685</th>\n",
       "      <td>ايوة انا بشتغل في مباحث امن الدعوة .</td>\n",
       "    </tr>\n",
       "    <tr>\n",
       "      <th>2792</th>\n",
       "      <td>النت بطء بشكل شنيع  .منكم لله يا بعدا    .</td>\n",
       "    </tr>\n",
       "    <tr>\n",
       "      <th>10158</th>\n",
       "      <td>الراحه ببساطة فى القرآن فى الصلاة فى الدعاء فى...</td>\n",
       "    </tr>\n",
       "    <tr>\n",
       "      <th>16119</th>\n",
       "      <td>المهم انتي اعملي اللي عليكي علشان الإمتحان وكل...</td>\n",
       "    </tr>\n",
       "    <tr>\n",
       "      <th>404</th>\n",
       "      <td>بقت عصبية لدرجة انها بتخانق مع دبان وشها .</td>\n",
       "    </tr>\n",
       "    <tr>\n",
       "      <th>7857</th>\n",
       "      <td>تمر الايام وتنتهى الالام وتشفى كل الجراح.</td>\n",
       "    </tr>\n",
       "    <tr>\n",
       "      <th>19473</th>\n",
       "      <td>الاهتمام هو عبارة عن شخص يريدك ان تدوم معه للا...</td>\n",
       "    </tr>\n",
       "    <tr>\n",
       "      <th>13987</th>\n",
       "      <td>اهو ده بقي اللي اسمه الجهل والتخلف   .</td>\n",
       "    </tr>\n",
       "    <tr>\n",
       "      <th>28214</th>\n",
       "      <td>تصبحون على ماتحبون وتتمنون حان الان موعد الاقل...</td>\n",
       "    </tr>\n",
       "    <tr>\n",
       "      <th>30808</th>\n",
       "      <td>ربنا يتمم ليكى على الف خير  .</td>\n",
       "    </tr>\n",
       "    <tr>\n",
       "      <th>18537</th>\n",
       "      <td>لسه بنقول يا هادي .دعواتكم الامتحانات كمان يوم...</td>\n",
       "    </tr>\n",
       "    <tr>\n",
       "      <th>30904</th>\n",
       "      <td>ثمة اختناقات تتوالى على قلبي ارقتني كثيرا .</td>\n",
       "    </tr>\n",
       "    <tr>\n",
       "      <th>1160</th>\n",
       "      <td>الصلاه احسن حاجه ممكن تحصل في الدنيا .</td>\n",
       "    </tr>\n",
       "    <tr>\n",
       "      <th>37507</th>\n",
       "      <td>مافهمتش السؤال يافندم .</td>\n",
       "    </tr>\n",
       "    <tr>\n",
       "      <th>1347</th>\n",
       "      <td>بعض اللحظات نود لو نحتفظ بيها في صناديق صغيرة ...</td>\n",
       "    </tr>\n",
       "    <tr>\n",
       "      <th>6509</th>\n",
       "      <td>فكرة رائعة  لا تتخلص من مصبايحك القديمة. بل حو...</td>\n",
       "    </tr>\n",
       "  </tbody>\n",
       "</table>\n",
       "</div>"
      ],
      "text/plain": [
       "                                                  review\n",
       "18788  عايزة اسافر مكان هادى كدا وابقى انا والبحر وال...\n",
       "33339                              ربنا يخليلنا جوجل  . \n",
       "37182       كل واحد عايز يتوب ويعمل انه مصلح اجتماعي  . \n",
       "5359                   مخنوق اليوم طويل ومش عايز يخلص . \n",
       "33685              ايوة انا بشتغل في مباحث امن الدعوة . \n",
       "2792        النت بطء بشكل شنيع  .منكم لله يا بعدا    .  \n",
       "10158  الراحه ببساطة فى القرآن فى الصلاة فى الدعاء فى...\n",
       "16119  المهم انتي اعملي اللي عليكي علشان الإمتحان وكل...\n",
       "404           بقت عصبية لدرجة انها بتخانق مع دبان وشها .\n",
       "7857          تمر الايام وتنتهى الالام وتشفى كل الجراح. \n",
       "19473  الاهتمام هو عبارة عن شخص يريدك ان تدوم معه للا...\n",
       "13987            اهو ده بقي اللي اسمه الجهل والتخلف   . \n",
       "28214  تصبحون على ماتحبون وتتمنون حان الان موعد الاقل...\n",
       "30808                     ربنا يتمم ليكى على الف خير  . \n",
       "18537  لسه بنقول يا هادي .دعواتكم الامتحانات كمان يوم...\n",
       "30904       ثمة اختناقات تتوالى على قلبي ارقتني كثيرا . \n",
       "1160              الصلاه احسن حاجه ممكن تحصل في الدنيا .\n",
       "37507                           مافهمتش السؤال يافندم . \n",
       "1347   بعض اللحظات نود لو نحتفظ بيها في صناديق صغيرة ...\n",
       "6509   فكرة رائعة  لا تتخلص من مصبايحك القديمة. بل حو..."
      ]
     },
     "execution_count": 18,
     "metadata": {},
     "output_type": "execute_result"
    }
   ],
   "source": [
    "df.sample(20)"
   ]
  },
  {
   "cell_type": "code",
   "execution_count": null,
   "id": "99f8c3db",
   "metadata": {},
   "outputs": [],
   "source": []
  },
  {
   "cell_type": "code",
   "execution_count": null,
   "id": "5ecc1df6",
   "metadata": {},
   "outputs": [],
   "source": []
  },
  {
   "cell_type": "code",
   "execution_count": null,
   "id": "e4be19c1",
   "metadata": {},
   "outputs": [],
   "source": []
  }
 ],
 "metadata": {
  "kernelspec": {
   "display_name": "Python 3",
   "language": "python",
   "name": "python3"
  },
  "language_info": {
   "codemirror_mode": {
    "name": "ipython",
    "version": 3
   },
   "file_extension": ".py",
   "mimetype": "text/x-python",
   "name": "python",
   "nbconvert_exporter": "python",
   "pygments_lexer": "ipython3",
   "version": "3.8.8"
  }
 },
 "nbformat": 4,
 "nbformat_minor": 5
}

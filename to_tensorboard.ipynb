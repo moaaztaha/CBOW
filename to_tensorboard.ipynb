{
 "cells": [
  {
   "cell_type": "code",
   "execution_count": 24,
   "id": "1713a3c7",
   "metadata": {},
   "outputs": [],
   "source": [
    "import tensorflow as tf\n",
    "import tensorflow.keras as keras\n",
    "\n",
    "import numpy as np\n",
    "import pandas as pd"
   ]
  },
  {
   "cell_type": "code",
   "execution_count": 2,
   "id": "9a0c43f3",
   "metadata": {},
   "outputs": [],
   "source": [
    "model = keras.models.load_model('models/ar_10k.h5')"
   ]
  },
  {
   "cell_type": "code",
   "execution_count": 3,
   "id": "d88d5f30",
   "metadata": {},
   "outputs": [],
   "source": [
    "weights = tf.Variable(model.layers[0].get_weights()[0])"
   ]
  },
  {
   "cell_type": "code",
   "execution_count": 4,
   "id": "c8d3aa45",
   "metadata": {},
   "outputs": [
    {
     "data": {
      "text/plain": [
       "TensorShape([10002, 300])"
      ]
     },
     "execution_count": 4,
     "metadata": {},
     "output_type": "execute_result"
    }
   ],
   "source": [
    "weights.shape"
   ]
  },
  {
   "cell_type": "code",
   "execution_count": 5,
   "id": "7511fa3b",
   "metadata": {},
   "outputs": [],
   "source": [
    "checkpoint = tf.train.Checkpoint(embedding=weights)"
   ]
  },
  {
   "cell_type": "code",
   "execution_count": 6,
   "id": "2e0bf76d",
   "metadata": {},
   "outputs": [
    {
     "data": {
      "text/plain": [
       "'logs/embedding_10k_ar.ckpt-1'"
      ]
     },
     "execution_count": 6,
     "metadata": {},
     "output_type": "execute_result"
    }
   ],
   "source": [
    "checkpoint.save(\"logs/embedding_10k_ar.ckpt\")"
   ]
  },
  {
   "cell_type": "code",
   "execution_count": 7,
   "id": "a72e3dea",
   "metadata": {},
   "outputs": [],
   "source": [
    "from tensorboard.plugins import projector"
   ]
  },
  {
   "cell_type": "code",
   "execution_count": 8,
   "id": "311bce9e",
   "metadata": {},
   "outputs": [],
   "source": [
    "config = projector.ProjectorConfig()\n",
    "embedding = config.embeddings.add()"
   ]
  },
  {
   "cell_type": "code",
   "execution_count": 9,
   "id": "eafde584",
   "metadata": {},
   "outputs": [],
   "source": [
    "embedding.tensor_name = \"embedding_10k_ar/.ATTRIBUTES/VARIABLE_VALUE\"\n",
    "embedding.metadata_path = 'metadata_ar_10k.tsv'\n",
    "projector.visualize_embeddings('logs/', config)"
   ]
  },
  {
   "cell_type": "code",
   "execution_count": 11,
   "id": "ff69cee6",
   "metadata": {},
   "outputs": [],
   "source": [
    "words = pd.read_csv('logs/metadata_ar_10k.tsv', names=['token'])"
   ]
  },
  {
   "cell_type": "code",
   "execution_count": 50,
   "id": "ec221214",
   "metadata": {},
   "outputs": [],
   "source": [
    "embeddings = {}\n",
    "weights = np.array(weights)\n",
    "for word, embeds in zip(words['token'], weights):\n",
    "    embeddings[word] = embeds"
   ]
  },
  {
   "cell_type": "code",
   "execution_count": 51,
   "id": "a22e8977",
   "metadata": {},
   "outputs": [
    {
     "data": {
      "text/plain": [
       "array([ 0.27407244, -0.8177569 , -0.04993073,  0.3334608 , -0.34902954,\n",
       "       -0.39792967,  0.22859468, -0.15345533, -0.00472249, -0.8078031 ],\n",
       "      dtype=float32)"
      ]
     },
     "execution_count": 51,
     "metadata": {},
     "output_type": "execute_result"
    }
   ],
   "source": [
    "embeddings['الي'][:10]"
   ]
  },
  {
   "cell_type": "code",
   "execution_count": 56,
   "id": "b0e97770",
   "metadata": {},
   "outputs": [],
   "source": [
    "import pickle"
   ]
  },
  {
   "cell_type": "code",
   "execution_count": 57,
   "id": "a2549fac",
   "metadata": {},
   "outputs": [],
   "source": [
    "def save_obj(obj, name ):\n",
    "    with open(name + '.pkl', 'wb') as f:\n",
    "        pickle.dump(obj, f, pickle.HIGHEST_PROTOCOL)\n",
    "\n",
    "def load_obj(name ):\n",
    "    with open(name + '.pkl', 'rb') as f:\n",
    "        return pickle.load(f)"
   ]
  },
  {
   "cell_type": "code",
   "execution_count": 58,
   "id": "8b6167b6",
   "metadata": {},
   "outputs": [],
   "source": [
    "save_obj(embeddings, 'pretrained_ar')"
   ]
  },
  {
   "cell_type": "code",
   "execution_count": 59,
   "id": "5d0d2978",
   "metadata": {},
   "outputs": [],
   "source": [
    "embeddings = load_obj('pretrained_ar')"
   ]
  },
  {
   "cell_type": "code",
   "execution_count": 60,
   "id": "70d10012",
   "metadata": {
    "scrolled": true
   },
   "outputs": [
    {
     "data": {
      "text/plain": [
       "array([ 0.27407244, -0.8177569 , -0.04993073,  0.3334608 , -0.34902954,\n",
       "       -0.39792967,  0.22859468, -0.15345533, -0.00472249, -0.8078031 ],\n",
       "      dtype=float32)"
      ]
     },
     "execution_count": 60,
     "metadata": {},
     "output_type": "execute_result"
    }
   ],
   "source": [
    "embeddings['الي'][:10]"
   ]
  },
  {
   "cell_type": "code",
   "execution_count": 62,
   "id": "7e9cbd1e",
   "metadata": {},
   "outputs": [],
   "source": [
    "en_model =  keras.models.load_model('models/en_10k_kaggle.h5')"
   ]
  },
  {
   "cell_type": "code",
   "execution_count": 63,
   "id": "8ca8f899",
   "metadata": {},
   "outputs": [],
   "source": [
    "weights = tf.Variable(model.layers[0].get_weights()[0])"
   ]
  },
  {
   "cell_type": "code",
   "execution_count": 64,
   "id": "f7a43c3a",
   "metadata": {},
   "outputs": [],
   "source": [
    "words = pd.read_csv('logs/metadata_10k.tsv', names=['token'])"
   ]
  },
  {
   "cell_type": "code",
   "execution_count": 66,
   "id": "66ea4497",
   "metadata": {},
   "outputs": [],
   "source": [
    "embeddings = {}\n",
    "weights = np.array(weights)\n",
    "for word, embeds in zip(words['token'], weights):\n",
    "    embeddings[word] = embeds"
   ]
  },
  {
   "cell_type": "code",
   "execution_count": 68,
   "id": "16e8837e",
   "metadata": {},
   "outputs": [
    {
     "data": {
      "text/plain": [
       "array([ 0.34345427,  0.16130535, -0.21006979, -0.02174319,  0.11983871,\n",
       "        0.12045165,  0.43488872, -0.10986105,  0.17680338, -0.38824806],\n",
       "      dtype=float32)"
      ]
     },
     "execution_count": 68,
     "metadata": {},
     "output_type": "execute_result"
    }
   ],
   "source": [
    "embeddings['the'][:10]"
   ]
  },
  {
   "cell_type": "code",
   "execution_count": 69,
   "id": "3e737e40",
   "metadata": {},
   "outputs": [],
   "source": [
    "save_obj(embeddings, 'pretrained_en')"
   ]
  },
  {
   "cell_type": "code",
   "execution_count": 70,
   "id": "7024f2c6",
   "metadata": {},
   "outputs": [],
   "source": [
    "embeddings = load_obj('pretrained_en')"
   ]
  },
  {
   "cell_type": "code",
   "execution_count": 71,
   "id": "769d697f",
   "metadata": {},
   "outputs": [
    {
     "data": {
      "text/plain": [
       "array([ 0.34345427,  0.16130535, -0.21006979, -0.02174319,  0.11983871,\n",
       "        0.12045165,  0.43488872, -0.10986105,  0.17680338, -0.38824806],\n",
       "      dtype=float32)"
      ]
     },
     "execution_count": 71,
     "metadata": {},
     "output_type": "execute_result"
    }
   ],
   "source": [
    "embeddings['the'][:10]"
   ]
  }
 ],
 "metadata": {
  "kernelspec": {
   "display_name": "Python 3",
   "language": "python",
   "name": "python3"
  },
  "language_info": {
   "codemirror_mode": {
    "name": "ipython",
    "version": 3
   },
   "file_extension": ".py",
   "mimetype": "text/x-python",
   "name": "python",
   "nbconvert_exporter": "python",
   "pygments_lexer": "ipython3",
   "version": "3.7.1"
  }
 },
 "nbformat": 4,
 "nbformat_minor": 5
}

{
 "cells": [
  {
   "cell_type": "code",
   "execution_count": 3,
   "id": "1713a3c7",
   "metadata": {},
   "outputs": [],
   "source": [
    "import tensorflow as tf\n",
    "import tensorflow.keras as keras"
   ]
  },
  {
   "cell_type": "code",
   "execution_count": 4,
   "id": "9a0c43f3",
   "metadata": {},
   "outputs": [],
   "source": [
    "model = keras.models.load_model('models/ar_full.h5')"
   ]
  },
  {
   "cell_type": "code",
   "execution_count": 5,
   "id": "d88d5f30",
   "metadata": {},
   "outputs": [],
   "source": [
    "weights = tf.Variable(model.layers[0].get_weights()[0])"
   ]
  },
  {
   "cell_type": "code",
   "execution_count": 6,
   "id": "c8d3aa45",
   "metadata": {},
   "outputs": [
    {
     "data": {
      "text/plain": [
       "TensorShape([49454, 300])"
      ]
     },
     "execution_count": 6,
     "metadata": {},
     "output_type": "execute_result"
    }
   ],
   "source": [
    "weights.shape"
   ]
  },
  {
   "cell_type": "code",
   "execution_count": 7,
   "id": "7511fa3b",
   "metadata": {},
   "outputs": [],
   "source": [
    "checkpoint = tf.train.Checkpoint(embedding=weights)"
   ]
  },
  {
   "cell_type": "code",
   "execution_count": 8,
   "id": "2e0bf76d",
   "metadata": {},
   "outputs": [
    {
     "data": {
      "text/plain": [
       "'logs/embedding_ar.ckpt-1'"
      ]
     },
     "execution_count": 8,
     "metadata": {},
     "output_type": "execute_result"
    }
   ],
   "source": [
    "checkpoint.save(\"logs/embedding_ar.ckpt\")"
   ]
  },
  {
   "cell_type": "code",
   "execution_count": 9,
   "id": "a72e3dea",
   "metadata": {},
   "outputs": [],
   "source": [
    "from tensorboard.plugins import projector"
   ]
  },
  {
   "cell_type": "code",
   "execution_count": 10,
   "id": "311bce9e",
   "metadata": {},
   "outputs": [],
   "source": [
    "config = projector.ProjectorConfig()\n",
    "embedding = config.embeddings.add()"
   ]
  },
  {
   "cell_type": "code",
   "execution_count": 11,
   "id": "eafde584",
   "metadata": {},
   "outputs": [],
   "source": [
    "embedding.tensor_name = \"embedding_ar/.ATTRIBUTES/VARIABLE_VALUE\"\n",
    "embedding.metadata_path = 'metadata_ar.tsv'\n",
    "projector.visualize_embeddings('logs/', config)"
   ]
  }
 ],
 "metadata": {
  "kernelspec": {
   "display_name": "Python 3",
   "language": "python",
   "name": "python3"
  },
  "language_info": {
   "codemirror_mode": {
    "name": "ipython",
    "version": 3
   },
   "file_extension": ".py",
   "mimetype": "text/x-python",
   "name": "python",
   "nbconvert_exporter": "python",
   "pygments_lexer": "ipython3",
   "version": "3.7.1"
  }
 },
 "nbformat": 4,
 "nbformat_minor": 5
}

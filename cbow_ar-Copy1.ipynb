{
 "cells": [
  {
   "cell_type": "code",
   "execution_count": 46,
   "id": "14d01097",
   "metadata": {
    "colab": {
     "base_uri": "https://localhost:8080/"
    },
    "id": "14d01097",
    "outputId": "dc9b2eb7-5ffd-4e7c-bbc1-5f8570dbdc14"
   },
   "outputs": [],
   "source": [
    "import tensorflow.keras as keras\n",
    "from tensorflow.keras.preprocessing.sequence import pad_sequences\n",
    "from tensorflow.keras.utils import to_categorical\n",
    "import tensorflow as tf\n",
    "import tensorflow.keras.callbacks as callbacks\n",
    "from tensorflow.keras.utils import plot_model \n",
    "\n",
    "from nltk import sent_tokenize\n",
    "import nltk\n",
    "from tqdm import tqdm \n",
    "import numpy as np\n",
    "import re\n",
    "import string\n",
    "import pandas as pd\n",
    "from collections import OrderedDict"
   ]
  },
  {
   "cell_type": "code",
   "execution_count": 3,
   "id": "a7c1f121",
   "metadata": {},
   "outputs": [],
   "source": [
    "# !pip install pyarabic\n",
    "# nltk.download('punkt')"
   ]
  },
  {
   "cell_type": "code",
   "execution_count": 6,
   "id": "e276f93b",
   "metadata": {
    "id": "e276f93b"
   },
   "outputs": [],
   "source": [
    "path_to_file = 'data/40000-Egyptian-tweets.xlsx'"
   ]
  },
  {
   "cell_type": "code",
   "execution_count": 7,
   "id": "fa2bb56d",
   "metadata": {
    "id": "fa2bb56d"
   },
   "outputs": [],
   "source": [
    "df = pd.read_excel(path_to_file)"
   ]
  },
  {
   "cell_type": "code",
   "execution_count": 8,
   "id": "4ffb2b82",
   "metadata": {
    "id": "4ffb2b82"
   },
   "outputs": [],
   "source": [
    "df.drop(['label'], axis=1, inplace=True)"
   ]
  },
  {
   "cell_type": "code",
   "execution_count": 9,
   "id": "6710134c",
   "metadata": {
    "colab": {
     "base_uri": "https://localhost:8080/",
     "height": 196
    },
    "id": "6710134c",
    "outputId": "9180e5c4-8063-415e-c08b-0f1aab07aa22"
   },
   "outputs": [
    {
     "data": {
      "text/html": [
       "<div>\n",
       "<style scoped>\n",
       "    .dataframe tbody tr th:only-of-type {\n",
       "        vertical-align: middle;\n",
       "    }\n",
       "\n",
       "    .dataframe tbody tr th {\n",
       "        vertical-align: top;\n",
       "    }\n",
       "\n",
       "    .dataframe thead th {\n",
       "        text-align: right;\n",
       "    }\n",
       "</style>\n",
       "<table border=\"1\" class=\"dataframe\">\n",
       "  <thead>\n",
       "    <tr style=\"text-align: right;\">\n",
       "      <th></th>\n",
       "      <th>review</th>\n",
       "    </tr>\n",
       "  </thead>\n",
       "  <tbody>\n",
       "    <tr>\n",
       "      <th>0</th>\n",
       "      <td>اكبر خطا ترتكبه ان تعامل الناس باخلاقك انت مش ...</td>\n",
       "    </tr>\n",
       "    <tr>\n",
       "      <th>1</th>\n",
       "      <td>دائما اكره اخر ليله في كل مكان   .</td>\n",
       "    </tr>\n",
       "    <tr>\n",
       "      <th>2</th>\n",
       "      <td>يارب اللى يسرق تويتاتى يدخل النار .</td>\n",
       "    </tr>\n",
       "    <tr>\n",
       "      <th>3</th>\n",
       "      <td>الاسراف فى تناول القهوة يسبب الوفاه .</td>\n",
       "    </tr>\n",
       "    <tr>\n",
       "      <th>4</th>\n",
       "      <td>انا اتبهدلت من التراب النهارده. حاجة تقرف  .</td>\n",
       "    </tr>\n",
       "  </tbody>\n",
       "</table>\n",
       "</div>"
      ],
      "text/plain": [
       "                                              review\n",
       "0  اكبر خطا ترتكبه ان تعامل الناس باخلاقك انت مش ...\n",
       "1               دائما اكره اخر ليله في كل مكان   .  \n",
       "2              يارب اللى يسرق تويتاتى يدخل النار .  \n",
       "3            الاسراف فى تناول القهوة يسبب الوفاه .  \n",
       "4      انا اتبهدلت من التراب النهارده. حاجة تقرف  . "
      ]
     },
     "execution_count": 9,
     "metadata": {},
     "output_type": "execute_result"
    }
   ],
   "source": [
    "df.head()"
   ]
  },
  {
   "cell_type": "code",
   "execution_count": 10,
   "id": "bc35979c",
   "metadata": {
    "colab": {
     "base_uri": "https://localhost:8080/"
    },
    "id": "bc35979c",
    "outputId": "9e27b979-2b21-44a5-8d6b-9331b35a0827"
   },
   "outputs": [
    {
     "data": {
      "text/plain": [
       "array(['اكبر خطا ترتكبه ان تعامل الناس باخلاقك انت مش باخلاقهم هما  .  '],\n",
       "      dtype=object)"
      ]
     },
     "execution_count": 10,
     "metadata": {},
     "output_type": "execute_result"
    }
   ],
   "source": [
    "df.to_numpy()[0]"
   ]
  },
  {
   "cell_type": "code",
   "execution_count": 11,
   "id": "1d27526d",
   "metadata": {
    "colab": {
     "base_uri": "https://localhost:8080/"
    },
    "id": "1d27526d",
    "outputId": "cee3bdae-c9b4-4b08-e5cc-1b5f041de4fb"
   },
   "outputs": [
    {
     "data": {
      "text/plain": [
       "['اكبر خطا ترتكبه ان تعامل الناس باخلاقك انت مش باخلاقهم هما  .  ',\n",
       " 'دائما اكره اخر ليله في كل مكان   .  ']"
      ]
     },
     "execution_count": 11,
     "metadata": {},
     "output_type": "execute_result"
    }
   ],
   "source": [
    "corpus = [sent[0] for sent in df.to_numpy()]\n",
    "corpus[:2]"
   ]
  },
  {
   "cell_type": "markdown",
   "id": "23763a63",
   "metadata": {
    "id": "23763a63"
   },
   "source": [
    "### Preprocessing "
   ]
  },
  {
   "cell_type": "code",
   "execution_count": 12,
   "id": "c5e5b5fb",
   "metadata": {
    "id": "c5e5b5fb"
   },
   "outputs": [],
   "source": [
    "punctuation_string = '!\"\\\\\\\\#\\\\$%\\\\&\\\\\\(\\\\)\\\\*\\\\+,\\\\-\\\\./:;<=>\\\\?@\\\\[\\\\\\\\\\\\]\\\\^_`\\\\{\\\\|\\\\}\\\\~\\d'"
   ]
  },
  {
   "cell_type": "code",
   "execution_count": 13,
   "id": "0dee3a20",
   "metadata": {
    "id": "0dee3a20"
   },
   "outputs": [],
   "source": [
    "import pyarabic.araby as araby\n",
    "from pyarabic.araby import strip_tashkeel, strip_tatweel, strip_tashkeel, is_arabicrange"
   ]
  },
  {
   "cell_type": "code",
   "execution_count": 14,
   "id": "cc1ee2d5",
   "metadata": {
    "colab": {
     "base_uri": "https://localhost:8080/"
    },
    "id": "cc1ee2d5",
    "outputId": "8f8e21fb-b50e-498c-d5cb-6963a73479fd"
   },
   "outputs": [
    {
     "data": {
      "text/plain": [
       "('ال', 'راحه')"
      ]
     },
     "execution_count": 14,
     "metadata": {},
     "output_type": "execute_result"
    }
   ],
   "source": [
    "def split_al(word):\n",
    "    if word.startswith('ال'):\n",
    "        return word[:2], word[2:]\n",
    "    else: \n",
    "        return word\n",
    "\n",
    "    \n",
    "split_al('الراحه')"
   ]
  },
  {
   "cell_type": "code",
   "execution_count": 15,
   "id": "a7fd119f",
   "metadata": {
    "id": "a7fd119f"
   },
   "outputs": [],
   "source": [
    "def split_al_sent(sent):\n",
    "    ww = []\n",
    "    for word in sent.split():\n",
    "        out = split_al(word)\n",
    "        if type(out) is tuple:\n",
    "            for w in out:\n",
    "                ww.append(w)\n",
    "        else:\n",
    "            ww.append(word)\n",
    "    return ' '.join(w for w in ww)"
   ]
  },
  {
   "cell_type": "code",
   "execution_count": 16,
   "id": "65c5eb84",
   "metadata": {
    "colab": {
     "base_uri": "https://localhost:8080/",
     "height": 35
    },
    "id": "65c5eb84",
    "outputId": "236771e4-dab0-4818-ce3c-b766147660eb"
   },
   "outputs": [
    {
     "data": {
      "text/plain": [
       "'ال راحه ببساطة فى ال قرآن فى ال صلاة فى ال دعاء فى...'"
      ]
     },
     "execution_count": 16,
     "metadata": {},
     "output_type": "execute_result"
    }
   ],
   "source": [
    "split_al_sent('الراحه ببساطة فى القرآن فى الصلاة فى الدعاء فى...')"
   ]
  },
  {
   "cell_type": "code",
   "execution_count": 17,
   "id": "7096a4fd",
   "metadata": {
    "id": "7096a4fd"
   },
   "outputs": [],
   "source": [
    "conditions = [is_arabicrange]\n",
    "morphs = [strip_tashkeel, strip_tatweel]"
   ]
  },
  {
   "cell_type": "code",
   "execution_count": 18,
   "id": "39654e9c",
   "metadata": {
    "id": "39654e9c"
   },
   "outputs": [],
   "source": [
    "def preprocess(corpus):\n",
    "    sentences = sent_tokenize(' '.join(w for w in corpus))\n",
    "#     sentences = [sent.lower() for sent in sentences]\n",
    "#     sentences = [re.sub('<\\w+>', '', sent) for sent in sentences]\n",
    "    sentences = [sent.decode() for sent in \n",
    "                 tf.strings.regex_replace(sentences,f'[{punctuation_string}]', '').numpy()]\n",
    "    sentences = [split_al_sent(sent) for sent in sentences]\n",
    "    sentences = [araby.normalize_hamza(sent, method='tasheel') for sent in sentences]\n",
    "#     tokens = [word_tokenize(sent) for sent in tqdm(sentences)]\n",
    "    tokens = [araby.tokenize(sent, conditions=conditions, morphs=morphs) for sent in tqdm(sentences)]\n",
    "    # return tokenized sentences\n",
    "    return tokens"
   ]
  },
  {
   "cell_type": "code",
   "execution_count": 19,
   "id": "b2124c53",
   "metadata": {
    "colab": {
     "base_uri": "https://localhost:8080/"
    },
    "id": "b2124c53",
    "outputId": "a9c01630-0fb9-4576-864d-6e8a78125b32"
   },
   "outputs": [
    {
     "name": "stderr",
     "output_type": "stream",
     "text": [
      "100%|██████████| 44996/44996 [00:01<00:00, 42207.62it/s]\n"
     ]
    }
   ],
   "source": [
    "tokens_list = preprocess(corpus)"
   ]
  },
  {
   "cell_type": "code",
   "execution_count": 20,
   "id": "762a2f2c",
   "metadata": {
    "colab": {
     "base_uri": "https://localhost:8080/"
    },
    "id": "762a2f2c",
    "outputId": "b8632baa-9284-4981-fba9-2c615622989c"
   },
   "outputs": [
    {
     "data": {
      "text/plain": [
       "44996"
      ]
     },
     "execution_count": 20,
     "metadata": {},
     "output_type": "execute_result"
    }
   ],
   "source": [
    "len(tokens_list)"
   ]
  },
  {
   "cell_type": "code",
   "execution_count": 21,
   "id": "1577c700",
   "metadata": {
    "colab": {
     "base_uri": "https://localhost:8080/"
    },
    "id": "1577c700",
    "outputId": "98476d17-c072-49bd-dd34-56a677703b20",
    "scrolled": false
   },
   "outputs": [
    {
     "name": "stdout",
     "output_type": "stream",
     "text": [
      "['اكبر', 'خطا', 'ترتكبه', 'ان', 'تعامل', 'ال', 'ناس', 'باخلاقك', 'انت', 'مش', 'باخلاقهم', 'هما']\n"
     ]
    }
   ],
   "source": [
    "print(tokens_list[0])"
   ]
  },
  {
   "cell_type": "code",
   "execution_count": 56,
   "id": "21d507ff",
   "metadata": {},
   "outputs": [],
   "source": [
    "def build_vocabulary(tokens_list, top_n=10000):\n",
    "    freqs = {}\n",
    "\n",
    "    # get the freqs\n",
    "    for tokens in tqdm(tokens_list):\n",
    "        for word in tokens:\n",
    "            if word not in freqs:\n",
    "                freqs[word] = 1\n",
    "            else:\n",
    "                freqs[word] += 1\n",
    "    # sort the freqs\n",
    "    freqs = OrderedDict(sorted(freqs.items(), key=lambda x: x[1], reverse=True))\n",
    "    \n",
    "    # get the first top_n words\n",
    "    top_n_words = list(freqs)[:top_n]\n",
    "    \n",
    "    \n",
    "    stoi = {'<pad>': 0, '<unk>': 1}\n",
    "    itos = {0: '<pad>', 1: '<unk>'}\n",
    "    idx = 2\n",
    "    \n",
    "    for word in tqdm(top_n_words):\n",
    "        if word not in stoi:\n",
    "            stoi[word] = idx\n",
    "            itos[idx] = word\n",
    "            idx += 1\n",
    "    \n",
    "    \n",
    "    return stoi, itos"
   ]
  },
  {
   "cell_type": "code",
   "execution_count": 57,
   "id": "01fba7a7",
   "metadata": {
    "scrolled": true
   },
   "outputs": [
    {
     "name": "stderr",
     "output_type": "stream",
     "text": [
      "100%|██████████| 44996/44996 [00:00<00:00, 388538.82it/s]\n",
      "100%|██████████| 10000/10000 [00:00<00:00, 2398801.26it/s]\n"
     ]
    }
   ],
   "source": [
    "stoi, itos = build_vocabulary(tokens_list)"
   ]
  },
  {
   "cell_type": "code",
   "execution_count": 69,
   "id": "bc4f7d66",
   "metadata": {},
   "outputs": [],
   "source": [
    "def numericalize(tokens_list):\n",
    "    numericalized = []\n",
    "    for sent in tokens_list:\n",
    "        n_set = []\n",
    "        for w in sent:\n",
    "            if w in stoi:\n",
    "                n_set.append(stoi[w])\n",
    "            else:\n",
    "                n_set.append(stoi['<unk>'])\n",
    "        numericalized.append(n_set)\n",
    "    \n",
    "    return numericalized"
   ]
  },
  {
   "cell_type": "code",
   "execution_count": 32,
   "id": "7234b995",
   "metadata": {
    "colab": {
     "base_uri": "https://localhost:8080/"
    },
    "id": "7234b995",
    "outputId": "33cb5168-9648-40fb-dd5d-4b58c3ee8c39"
   },
   "outputs": [
    {
     "name": "stdout",
     "output_type": "stream",
     "text": [
      "Vocab Size  : 49454\n",
      "Vocab Sample: [('<pad>', 0), ('اكبر', 1), ('خطا', 2), ('ترتكبه', 3), ('ان', 4)]\n"
     ]
    }
   ],
   "source": [
    "vocab_size = len(stoi)\n",
    "embed_size = 300\n",
    "window_size = 2\n",
    "\n",
    "print(f\"Vocab Size  : {vocab_size}\")\n",
    "print(f\"Vocab Sample: {list(stoi.items())[:5]}\")"
   ]
  },
  {
   "cell_type": "code",
   "execution_count": 33,
   "id": "919437ce",
   "metadata": {
    "id": "919437ce"
   },
   "outputs": [],
   "source": [
    "def generate_context_target_pairs(corpus=numericalized, window_size=2, vocab_size=vocab_size):\n",
    "    \n",
    "    context_length = window_size * 2\n",
    "    \n",
    "    for sentence in corpus:\n",
    "        sentence_length = len(sentence)\n",
    "        \n",
    "        for index, word in enumerate(sentence):\n",
    "            context_words = []\n",
    "            label_word = []\n",
    "            start = index - window_size\n",
    "            end = index + window_size + 1\n",
    "            \n",
    "            context_words.append([sentence[i] for i in range(start, end)\n",
    "                                 if 0 <= i < sentence_length and i != index])\n",
    "            label_word.append(word)\n",
    "            \n",
    "            x = pad_sequences(context_words, maxlen=context_length)\n",
    "            y = to_categorical(label_word, vocab_size)\n",
    "            yield(x[0], y[0])"
   ]
  },
  {
   "cell_type": "code",
   "execution_count": 34,
   "id": "15fd95d8",
   "metadata": {
    "colab": {
     "base_uri": "https://localhost:8080/"
    },
    "id": "15fd95d8",
    "outputId": "fdc525c1-cb73-406f-8e59-775f8047b702"
   },
   "outputs": [
    {
     "name": "stdout",
     "output_type": "stream",
     "text": [
      "Target: ترتكبه, Context: ['اكبر', 'خطا', 'ان', 'تعامل']\n",
      "Target: ان, Context: ['خطا', 'ترتكبه', 'تعامل', 'ال']\n",
      "Target: تعامل, Context: ['ترتكبه', 'ان', 'ال', 'ناس']\n",
      "Target: ال, Context: ['ان', 'تعامل', 'ناس', 'باخلاقك']\n",
      "Target: ناس, Context: ['تعامل', 'ال', 'باخلاقك', 'انت']\n",
      "Target: باخلاقك, Context: ['ال', 'ناس', 'انت', 'مش']\n",
      "Target: انت, Context: ['ناس', 'باخلاقك', 'مش', 'باخلاقهم']\n",
      "Target: مش, Context: ['باخلاقك', 'انت', 'باخلاقهم', 'هما']\n",
      "Target: اخر, Context: ['دايما', 'اكره', 'ليله', 'في']\n",
      "Target: ليله, Context: ['اكره', 'اخر', 'في', 'كل']\n"
     ]
    }
   ],
   "source": [
    "i = 0\n",
    "for x, y in generate_context_target_pairs(numericalized, 2, vocab_size):\n",
    "    if 0 not in x:\n",
    "        if i == 10: break\n",
    "        i+=1\n",
    "\n",
    "        print(f'Target: {itos[np.argmax(y)]}, Context: {[itos[w] for w in x]}')"
   ]
  },
  {
   "cell_type": "code",
   "execution_count": 35,
   "id": "J9OFp6bNfWzI",
   "metadata": {
    "colab": {
     "base_uri": "https://localhost:8080/"
    },
    "id": "J9OFp6bNfWzI",
    "outputId": "17978f7c-e66b-4c52-9c26-9c86585df65b"
   },
   "outputs": [
    {
     "data": {
      "text/plain": [
       "([None, 4], [None, 49454])"
      ]
     },
     "execution_count": 35,
     "metadata": {
      "tags": []
     },
     "output_type": "execute_result"
    }
   ],
   "source": [
    "output_shapes = ([None, window_size*2],[None, vocab_size])\n",
    "output_shapes"
   ]
  },
  {
   "cell_type": "code",
   "execution_count": 36,
   "id": "eYXGjsibE0dH",
   "metadata": {
    "id": "eYXGjsibE0dH"
   },
   "outputs": [],
   "source": [
    "output_shapes = ([window_size*2],[vocab_size])\n",
    "dataset = tf.data.Dataset.from_generator(generate_context_target_pairs, (tf.int32, tf.int32), output_shapes=output_shapes)\n",
    "dataset = dataset.batch(1000)"
   ]
  },
  {
   "cell_type": "code",
   "execution_count": 37,
   "id": "qoc3fNijFhwJ",
   "metadata": {
    "colab": {
     "base_uri": "https://localhost:8080/"
    },
    "id": "qoc3fNijFhwJ",
    "outputId": "3c7c218b-5439-48ef-c805-19c0c81e3696"
   },
   "outputs": [
    {
     "name": "stdout",
     "output_type": "stream",
     "text": [
      "(1000, 4) (1000, 49454)\n"
     ]
    }
   ],
   "source": [
    "for batch, (x, y) in enumerate(dataset):\n",
    "    break\n",
    "    #print(\"batch: \", batch)\n",
    "print(x.shape, y.shape)"
   ]
  },
  {
   "cell_type": "code",
   "execution_count": 38,
   "id": "92110bc5",
   "metadata": {
    "id": "92110bc5"
   },
   "outputs": [],
   "source": [
    "from keras.models import Sequential\n",
    "from keras.layers import Dense, Embedding, Lambda\n",
    "\n",
    "model = Sequential([\n",
    "    Embedding(input_dim=vocab_size, output_dim=embed_size, input_length=window_size*2),\n",
    "    Lambda(lambda x: keras.backend.mean(x, axis=1), output_shape=(embed_size)),\n",
    "    Dense(vocab_size, activation='softmax')\n",
    "])\n",
    "\n",
    "model.compile(loss='categorical_crossentropy', optimizer='adam', metrics=['accuracy'])"
   ]
  },
  {
   "cell_type": "code",
   "execution_count": 39,
   "id": "fb3a97fa",
   "metadata": {
    "colab": {
     "base_uri": "https://localhost:8080/"
    },
    "id": "fb3a97fa",
    "outputId": "7b7fd174-98bc-454b-e65f-2c7b6463ca9e",
    "scrolled": true
   },
   "outputs": [
    {
     "name": "stdout",
     "output_type": "stream",
     "text": [
      "Model: \"sequential\"\n",
      "_________________________________________________________________\n",
      "Layer (type)                 Output Shape              Param #   \n",
      "=================================================================\n",
      "embedding (Embedding)        (None, 4, 300)            14836200  \n",
      "_________________________________________________________________\n",
      "lambda (Lambda)              (None, 300)               0         \n",
      "_________________________________________________________________\n",
      "dense (Dense)                (None, 49454)             14885654  \n",
      "=================================================================\n",
      "Total params: 29,721,854\n",
      "Trainable params: 29,721,854\n",
      "Non-trainable params: 0\n",
      "_________________________________________________________________\n"
     ]
    }
   ],
   "source": [
    "model.summary()"
   ]
  },
  {
   "cell_type": "code",
   "execution_count": 40,
   "id": "34abdf49",
   "metadata": {
    "colab": {
     "base_uri": "https://localhost:8080/",
     "height": 421
    },
    "id": "34abdf49",
    "outputId": "fc1b2d56-1e89-4706-87d5-46e2f02b7e21",
    "scrolled": true
   },
   "outputs": [
    {
     "data": {
      "image/png": "[encoded data removed]",
      "text/plain": [
       "<IPython.core.display.Image object>"
      ]
     },
     "execution_count": 40,
     "metadata": {
      "tags": []
     },
     "output_type": "execute_result"
    }
   ],
   "source": [
    "plot_model(model,show_shapes=True, show_layer_names=True, rankdir='TB', expand_nested=True)"
   ]
  },
  {
   "cell_type": "code",
   "execution_count": 41,
   "id": "dda46620",
   "metadata": {
    "id": "dda46620"
   },
   "outputs": [],
   "source": [
    "google_drive_path = '/content/drive/MyDrive/weights/cbow/ar_full.h5'\n",
    "# google_drive_path = 'models/test_ar.h5'"
   ]
  },
  {
   "cell_type": "code",
   "execution_count": 42,
   "id": "tcuFVYxLDU6J",
   "metadata": {
    "colab": {
     "base_uri": "https://localhost:8080/"
    },
    "id": "tcuFVYxLDU6J",
    "outputId": "1cc8fbfd-95da-4f92-cf5c-34eedb8935db"
   },
   "outputs": [
    {
     "name": "stdout",
     "output_type": "stream",
     "text": [
      "Epoch 1/30\n",
      "414/414 [==============================] - 263s 628ms/step - loss: 9.5213 - accuracy: 0.1124\n",
      "\n",
      "Epoch 00001: loss improved from inf to 8.67453, saving model to /content/drive/MyDrive/weights/cbow/ar_full.h5\n",
      "Epoch 2/30\n",
      "414/414 [==============================] - 258s 624ms/step - loss: 7.7157 - accuracy: 0.1261\n",
      "\n",
      "Epoch 00002: loss improved from 8.67453 to 7.67251, saving model to /content/drive/MyDrive/weights/cbow/ar_full.h5\n",
      "Epoch 3/30\n",
      "414/414 [==============================] - 258s 622ms/step - loss: 7.4484 - accuracy: 0.1304\n",
      "\n",
      "Epoch 00003: loss improved from 7.67251 to 7.41896, saving model to /content/drive/MyDrive/weights/cbow/ar_full.h5\n",
      "Epoch 4/30\n",
      "414/414 [==============================] - 257s 620ms/step - loss: 7.1971 - accuracy: 0.1382\n",
      "\n",
      "Epoch 00004: loss improved from 7.41896 to 7.16205, saving model to /content/drive/MyDrive/weights/cbow/ar_full.h5\n",
      "Epoch 5/30\n",
      "414/414 [==============================] - 255s 615ms/step - loss: 6.9172 - accuracy: 0.1510\n",
      "\n",
      "Epoch 00005: loss improved from 7.16205 to 6.88316, saving model to /content/drive/MyDrive/weights/cbow/ar_full.h5\n",
      "Epoch 6/30\n",
      "414/414 [==============================] - 254s 613ms/step - loss: 6.6317 - accuracy: 0.1655\n",
      "\n",
      "Epoch 00006: loss improved from 6.88316 to 6.60119, saving model to /content/drive/MyDrive/weights/cbow/ar_full.h5\n",
      "Epoch 7/30\n",
      "414/414 [==============================] - 254s 612ms/step - loss: 6.3499 - accuracy: 0.1799\n",
      "\n",
      "Epoch 00007: loss improved from 6.60119 to 6.32355, saving model to /content/drive/MyDrive/weights/cbow/ar_full.h5\n",
      "Epoch 8/30\n",
      "414/414 [==============================] - 254s 613ms/step - loss: 6.0767 - accuracy: 0.1947\n",
      "\n",
      "Epoch 00008: loss improved from 6.32355 to 6.05395, saving model to /content/drive/MyDrive/weights/cbow/ar_full.h5\n",
      "Epoch 9/30\n",
      "414/414 [==============================] - 253s 612ms/step - loss: 5.8116 - accuracy: 0.2091\n",
      "\n",
      "Epoch 00009: loss improved from 6.05395 to 5.79187, saving model to /content/drive/MyDrive/weights/cbow/ar_full.h5\n",
      "Epoch 10/30\n",
      "414/414 [==============================] - 253s 611ms/step - loss: 5.5528 - accuracy: 0.2246\n",
      "\n",
      "Epoch 00010: loss improved from 5.79187 to 5.53585, saving model to /content/drive/MyDrive/weights/cbow/ar_full.h5\n",
      "Epoch 11/30\n",
      "414/414 [==============================] - 253s 610ms/step - loss: 5.2997 - accuracy: 0.2402\n",
      "\n",
      "Epoch 00011: loss improved from 5.53585 to 5.28508, saving model to /content/drive/MyDrive/weights/cbow/ar_full.h5\n",
      "Epoch 12/30\n",
      "414/414 [==============================] - 252s 609ms/step - loss: 5.0517 - accuracy: 0.2565\n",
      "\n",
      "Epoch 00012: loss improved from 5.28508 to 5.03901, saving model to /content/drive/MyDrive/weights/cbow/ar_full.h5\n",
      "Epoch 13/30\n",
      "414/414 [==============================] - 253s 612ms/step - loss: 4.8088 - accuracy: 0.2745\n",
      "\n",
      "Epoch 00013: loss improved from 5.03901 to 4.79748, saving model to /content/drive/MyDrive/weights/cbow/ar_full.h5\n",
      "Epoch 14/30\n",
      "414/414 [==============================] - 253s 612ms/step - loss: 4.5714 - accuracy: 0.2938\n",
      "\n",
      "Epoch 00014: loss improved from 4.79748 to 4.56110, saving model to /content/drive/MyDrive/weights/cbow/ar_full.h5\n",
      "Epoch 15/30\n",
      "414/414 [==============================] - 254s 612ms/step - loss: 4.3404 - accuracy: 0.3147\n",
      "\n",
      "Epoch 00015: loss improved from 4.56110 to 4.33075, saving model to /content/drive/MyDrive/weights/cbow/ar_full.h5\n",
      "Epoch 16/30\n",
      "414/414 [==============================] - 253s 610ms/step - loss: 4.1165 - accuracy: 0.3360\n",
      "\n",
      "Epoch 00016: loss improved from 4.33075 to 4.10729, saving model to /content/drive/MyDrive/weights/cbow/ar_full.h5\n",
      "Epoch 17/30\n",
      "414/414 [==============================] - 253s 611ms/step - loss: 3.9005 - accuracy: 0.3582\n",
      "\n",
      "Epoch 00017: loss improved from 4.10729 to 3.89146, saving model to /content/drive/MyDrive/weights/cbow/ar_full.h5\n",
      "Epoch 18/30\n",
      "414/414 [==============================] - 253s 610ms/step - loss: 3.6931 - accuracy: 0.3805\n",
      "\n",
      "Epoch 00018: loss improved from 3.89146 to 3.68394, saving model to /content/drive/MyDrive/weights/cbow/ar_full.h5\n",
      "Epoch 19/30\n",
      "414/414 [==============================] - 252s 609ms/step - loss: 3.4946 - accuracy: 0.4037\n",
      "\n",
      "Epoch 00019: loss improved from 3.68394 to 3.48534, saving model to /content/drive/MyDrive/weights/cbow/ar_full.h5\n",
      "Epoch 20/30\n",
      "414/414 [==============================] - 252s 609ms/step - loss: 3.3057 - accuracy: 0.4262\n",
      "\n",
      "Epoch 00020: loss improved from 3.48534 to 3.29617, saving model to /content/drive/MyDrive/weights/cbow/ar_full.h5\n",
      "Epoch 21/30\n",
      "414/414 [==============================] - 253s 611ms/step - loss: 3.1266 - accuracy: 0.4489\n",
      "\n",
      "Epoch 00021: loss improved from 3.29617 to 3.11681, saving model to /content/drive/MyDrive/weights/cbow/ar_full.h5\n",
      "Epoch 22/30\n",
      "414/414 [==============================] - 252s 609ms/step - loss: 2.9576 - accuracy: 0.4716\n",
      "\n",
      "Epoch 00022: loss improved from 3.11681 to 2.94755, saving model to /content/drive/MyDrive/weights/cbow/ar_full.h5\n",
      "Epoch 23/30\n",
      "414/414 [==============================] - 252s 609ms/step - loss: 2.7988 - accuracy: 0.4939\n",
      "\n",
      "Epoch 00023: loss improved from 2.94755 to 2.78851, saving model to /content/drive/MyDrive/weights/cbow/ar_full.h5\n",
      "Epoch 24/30\n",
      "414/414 [==============================] - 256s 617ms/step - loss: 2.6502 - accuracy: 0.5150\n",
      "\n",
      "Epoch 00024: loss improved from 2.78851 to 2.63975, saving model to /content/drive/MyDrive/weights/cbow/ar_full.h5\n",
      "Epoch 25/30\n",
      "414/414 [==============================] - 252s 608ms/step - loss: 2.5117 - accuracy: 0.5354\n",
      "\n",
      "Epoch 00025: loss improved from 2.63975 to 2.50114, saving model to /content/drive/MyDrive/weights/cbow/ar_full.h5\n",
      "Epoch 26/30\n",
      "414/414 [==============================] - 252s 610ms/step - loss: 2.3831 - accuracy: 0.5553\n",
      "\n",
      "Epoch 00026: loss improved from 2.50114 to 2.37244, saving model to /content/drive/MyDrive/weights/cbow/ar_full.h5\n",
      "Epoch 27/30\n",
      "414/414 [==============================] - 251s 607ms/step - loss: 2.2639 - accuracy: 0.5729\n",
      "\n",
      "Epoch 00027: loss improved from 2.37244 to 2.25330, saving model to /content/drive/MyDrive/weights/cbow/ar_full.h5\n",
      "Epoch 28/30\n",
      "414/414 [==============================] - 251s 607ms/step - loss: 2.1539 - accuracy: 0.5892\n",
      "\n",
      "Epoch 00028: loss improved from 2.25330 to 2.14333, saving model to /content/drive/MyDrive/weights/cbow/ar_full.h5\n",
      "Epoch 29/30\n",
      "414/414 [==============================] - 252s 607ms/step - loss: 2.0525 - accuracy: 0.6049\n",
      "\n",
      "Epoch 00029: loss improved from 2.14333 to 2.04205, saving model to /content/drive/MyDrive/weights/cbow/ar_full.h5\n",
      "Epoch 30/30\n",
      "414/414 [==============================] - 252s 609ms/step - loss: 1.9592 - accuracy: 0.6194\n",
      "\n",
      "Epoch 00030: loss improved from 2.04205 to 1.94895, saving model to /content/drive/MyDrive/weights/cbow/ar_full.h5\n"
     ]
    }
   ],
   "source": [
    "early_stopping_cb = callbacks.EarlyStopping(monitor='loss', patience=4, verbose=True)\n",
    "checkpoint_cb = callbacks.ModelCheckpoint(google_drive_path, monitor='loss', verbose=True, save_best_only=True)\n",
    "tensorboard_callback = callbacks.TensorBoard(log_dir=\"logs\")\n",
    "\n",
    "callbacks_list = [early_stopping_cb, checkpoint_cb, tensorboard_callback]\n",
    "\n",
    "history = model.fit(dataset, epochs=30, callbacks=callbacks_list)"
   ]
  },
  {
   "cell_type": "code",
   "execution_count": 43,
   "id": "wwR2FPBf-l_d",
   "metadata": {
    "colab": {
     "base_uri": "https://localhost:8080/"
    },
    "id": "wwR2FPBf-l_d",
    "outputId": "6d5f450f-27ff-4902-852f-0af10ff00048"
   },
   "outputs": [
    {
     "name": "stdout",
     "output_type": "stream",
     "text": [
      "Epoch 1/30\n",
      "414/414 [==============================] - 252s 609ms/step - loss: 1.8635 - accuracy: 0.6342\n",
      "\n",
      "Epoch 00001: loss improved from 1.94895 to 1.86348, saving model to /content/drive/MyDrive/weights/cbow/ar_full.h5\n",
      "Epoch 2/30\n",
      "414/414 [==============================] - 253s 611ms/step - loss: 1.7851 - accuracy: 0.6461\n",
      "\n",
      "Epoch 00002: loss improved from 1.86348 to 1.78514, saving model to /content/drive/MyDrive/weights/cbow/ar_full.h5\n",
      "Epoch 3/30\n",
      "414/414 [==============================] - 252s 609ms/step - loss: 1.7133 - accuracy: 0.6573\n",
      "\n",
      "Epoch 00003: loss improved from 1.78514 to 1.71335, saving model to /content/drive/MyDrive/weights/cbow/ar_full.h5\n",
      "Epoch 4/30\n",
      "414/414 [==============================] - 252s 608ms/step - loss: 1.6476 - accuracy: 0.6677\n",
      "\n",
      "Epoch 00004: loss improved from 1.71335 to 1.64759, saving model to /content/drive/MyDrive/weights/cbow/ar_full.h5\n",
      "Epoch 5/30\n",
      "414/414 [==============================] - 252s 608ms/step - loss: 1.5873 - accuracy: 0.6772\n",
      "\n",
      "Epoch 00005: loss improved from 1.64759 to 1.58735, saving model to /content/drive/MyDrive/weights/cbow/ar_full.h5\n",
      "Epoch 6/30\n",
      "414/414 [==============================] - 252s 608ms/step - loss: 1.5322 - accuracy: 0.6859\n",
      "\n",
      "Epoch 00006: loss improved from 1.58735 to 1.53217, saving model to /content/drive/MyDrive/weights/cbow/ar_full.h5\n",
      "Epoch 7/30\n",
      "414/414 [==============================] - 252s 609ms/step - loss: 1.4816 - accuracy: 0.6937\n",
      "\n",
      "Epoch 00007: loss improved from 1.53217 to 1.48155, saving model to /content/drive/MyDrive/weights/cbow/ar_full.h5\n",
      "Epoch 8/30\n",
      "414/414 [==============================] - 252s 609ms/step - loss: 1.4351 - accuracy: 0.7010\n",
      "\n",
      "Epoch 00008: loss improved from 1.48155 to 1.43509, saving model to /content/drive/MyDrive/weights/cbow/ar_full.h5\n",
      "Epoch 9/30\n",
      "414/414 [==============================] - 252s 608ms/step - loss: 1.3924 - accuracy: 0.7079\n",
      "\n",
      "Epoch 00009: loss improved from 1.43509 to 1.39237, saving model to /content/drive/MyDrive/weights/cbow/ar_full.h5\n",
      "Epoch 10/30\n",
      "414/414 [==============================] - 252s 609ms/step - loss: 1.3531 - accuracy: 0.7139\n",
      "\n",
      "Epoch 00010: loss improved from 1.39237 to 1.35308, saving model to /content/drive/MyDrive/weights/cbow/ar_full.h5\n",
      "Epoch 11/30\n",
      "414/414 [==============================] - 252s 609ms/step - loss: 1.3169 - accuracy: 0.7196\n",
      "\n",
      "Epoch 00011: loss improved from 1.35308 to 1.31685, saving model to /content/drive/MyDrive/weights/cbow/ar_full.h5\n",
      "Epoch 12/30\n",
      "414/414 [==============================] - 252s 609ms/step - loss: 1.2834 - accuracy: 0.7249\n",
      "\n",
      "Epoch 00012: loss improved from 1.31685 to 1.28343, saving model to /content/drive/MyDrive/weights/cbow/ar_full.h5\n",
      "Epoch 13/30\n",
      "414/414 [==============================] - 251s 607ms/step - loss: 1.2525 - accuracy: 0.7299\n",
      "\n",
      "Epoch 00013: loss improved from 1.28343 to 1.25255, saving model to /content/drive/MyDrive/weights/cbow/ar_full.h5\n",
      "Epoch 14/30\n",
      "414/414 [==============================] - 253s 611ms/step - loss: 1.2240 - accuracy: 0.7343\n",
      "\n",
      "Epoch 00014: loss improved from 1.25255 to 1.22398, saving model to /content/drive/MyDrive/weights/cbow/ar_full.h5\n",
      "Epoch 15/30\n",
      "414/414 [==============================] - 252s 609ms/step - loss: 1.1975 - accuracy: 0.7386\n",
      "\n",
      "Epoch 00015: loss improved from 1.22398 to 1.19750, saving model to /content/drive/MyDrive/weights/cbow/ar_full.h5\n",
      "Epoch 16/30\n",
      "414/414 [==============================] - 252s 609ms/step - loss: 1.1730 - accuracy: 0.7425\n",
      "\n",
      "Epoch 00016: loss improved from 1.19750 to 1.17296, saving model to /content/drive/MyDrive/weights/cbow/ar_full.h5\n",
      "Epoch 17/30\n",
      "414/414 [==============================] - 252s 609ms/step - loss: 1.1501 - accuracy: 0.7460\n",
      "\n",
      "Epoch 00017: loss improved from 1.17296 to 1.15014, saving model to /content/drive/MyDrive/weights/cbow/ar_full.h5\n",
      "Epoch 18/30\n",
      "414/414 [==============================] - 253s 610ms/step - loss: 1.1290 - accuracy: 0.7493\n",
      "\n",
      "Epoch 00018: loss improved from 1.15014 to 1.12897, saving model to /content/drive/MyDrive/weights/cbow/ar_full.h5\n",
      "Epoch 19/30\n",
      "414/414 [==============================] - 252s 609ms/step - loss: 1.1092 - accuracy: 0.7524\n",
      "\n",
      "Epoch 00019: loss improved from 1.12897 to 1.10922, saving model to /content/drive/MyDrive/weights/cbow/ar_full.h5\n",
      "Epoch 20/30\n",
      "414/414 [==============================] - 251s 606ms/step - loss: 1.0909 - accuracy: 0.7553\n",
      "\n",
      "Epoch 00020: loss improved from 1.10922 to 1.09086, saving model to /content/drive/MyDrive/weights/cbow/ar_full.h5\n",
      "Epoch 21/30\n",
      "414/414 [==============================] - 251s 606ms/step - loss: 1.0737 - accuracy: 0.7579\n",
      "\n",
      "Epoch 00021: loss improved from 1.09086 to 1.07368, saving model to /content/drive/MyDrive/weights/cbow/ar_full.h5\n",
      "Epoch 22/30\n",
      "414/414 [==============================] - 251s 607ms/step - loss: 1.0577 - accuracy: 0.7605\n",
      "\n",
      "Epoch 00022: loss improved from 1.07368 to 1.05768, saving model to /content/drive/MyDrive/weights/cbow/ar_full.h5\n",
      "Epoch 23/30\n",
      "414/414 [==============================] - 251s 607ms/step - loss: 1.0427 - accuracy: 0.7627\n",
      "\n",
      "Epoch 00023: loss improved from 1.05768 to 1.04268, saving model to /content/drive/MyDrive/weights/cbow/ar_full.h5\n",
      "Epoch 24/30\n",
      "414/414 [==============================] - 252s 608ms/step - loss: 1.0287 - accuracy: 0.7652\n",
      "\n",
      "Epoch 00024: loss improved from 1.04268 to 1.02868, saving model to /content/drive/MyDrive/weights/cbow/ar_full.h5\n",
      "Epoch 25/30\n",
      "414/414 [==============================] - 252s 609ms/step - loss: 1.0155 - accuracy: 0.7673\n",
      "\n",
      "Epoch 00025: loss improved from 1.02868 to 1.01551, saving model to /content/drive/MyDrive/weights/cbow/ar_full.h5\n",
      "Epoch 26/30\n",
      "414/414 [==============================] - 252s 608ms/step - loss: 1.0032 - accuracy: 0.7691\n",
      "\n",
      "Epoch 00026: loss improved from 1.01551 to 1.00320, saving model to /content/drive/MyDrive/weights/cbow/ar_full.h5\n",
      "Epoch 27/30\n",
      "414/414 [==============================] - 252s 607ms/step - loss: 0.9916 - accuracy: 0.7711\n",
      "\n",
      "Epoch 00027: loss improved from 1.00320 to 0.99159, saving model to /content/drive/MyDrive/weights/cbow/ar_full.h5\n",
      "Epoch 28/30\n",
      "414/414 [==============================] - 252s 609ms/step - loss: 0.9807 - accuracy: 0.7728\n",
      "\n",
      "Epoch 00028: loss improved from 0.99159 to 0.98071, saving model to /content/drive/MyDrive/weights/cbow/ar_full.h5\n",
      "Epoch 29/30\n",
      "414/414 [==============================] - 252s 608ms/step - loss: 0.9704 - accuracy: 0.7745\n",
      "\n",
      "Epoch 00029: loss improved from 0.98071 to 0.97044, saving model to /content/drive/MyDrive/weights/cbow/ar_full.h5\n",
      "Epoch 30/30\n",
      "414/414 [==============================] - 254s 614ms/step - loss: 0.9608 - accuracy: 0.7759\n",
      "\n",
      "Epoch 00030: loss improved from 0.97044 to 0.96079, saving model to /content/drive/MyDrive/weights/cbow/ar_full.h5\n"
     ]
    }
   ],
   "source": [
    "history = model.fit(dataset, epochs=30, callbacks=callbacks_list)"
   ]
  }
 ],
 "metadata": {
  "accelerator": "GPU",
  "colab": {
   "collapsed_sections": [],
   "name": "different sizes",
   "provenance": []
  },
  "kernelspec": {
   "display_name": "Python 3",
   "language": "python",
   "name": "python3"
  },
  "language_info": {
   "codemirror_mode": {
    "name": "ipython",
    "version": 3
   },
   "file_extension": ".py",
   "mimetype": "text/x-python",
   "name": "python",
   "nbconvert_exporter": "python",
   "pygments_lexer": "ipython3",
   "version": "3.7.1"
  }
 },
 "nbformat": 4,
 "nbformat_minor": 5
}

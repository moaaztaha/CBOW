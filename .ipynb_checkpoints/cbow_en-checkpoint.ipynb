{
 "cells": [
  {
   "cell_type": "code",
   "execution_count": 25,
   "id": "14d01097",
   "metadata": {
    "id": "14d01097"
   },
   "outputs": [],
   "source": [
    "import tensorflow.keras as keras\n",
    "from keras.preprocessing.text import Tokenizer\n",
    "from keras.preprocessing.text import text_to_word_sequence\n",
    "from keras.preprocessing.sequence import pad_sequences\n",
    "from keras.utils.np_utils import to_categorical\n",
    "import tensorflow as tf\n",
    "import tensorflow.keras.callbacks as callbacks\n",
    "from tensorflow.keras.utils import plot_model \n",
    "\n",
    "\n",
    "from nltk import word_tokenize, sent_tokenize\n",
    "from tqdm import tqdm \n",
    "import numpy as np\n",
    "import re\n",
    "import string"
   ]
  },
  {
   "cell_type": "code",
   "execution_count": 2,
   "id": "e276f93b",
   "metadata": {
    "colab": {
     "base_uri": "https://localhost:8080/"
    },
    "id": "e276f93b",
    "outputId": "1be17e47-1927-4585-d862-2d9a0924e8ca"
   },
   "outputs": [],
   "source": [
    "path_to_file = keras.utils.get_file('shakespeare.txt', 'https://storage.googleapis.com/download.tensorflow.org/data/shakespeare.txt')"
   ]
  },
  {
   "cell_type": "code",
   "execution_count": 3,
   "id": "fa2bb56d",
   "metadata": {
    "colab": {
     "base_uri": "https://localhost:8080/"
    },
    "id": "fa2bb56d",
    "outputId": "a50fff4f-ccff-4261-cb11-6d6bd48a0fed"
   },
   "outputs": [
    {
     "data": {
      "text/plain": [
       "40000"
      ]
     },
     "execution_count": 3,
     "metadata": {},
     "output_type": "execute_result"
    }
   ],
   "source": [
    "with open(path_to_file) as f:\n",
    "    corpus = f.read().splitlines()\n",
    "len(corpus)"
   ]
  },
  {
   "cell_type": "markdown",
   "id": "23763a63",
   "metadata": {},
   "source": [
    "### Preprocessing "
   ]
  },
  {
   "cell_type": "code",
   "execution_count": 4,
   "id": "c5e5b5fb",
   "metadata": {},
   "outputs": [],
   "source": [
    "punctuation_string = '!\"\\\\\\\\#\\\\$%\\\\&\\\\\\(\\\\)\\\\*\\\\+,\\\\-\\\\./:;<=>\\\\?@\\\\[\\\\\\\\\\\\]\\\\^_`\\\\{\\\\|\\\\}\\\\~'"
   ]
  },
  {
   "cell_type": "code",
   "execution_count": 5,
   "id": "39654e9c",
   "metadata": {},
   "outputs": [],
   "source": [
    "def preprocess(corpus):\n",
    "    sentences = sent_tokenize(' '.join(w for w in corpus))\n",
    "    sentences = [sent.lower() for sent in sentences]\n",
    "    sentences = [sent.decode() for sent in \n",
    "                 tf.strings.regex_replace(sentences,f'[{punctuation_string}]', '').numpy()]\n",
    "    \n",
    "    tokens = np.array([np.array(word_tokenize(sent), dtype='object') for sent in sentences], dtype='object')\n",
    "    \n",
    "    # return tokenized sentences\n",
    "    return tokens"
   ]
  },
  {
   "cell_type": "code",
   "execution_count": 6,
   "id": "b2124c53",
   "metadata": {},
   "outputs": [],
   "source": [
    "tokens_list = preprocess(corpus)"
   ]
  },
  {
   "cell_type": "code",
   "execution_count": 7,
   "id": "ec3a6c9a",
   "metadata": {},
   "outputs": [
    {
     "data": {
      "text/plain": [
       "(12460,)"
      ]
     },
     "execution_count": 7,
     "metadata": {},
     "output_type": "execute_result"
    }
   ],
   "source": [
    "tokens_list.shape"
   ]
  },
  {
   "cell_type": "code",
   "execution_count": 8,
   "id": "1577c700",
   "metadata": {},
   "outputs": [
    {
     "data": {
      "text/plain": [
       "array([array(['first', 'citizen', 'before', 'we', 'proceed', 'any', 'further',\n",
       "       'hear', 'me', 'speak'], dtype=object),\n",
       "       array(['all', 'speak', 'speak'], dtype=object),\n",
       "       array(['first', 'citizen', 'you', 'are', 'all', 'resolved', 'rather',\n",
       "       'to', 'die', 'than', 'to', 'famish'], dtype=object),\n",
       "       array(['all', 'resolved'], dtype=object),\n",
       "       array(['resolved'], dtype=object),\n",
       "       array(['first', 'citizen', 'first', 'you', 'know', 'caius', 'marcius',\n",
       "       'is', 'chief', 'enemy', 'to', 'the', 'people'], dtype=object),\n",
       "       array(['all', 'we', \"know't\", 'we', \"know't\"], dtype=object),\n",
       "       array(['first', 'citizen', 'let', 'us', 'kill', 'him', 'and', 'we', \"'ll\",\n",
       "       'have', 'corn', 'at', 'our', 'own', 'price'], dtype=object),\n",
       "       array([\"is't\", 'a', 'verdict'], dtype=object),\n",
       "       array(['all', 'no', 'more', 'talking', 'o', \"n't\", 'let', 'it', 'be',\n",
       "       'done', 'away', 'away'], dtype=object)], dtype=object)"
      ]
     },
     "execution_count": 8,
     "metadata": {},
     "output_type": "execute_result"
    }
   ],
   "source": [
    "tokens_list[:10]"
   ]
  },
  {
   "cell_type": "code",
   "execution_count": 9,
   "id": "039e7abf",
   "metadata": {},
   "outputs": [],
   "source": [
    "def build_vocabulary(tokens_list):\n",
    "    stoi = {}\n",
    "    itos = {}\n",
    "    idx = 0\n",
    "    \n",
    "    stoi['<pad>'] = idx\n",
    "    itos[idx] = '<pad>'\n",
    "    idx += 1\n",
    "    \n",
    "    for tokens in tqdm(tokens_list):\n",
    "        for word in tokens:\n",
    "            if word not in stoi:\n",
    "                stoi[word] = idx\n",
    "                itos[idx] = word\n",
    "                idx += 1\n",
    "    return stoi, itos"
   ]
  },
  {
   "cell_type": "code",
   "execution_count": 10,
   "id": "e71406ea",
   "metadata": {},
   "outputs": [
    {
     "name": "stderr",
     "output_type": "stream",
     "text": [
      "100%|██████████| 12460/12460 [00:00<00:00, 214126.62it/s]\n"
     ]
    }
   ],
   "source": [
    "# remove '\n",
    "tokens_list\n",
    "stoi, itos = build_vocabulary(tokens_list)"
   ]
  },
  {
   "cell_type": "code",
   "execution_count": 11,
   "id": "3ad5d165",
   "metadata": {
    "id": "3ad5d165"
   },
   "outputs": [],
   "source": [
    "numericalized = [[stoi[w] for w in sent] for sent in tokens_list]"
   ]
  },
  {
   "cell_type": "code",
   "execution_count": 12,
   "id": "7234b995",
   "metadata": {
    "colab": {
     "base_uri": "https://localhost:8080/"
    },
    "id": "7234b995",
    "outputId": "b3df03c1-a68c-429a-b936-d268238e203b"
   },
   "outputs": [
    {
     "name": "stdout",
     "output_type": "stream",
     "text": [
      "Vocab Size  : 12483\n",
      "Vocab Sample: [('<pad>', 0), ('first', 1), ('citizen', 2), ('before', 3), ('we', 4)]\n"
     ]
    }
   ],
   "source": [
    "vocab_size = len(stoi)\n",
    "embed_size = 100\n",
    "window_size = 2\n",
    "\n",
    "print(f\"Vocab Size  : {vocab_size}\")\n",
    "print(f\"Vocab Sample: {list(stoi.items())[:5]}\")"
   ]
  },
  {
   "cell_type": "code",
   "execution_count": 13,
   "id": "919437ce",
   "metadata": {
    "id": "919437ce"
   },
   "outputs": [],
   "source": [
    "def generate_context_target_pairs(corpus=numericalized, window_size=2, vocab_size=vocab_size):\n",
    "    \n",
    "    context_length = window_size * 2\n",
    "    \n",
    "    for sentence in corpus:\n",
    "        sentence_length = len(sentence)\n",
    "        \n",
    "        for index, word in enumerate(sentence):\n",
    "            context_words = []\n",
    "            label_word = []\n",
    "            start = index - window_size\n",
    "            end = index + window_size + 1\n",
    "            \n",
    "            context_words.append([sentence[i] for i in range(start, end)\n",
    "                                 if 0 <= i < sentence_length and i != index])\n",
    "            label_word.append(word)\n",
    "            \n",
    "            x = pad_sequences(context_words, maxlen=context_length)\n",
    "            y = to_categorical(label_word, vocab_size)\n",
    "            yield(x[0], y[0])"
   ]
  },
  {
   "cell_type": "code",
   "execution_count": 16,
   "id": "15fd95d8",
   "metadata": {
    "colab": {
     "base_uri": "https://localhost:8080/"
    },
    "id": "15fd95d8",
    "outputId": "d1d784fe-169c-4521-8c2d-6159e5f7518f"
   },
   "outputs": [
    {
     "name": "stdout",
     "output_type": "stream",
     "text": [
      "Target: before, Context: ['first', 'citizen', 'we', 'proceed']\n",
      "Target: we, Context: ['citizen', 'before', 'proceed', 'any']\n",
      "Target: proceed, Context: ['before', 'we', 'any', 'further']\n",
      "Target: any, Context: ['we', 'proceed', 'further', 'hear']\n",
      "Target: further, Context: ['proceed', 'any', 'hear', 'me']\n",
      "Target: hear, Context: ['any', 'further', 'me', 'speak']\n",
      "Target: you, Context: ['first', 'citizen', 'are', 'all']\n",
      "Target: are, Context: ['citizen', 'you', 'all', 'resolved']\n",
      "Target: all, Context: ['you', 'are', 'resolved', 'rather']\n",
      "Target: resolved, Context: ['are', 'all', 'rather', 'to']\n"
     ]
    }
   ],
   "source": [
    "i = 0\n",
    "for x, y in generate_context_target_pairs(numericalized, 2, vocab_size):\n",
    "    if 0 not in x:\n",
    "        if i == 10: break\n",
    "        i+=1\n",
    "\n",
    "        print(f'Target: {itos[np.argmax(y)]}, Context: {[itos[w] for w in x]}')"
   ]
  },
  {
   "cell_type": "code",
   "execution_count": 17,
   "id": "eYXGjsibE0dH",
   "metadata": {
    "id": "eYXGjsibE0dH"
   },
   "outputs": [],
   "source": [
    "dataset = tf.data.Dataset.from_generator(generate_context_target_pairs, (tf.int16, tf.int16)).batch(100000)"
   ]
  },
  {
   "cell_type": "code",
   "execution_count": 18,
   "id": "qoc3fNijFhwJ",
   "metadata": {
    "colab": {
     "base_uri": "https://localhost:8080/",
     "height": 385
    },
    "id": "qoc3fNijFhwJ",
    "outputId": "5b1256bb-ae10-49e0-985e-232b9acf7f8d"
   },
   "outputs": [
    {
     "name": "stdout",
     "output_type": "stream",
     "text": [
      "batch:  0\n"
     ]
    },
    {
     "data": {
      "text/plain": [
       "(TensorShape([100000, 4]), TensorShape([100000, 12483]))"
      ]
     },
     "execution_count": 18,
     "metadata": {},
     "output_type": "execute_result"
    }
   ],
   "source": [
    "for batch, (x, y) in enumerate(dataset):\n",
    "  break\n",
    "print(\"batch: \", batch)\n",
    "x.shape, y.shape"
   ]
  },
  {
   "cell_type": "code",
   "execution_count": 30,
   "id": "92110bc5",
   "metadata": {
    "id": "92110bc5"
   },
   "outputs": [],
   "source": [
    "from keras.models import Sequential\n",
    "from keras.layers import Dense, Embedding, Lambda\n",
    "\n",
    "model = Sequential([\n",
    "    Embedding(input_dim=vocab_size, output_dim=embed_size, input_length=window_size*2),\n",
    "    Lambda(lambda x: keras.backend.mean(x, axis=1), output_shape=(embed_size)),\n",
    "    Dense(vocab_size, activation='softmax')\n",
    "])\n",
    "\n",
    "model.compile(loss='categorical_crossentropy', optimizer='adam', metrics=['accuracy'])"
   ]
  },
  {
   "cell_type": "code",
   "execution_count": 31,
   "id": "fb3a97fa",
   "metadata": {
    "colab": {
     "base_uri": "https://localhost:8080/"
    },
    "id": "fb3a97fa",
    "outputId": "9904a204-09fc-467e-f98c-da93714667c9",
    "scrolled": true
   },
   "outputs": [
    {
     "name": "stdout",
     "output_type": "stream",
     "text": [
      "Model: \"sequential_1\"\n",
      "_________________________________________________________________\n",
      "Layer (type)                 Output Shape              Param #   \n",
      "=================================================================\n",
      "embedding_1 (Embedding)      (None, 4, 100)            1248300   \n",
      "_________________________________________________________________\n",
      "lambda_1 (Lambda)            (None, 100)               0         \n",
      "_________________________________________________________________\n",
      "dense_1 (Dense)              (None, 12483)             1260783   \n",
      "=================================================================\n",
      "Total params: 2,509,083\n",
      "Trainable params: 2,509,083\n",
      "Non-trainable params: 0\n",
      "_________________________________________________________________\n"
     ]
    }
   ],
   "source": [
    "model.summary()"
   ]
  },
  {
   "cell_type": "code",
   "execution_count": 32,
   "id": "34abdf49",
   "metadata": {
    "colab": {
     "base_uri": "https://localhost:8080/",
     "height": 421
    },
    "id": "34abdf49",
    "outputId": "354dd2cd-cb54-44ba-af7b-e0393a7f018e"
   },
   "outputs": [
    {
     "name": "stdout",
     "output_type": "stream",
     "text": [
      "('You must install pydot (`pip install pydot`) and install graphviz (see instructions at https://graphviz.gitlab.io/download/) ', 'for plot_model/model_to_dot to work.')\n"
     ]
    }
   ],
   "source": [
    "plot_model(model,show_shapes=True, show_layer_names=True, rankdir='TB', expand_nested=True)"
   ]
  },
  {
   "cell_type": "code",
   "execution_count": 34,
   "id": "dda46620",
   "metadata": {},
   "outputs": [],
   "source": [
    "google_drive_path = ''"
   ]
  },
  {
   "cell_type": "code",
   "execution_count": 35,
   "id": "tcuFVYxLDU6J",
   "metadata": {
    "colab": {
     "base_uri": "https://localhost:8080/",
     "height": 755
    },
    "id": "tcuFVYxLDU6J",
    "outputId": "fe8d8716-0047-46cb-e202-54daed27f773"
   },
   "outputs": [
    {
     "name": "stdout",
     "output_type": "stream",
     "text": [
      "3125/3125 [==============================] - 64s 20ms/step - loss: 7.4852 - accuracy: 0.0333\n",
      "WARNING:tensorflow:Early stopping conditioned on metric `val_loss` which is not available. Available metrics are: loss,accuracy\n",
      "WARNING:tensorflow:Can save best model only with val_loss available, skipping.\n"
     ]
    }
   ],
   "source": [
    "early_stopping_cb = callbacks.EarlyStopping(patience=10, verbose=True)\n",
    "checkpoint_cb = callbacks.ModelCheckpoint(google_drive_path, verbose=True, save_best_only=True)\n",
    "tensorboard_callback = callbacks.TensorBoard(log_dir=\"logs\")\n",
    "\n",
    "callbacks_list = [early_stopping_cb, checkpoint_cb, tensorboard_callback]\n",
    "\n",
    "history = model.fit(x, y, epochs=1, callbacks=callbacks_list)"
   ]
  }
 ],
 "metadata": {
  "accelerator": "GPU",
  "colab": {
   "collapsed_sections": [],
   "name": "Untitled.ipynb",
   "provenance": []
  },
  "kernelspec": {
   "display_name": "Python 3",
   "language": "python",
   "name": "python3"
  },
  "language_info": {
   "codemirror_mode": {
    "name": "ipython",
    "version": 3
   },
   "file_extension": ".py",
   "mimetype": "text/x-python",
   "name": "python",
   "nbconvert_exporter": "python",
   "pygments_lexer": "ipython3",
   "version": "3.8.8"
  }
 },
 "nbformat": 4,
 "nbformat_minor": 5
}

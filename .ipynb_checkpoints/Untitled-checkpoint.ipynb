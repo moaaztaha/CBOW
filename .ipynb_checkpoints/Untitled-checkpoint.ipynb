{
 "cells": [
  {
   "cell_type": "code",
   "execution_count": 2,
   "id": "7337863f",
   "metadata": {},
   "outputs": [
    {
     "data": {
      "text/html": [
       "<style>.container { width:100% !important; }</style>"
      ],
      "text/plain": [
       "<IPython.core.display.HTML object>"
      ]
     },
     "metadata": {},
     "output_type": "display_data"
    }
   ],
   "source": [
    "from IPython.core.display import display, HTML\n",
    "display(HTML(\"<style>.container { width:100% !important; }</style>\"))"
   ]
  },
  {
   "cell_type": "code",
   "execution_count": 3,
   "id": "14d01097",
   "metadata": {},
   "outputs": [],
   "source": [
    "import tensorflow.keras as keras\n",
    "from keras.preprocessing.text import Tokenizer\n",
    "from keras.preprocessing.text import text_to_word_sequence\n",
    "from keras.preprocessing.sequence import pad_sequences\n",
    "from keras.utils.np_utils import to_categorical\n",
    "import tensorflow as tf\n",
    "\n",
    "import numpy as np\n",
    "import re\n",
    "import string"
   ]
  },
  {
   "cell_type": "code",
   "execution_count": 4,
   "id": "e276f93b",
   "metadata": {},
   "outputs": [],
   "source": [
    "path_to_file = keras.utils.get_file('shakespeare.txt', 'https://storage.googleapis.com/download.tensorflow.org/data/shakespeare.txt')"
   ]
  },
  {
   "cell_type": "code",
   "execution_count": 5,
   "id": "fa2bb56d",
   "metadata": {},
   "outputs": [
    {
     "data": {
      "text/plain": [
       "40000"
      ]
     },
     "execution_count": 5,
     "metadata": {},
     "output_type": "execute_result"
    }
   ],
   "source": [
    "with open(path_to_file) as f:\n",
    "    corpus = f.read().splitlines()\n",
    "len(corpus)"
   ]
  },
  {
   "cell_type": "code",
   "execution_count": 6,
   "id": "135c681e",
   "metadata": {},
   "outputs": [
    {
     "data": {
      "text/plain": [
       "['First Citizen:',\n",
       " 'Before we proceed any further, hear me speak.',\n",
       " '',\n",
       " 'All:',\n",
       " 'Speak, speak.']"
      ]
     },
     "execution_count": 6,
     "metadata": {},
     "output_type": "execute_result"
    }
   ],
   "source": [
    "corpus[:5]"
   ]
  },
  {
   "cell_type": "code",
   "execution_count": 7,
   "id": "b916c179",
   "metadata": {},
   "outputs": [],
   "source": [
    "corpus = [line for line in corpus if line != '']"
   ]
  },
  {
   "cell_type": "code",
   "execution_count": 8,
   "id": "2a518d00",
   "metadata": {},
   "outputs": [],
   "source": [
    "corpus_text = text_to_word_sequence(' '.join(i for i in corpus))"
   ]
  },
  {
   "cell_type": "code",
   "execution_count": 9,
   "id": "7464ffce",
   "metadata": {},
   "outputs": [
    {
     "data": {
      "text/plain": [
       "['First Citizen:',\n",
       " 'Before we proceed any further, hear me speak.',\n",
       " 'All:',\n",
       " 'Speak, speak.',\n",
       " 'First Citizen:',\n",
       " 'You are all resolved rather to die than to famish?',\n",
       " 'All:',\n",
       " 'Resolved. resolved.',\n",
       " 'First Citizen:',\n",
       " 'First, you know Caius Marcius is chief enemy to the people.']"
      ]
     },
     "execution_count": 9,
     "metadata": {},
     "output_type": "execute_result"
    }
   ],
   "source": [
    "corpus[:10]"
   ]
  },
  {
   "cell_type": "code",
   "execution_count": 10,
   "id": "d73876f5",
   "metadata": {},
   "outputs": [
    {
     "data": {
      "text/plain": [
       "['first', 'citizen', 'before', 'we', 'proceed']"
      ]
     },
     "execution_count": 10,
     "metadata": {},
     "output_type": "execute_result"
    }
   ],
   "source": [
    "corpus_text[:5]"
   ]
  },
  {
   "cell_type": "code",
   "execution_count": 11,
   "id": "3fe23302",
   "metadata": {},
   "outputs": [],
   "source": [
    "tokenizer = Tokenizer()"
   ]
  },
  {
   "cell_type": "code",
   "execution_count": 12,
   "id": "311e9739",
   "metadata": {},
   "outputs": [],
   "source": [
    "tokenizer.fit_on_texts(corpus_text)"
   ]
  },
  {
   "cell_type": "code",
   "execution_count": 13,
   "id": "0e87845a",
   "metadata": {},
   "outputs": [],
   "source": [
    "stoi = tokenizer.word_index\n",
    "stoi['<pad>'] = 0\n",
    "itos = {i:s for s,i in stoi.items()}"
   ]
  },
  {
   "cell_type": "code",
   "execution_count": 14,
   "id": "3ad5d165",
   "metadata": {},
   "outputs": [],
   "source": [
    "numericalized = [[stoi[w] for w in text_to_word_sequence(doc)] for doc in corpus]"
   ]
  },
  {
   "cell_type": "code",
   "execution_count": 15,
   "id": "7234b995",
   "metadata": {},
   "outputs": [
    {
     "name": "stdout",
     "output_type": "stream",
     "text": [
      "Vocab Size  : 12633\n",
      "Vocab Sample: [('the', 1), ('and', 2), ('to', 3), ('i', 4), ('of', 5)]\n"
     ]
    }
   ],
   "source": [
    "vocab_size = len(stoi)\n",
    "embed_size = 100\n",
    "window_size = 2\n",
    "\n",
    "print(f\"Vocab Size  : {vocab_size}\")\n",
    "print(f\"Vocab Sample: {list(stoi.items())[:5]}\")"
   ]
  },
  {
   "cell_type": "code",
   "execution_count": 16,
   "id": "919437ce",
   "metadata": {},
   "outputs": [],
   "source": [
    "def generate_context_target_paris(corpus, window_size, vocab_size):\n",
    "    \n",
    "    context_length = window_size * 2\n",
    "    \n",
    "    for sentence in corpus:\n",
    "        sentence_length = len(sentence)\n",
    "        \n",
    "        for index, word in enumerate(sentence):\n",
    "            context_words = []\n",
    "            label_word = []\n",
    "            start = index - window_size\n",
    "            end = index + window_size + 1\n",
    "            \n",
    "            context_words.append([sentence[i] for i in range(start, end)\n",
    "                                 if 0 <= i < sentence_length and i != index])\n",
    "            label_word.append(word)\n",
    "            \n",
    "            x = pad_sequences(context_words, maxlen=context_length)\n",
    "            y = to_categorical(label_word, vocab_size)\n",
    "            yield(x, y)"
   ]
  },
  {
   "cell_type": "code",
   "execution_count": 17,
   "id": "15fd95d8",
   "metadata": {},
   "outputs": [
    {
     "name": "stdout",
     "output_type": "stream",
     "text": [
      "Target: proceed, Context: ['before', 'we', 'any', 'further']\n",
      "Target: any, Context: ['we', 'proceed', 'further', 'hear']\n",
      "Target: further, Context: ['proceed', 'any', 'hear', 'me']\n",
      "Target: hear, Context: ['any', 'further', 'me', 'speak']\n",
      "Target: all, Context: ['you', 'are', 'resolved', 'rather']\n",
      "Target: resolved, Context: ['are', 'all', 'rather', 'to']\n",
      "Target: rather, Context: ['all', 'resolved', 'to', 'die']\n",
      "Target: to, Context: ['resolved', 'rather', 'die', 'than']\n",
      "Target: die, Context: ['rather', 'to', 'than', 'to']\n",
      "Target: than, Context: ['to', 'die', 'to', 'famish']\n"
     ]
    }
   ],
   "source": [
    "i = 0\n",
    "for x, y in generate_context_target_paris(numericalized, 2, vocab_size):\n",
    "    if 0 not in x[0]:\n",
    "        if i == 10: break\n",
    "        i+=1\n",
    "\n",
    "        print(f'Target: {itos[np.argmax(y)]}, Context: {[itos[w] for w in x[0]]}')"
   ]
  },
  {
   "cell_type": "code",
   "execution_count": null,
   "id": "44477447",
   "metadata": {},
   "outputs": [],
   "source": []
  },
  {
   "cell_type": "code",
   "execution_count": 17,
   "id": "92110bc5",
   "metadata": {},
   "outputs": [],
   "source": [
    "from keras.models import Sequential\n",
    "from keras.layers import Dense, Embedding, Lambda\n",
    "\n",
    "model = Sequential([\n",
    "    Embedding(input_dim=vocab_size, output_dim=embed_size, input_length=window_size*2),\n",
    "    Lambda(lambda x: keras.backend.mean(x, axis=1), output_shape=(embed_size,)),\n",
    "    Dense(vocab_size, activation='softmax')\n",
    "])\n",
    "\n",
    "model.compile(loss='categorical_crossentropy', optimizer='rmsprop')"
   ]
  },
  {
   "cell_type": "code",
   "execution_count": 18,
   "id": "fb3a97fa",
   "metadata": {
    "scrolled": true
   },
   "outputs": [
    {
     "name": "stdout",
     "output_type": "stream",
     "text": [
      "Model: \"sequential\"\n",
      "_________________________________________________________________\n",
      "Layer (type)                 Output Shape              Param #   \n",
      "=================================================================\n",
      "embedding (Embedding)        (None, 4, 100)            1263300   \n",
      "_________________________________________________________________\n",
      "lambda (Lambda)              (None, 100)               0         \n",
      "_________________________________________________________________\n",
      "dense (Dense)                (None, 12633)             1275933   \n",
      "=================================================================\n",
      "Total params: 2,539,233\n",
      "Trainable params: 2,539,233\n",
      "Non-trainable params: 0\n",
      "_________________________________________________________________\n"
     ]
    }
   ],
   "source": [
    "model.summary()"
   ]
  },
  {
   "cell_type": "code",
   "execution_count": null,
   "id": "b401e43f",
   "metadata": {},
   "outputs": [],
   "source": [
    "x, y = np.narray"
   ]
  },
  {
   "cell_type": "code",
   "execution_count": null,
   "id": "e09945b2",
   "metadata": {},
   "outputs": [],
   "source": []
  },
  {
   "cell_type": "code",
   "execution_count": 26,
   "id": "fa43041c",
   "metadata": {},
   "outputs": [
    {
     "name": "stdout",
     "output_type": "stream",
     "text": [
      "('You must install pydot (`pip install pydot`) and install graphviz (see instructions at https://graphviz.gitlab.io/download/) ', 'for plot_model/model_to_dot to work.')\n"
     ]
    }
   ],
   "source": [
    "from tensorflow.keras.utils import plot_model \n",
    "plot_model(model,show_shapes=True, show_layer_names=True, rankdir='TB', expand_nested=True)"
   ]
  }
 ],
 "metadata": {
  "kernelspec": {
   "display_name": "Python 3",
   "language": "python",
   "name": "python3"
  },
  "language_info": {
   "codemirror_mode": {
    "name": "ipython",
    "version": 3
   },
   "file_extension": ".py",
   "mimetype": "text/x-python",
   "name": "python",
   "nbconvert_exporter": "python",
   "pygments_lexer": "ipython3",
   "version": "3.8.8"
  }
 },
 "nbformat": 4,
 "nbformat_minor": 5
}

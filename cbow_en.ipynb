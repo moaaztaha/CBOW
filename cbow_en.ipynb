{
 "cells": [
  {
   "cell_type": "code",
   "execution_count": 2,
   "id": "HeLOMlp2UfvL",
   "metadata": {
    "colab": {
     "base_uri": "https://localhost:8080/"
    },
    "id": "HeLOMlp2UfvL",
    "outputId": "8ce488fe-897e-4944-a565-8fce69d23e5f"
   },
   "outputs": [
    {
     "name": "stdout",
     "output_type": "stream",
     "text": [
      "Sun May 23 14:09:15 2021       \r\n",
      "+-----------------------------------------------------------------------------+\r\n",
      "| NVIDIA-SMI 465.31       Driver Version: 465.31       CUDA Version: 11.3     |\r\n",
      "|-------------------------------+----------------------+----------------------+\r\n",
      "| GPU  Name        Persistence-M| Bus-Id        Disp.A | Volatile Uncorr. ECC |\r\n",
      "| Fan  Temp  Perf  Pwr:Usage/Cap|         Memory-Usage | GPU-Util  Compute M. |\r\n",
      "|                               |                      |               MIG M. |\r\n",
      "|===============================+======================+======================|\r\n",
      "|   0  NVIDIA GeForce ...  Off  | 00000000:01:00.0  On |                  N/A |\r\n",
      "| N/A   53C    P8     7W /  N/A |     47MiB /  6078MiB |     29%      Default |\r\n",
      "|                               |                      |                  N/A |\r\n",
      "+-------------------------------+----------------------+----------------------+\r\n",
      "                                                                               \r\n",
      "+-----------------------------------------------------------------------------+\r\n",
      "| Processes:                                                                  |\r\n",
      "|  GPU   GI   CI        PID   Type   Process name                  GPU Memory |\r\n",
      "|        ID   ID                                                   Usage      |\r\n",
      "|=============================================================================|\r\n",
      "|    0   N/A  N/A      1416      G   /usr/lib/Xorg                      45MiB |\r\n",
      "+-----------------------------------------------------------------------------+\r\n"
     ]
    }
   ],
   "source": [
    "!nvidia-smi"
   ]
  },
  {
   "cell_type": "code",
   "execution_count": 19,
   "id": "14d01097",
   "metadata": {
    "colab": {
     "base_uri": "https://localhost:8080/"
    },
    "id": "14d01097",
    "outputId": "20f8f087-304e-4de5-e561-391190ad866b"
   },
   "outputs": [],
   "source": [
    "import tensorflow.keras as keras\n",
    "from tensorflow.keras.preprocessing.text import text_to_word_sequence\n",
    "from tensorflow.keras.preprocessing.sequence import pad_sequences\n",
    "from tensorflow.keras.utils import to_categorical\n",
    "import tensorflow as tf\n",
    "import tensorflow.keras.callbacks as callbacks\n",
    "from tensorflow.keras.utils import plot_model \n",
    "\n",
    "\n",
    "from nltk import word_tokenize, sent_tokenize\n",
    "import nltk\n",
    "from tqdm import tqdm \n",
    "import numpy as np\n",
    "import re\n",
    "import string\n",
    "from collections import OrderedDict"
   ]
  },
  {
   "cell_type": "code",
   "execution_count": 4,
   "id": "b0oJ7rj2Uk-2",
   "metadata": {
    "colab": {
     "base_uri": "https://localhost:8080/"
    },
    "id": "b0oJ7rj2Uk-2",
    "outputId": "69d8a7d9-e725-4d3d-8908-5e5c7668c117"
   },
   "outputs": [],
   "source": [
    "# nltk.download('punkt')\n",
    "# !wget https://www.corpusdata.org/now/samples/text.zip\n",
    "# !unzip -q text.zip"
   ]
  },
  {
   "cell_type": "code",
   "execution_count": 7,
   "id": "e276f93b",
   "metadata": {
    "id": "e276f93b"
   },
   "outputs": [],
   "source": [
    "path_to_file = 'data/text.txt'\n",
    "# path_to_file = 'text.txt'"
   ]
  },
  {
   "cell_type": "code",
   "execution_count": 8,
   "id": "fa2bb56d",
   "metadata": {
    "colab": {
     "base_uri": "https://localhost:8080/"
    },
    "id": "fa2bb56d",
    "outputId": "93ec1584-74b3-40f3-c82e-8894ed0e74e4"
   },
   "outputs": [
    {
     "data": {
      "text/plain": [
       "2917"
      ]
     },
     "execution_count": 8,
     "metadata": {},
     "output_type": "execute_result"
    }
   ],
   "source": [
    "with open(path_to_file) as f:\n",
    "    corpus = f.read().splitlines()\n",
    "len(corpus)"
   ]
  },
  {
   "cell_type": "markdown",
   "id": "23763a63",
   "metadata": {
    "id": "23763a63"
   },
   "source": [
    "### Preprocessing "
   ]
  },
  {
   "cell_type": "code",
   "execution_count": 9,
   "id": "c5e5b5fb",
   "metadata": {
    "id": "c5e5b5fb"
   },
   "outputs": [],
   "source": [
    "punctuation_string = '!\"\\\\\\\\#\\\\$%\\\\&\\\\\\(\\\\)\\\\*\\\\+,\\\\-\\\\./:;<=>\\\\?@\\\\[\\\\\\\\\\\\]\\\\^_`\\\\{\\\\|\\\\}\\\\~\\d'"
   ]
  },
  {
   "cell_type": "code",
   "execution_count": 10,
   "id": "39654e9c",
   "metadata": {
    "id": "39654e9c"
   },
   "outputs": [],
   "source": [
    "def preprocess(corpus):\n",
    "    sentences = sent_tokenize(' '.join(w for w in corpus))\n",
    "    sentences = [sent.lower() for sent in sentences]\n",
    "    sentences = [re.sub('<\\w+>', '', sent) for sent in sentences]\n",
    "    sentences = [sent.decode() for sent in \n",
    "                 tf.strings.regex_replace(sentences,f'[{punctuation_string}]', '').numpy()]\n",
    "    \n",
    "    tokens = [word_tokenize(sent) for sent in tqdm(sentences)]\n",
    "    \n",
    "    # return tokenized sentences\n",
    "    return tokens"
   ]
  },
  {
   "cell_type": "code",
   "execution_count": 11,
   "id": "b2124c53",
   "metadata": {
    "colab": {
     "base_uri": "https://localhost:8080/"
    },
    "id": "b2124c53",
    "outputId": "217c5a76-9b9c-4470-d9e0-1646a56b737f"
   },
   "outputs": [
    {
     "name": "stderr",
     "output_type": "stream",
     "text": [
      "100%|██████████| 77044/77044 [00:11<00:00, 6716.99it/s]\n"
     ]
    }
   ],
   "source": [
    "tokens_list = preprocess(corpus[3:])"
   ]
  },
  {
   "cell_type": "code",
   "execution_count": 12,
   "id": "40961fd0",
   "metadata": {
    "colab": {
     "base_uri": "https://localhost:8080/"
    },
    "id": "40961fd0",
    "outputId": "6afe9551-f74d-415f-d0e9-ce435b069676",
    "scrolled": true
   },
   "outputs": [
    {
     "data": {
      "text/plain": [
       "77044"
      ]
     },
     "execution_count": 12,
     "metadata": {},
     "output_type": "execute_result"
    }
   ],
   "source": [
    "len(tokens_list)"
   ]
  },
  {
   "cell_type": "code",
   "execution_count": 13,
   "id": "1577c700",
   "metadata": {
    "colab": {
     "base_uri": "https://localhost:8080/"
    },
    "id": "1577c700",
    "outputId": "48aaef29-fbd6-4dde-cd16-1f0e1d056a10",
    "scrolled": false
   },
   "outputs": [
    {
     "name": "stdout",
     "output_type": "stream",
     "text": [
      "['sol', 'yurick', 'the', 'writer', 'whose']\n"
     ]
    }
   ],
   "source": [
    "print(tokens_list[0][:5])"
   ]
  },
  {
   "cell_type": "code",
   "execution_count": 20,
   "id": "039e7abf",
   "metadata": {
    "id": "039e7abf"
   },
   "outputs": [],
   "source": [
    "def build_vocabulary(tokens_list, top_n=10000):\n",
    "    freqs = {}\n",
    "\n",
    "    # get the freqs\n",
    "    for tokens in tqdm(tokens_list):\n",
    "        for word in tokens:\n",
    "            if word not in freqs:\n",
    "                freqs[word] = 1\n",
    "            else:\n",
    "                freqs[word] += 1\n",
    "    # sort the freqs\n",
    "    freqs = OrderedDict(sorted(freqs.items(), key=lambda x: x[1], reverse=True))\n",
    "    \n",
    "    # get the first top_n words\n",
    "    top_n_words = list(freqs)[:top_n]\n",
    "    \n",
    "    \n",
    "    stoi = {'<pad>': 0, '<unk>': 1}\n",
    "    itos = {0: '<pad>', 1: '<unk>'}\n",
    "    idx = 2\n",
    "    \n",
    "    for word in tqdm(top_n_words):\n",
    "        if word not in stoi:\n",
    "            stoi[word] = idx\n",
    "            itos[idx] = word\n",
    "            idx += 1\n",
    "    \n",
    "    \n",
    "    return stoi, itos"
   ]
  },
  {
   "cell_type": "code",
   "execution_count": 21,
   "id": "e71406ea",
   "metadata": {
    "colab": {
     "base_uri": "https://localhost:8080/"
    },
    "id": "e71406ea",
    "outputId": "eb1a0b1e-b7ab-4b10-c687-6b46f46128d4"
   },
   "outputs": [
    {
     "name": "stderr",
     "output_type": "stream",
     "text": [
      "100%|██████████| 77044/77044 [00:00<00:00, 235862.29it/s]\n",
      "100%|██████████| 10000/10000 [00:00<00:00, 1278868.19it/s]\n"
     ]
    }
   ],
   "source": [
    "stoi, itos = build_vocabulary(tokens_list)"
   ]
  },
  {
   "cell_type": "code",
   "execution_count": 22,
   "id": "a115e0d5",
   "metadata": {},
   "outputs": [],
   "source": [
    "def numericalize(tokens_list):\n",
    "    numericalized = []\n",
    "    for sent in tokens_list:\n",
    "        n_set = []\n",
    "        for w in sent:\n",
    "            if w in stoi:\n",
    "                n_set.append(stoi[w])\n",
    "            else:\n",
    "                n_set.append(stoi['<unk>'])\n",
    "        numericalized.append(n_set)\n",
    "    \n",
    "    return numericalized"
   ]
  },
  {
   "cell_type": "code",
   "execution_count": 23,
   "id": "3ad5d165",
   "metadata": {
    "id": "3ad5d165"
   },
   "outputs": [],
   "source": [
    "numericalized = numericalize(tokens_list)"
   ]
  },
  {
   "cell_type": "code",
   "execution_count": 24,
   "id": "7234b995",
   "metadata": {
    "colab": {
     "base_uri": "https://localhost:8080/"
    },
    "id": "7234b995",
    "outputId": "2a69988e-2b90-461c-eaf2-bbf088fa5f1d"
   },
   "outputs": [
    {
     "name": "stdout",
     "output_type": "stream",
     "text": [
      "Vocab Size  : 10002\n",
      "Vocab Sample: [('<pad>', 0), ('<unk>', 1), ('the', 2), ('to', 3), ('of', 4)]\n"
     ]
    }
   ],
   "source": [
    "vocab_size = len(stoi)\n",
    "embed_size = 300\n",
    "window_size = 2\n",
    "\n",
    "print(f\"Vocab Size  : {vocab_size}\")\n",
    "print(f\"Vocab Sample: {list(stoi.items())[:5]}\")"
   ]
  },
  {
   "cell_type": "code",
   "execution_count": 31,
   "id": "8e9f1a8d",
   "metadata": {},
   "outputs": [],
   "source": [
    "# save stoi\n",
    "# Save Labels separately on a line-by-line manner.\n",
    "with open('logs/metadata_10k.tsv', \"w\") as f:\n",
    "    for subwords in stoi:\n",
    "        f.write(\"{}\\n\".format(subwords))"
   ]
  },
  {
   "cell_type": "code",
   "execution_count": 32,
   "id": "919437ce",
   "metadata": {
    "id": "919437ce"
   },
   "outputs": [],
   "source": [
    "def generate_context_target_pairs(corpus=numericalized, window_size=2, vocab_size=vocab_size):\n",
    "    \n",
    "    context_length = window_size * 2\n",
    "    \n",
    "    for sentence in corpus:\n",
    "        sentence_length = len(sentence)\n",
    "        \n",
    "        for index, word in enumerate(sentence):\n",
    "            context_words = []\n",
    "            label_word = []\n",
    "            start = index - window_size\n",
    "            end = index + window_size + 1\n",
    "            \n",
    "            context_words.append([sentence[i] for i in range(start, end)\n",
    "                                 if 0 <= i < sentence_length and i != index])\n",
    "            label_word.append(word)\n",
    "            \n",
    "            x = pad_sequences(context_words, maxlen=context_length)\n",
    "            y = to_categorical(label_word, vocab_size)\n",
    "            yield(x[0], y[0])"
   ]
  },
  {
   "cell_type": "code",
   "execution_count": 33,
   "id": "15fd95d8",
   "metadata": {
    "colab": {
     "base_uri": "https://localhost:8080/"
    },
    "id": "15fd95d8",
    "outputId": "6c47719f-e860-446c-e479-7a54cc0c8e7b"
   },
   "outputs": [
    {
     "name": "stdout",
     "output_type": "stream",
     "text": [
      "Target: the, Context: ['<unk>', '<unk>', 'writer', 'whose']\n",
      "Target: writer, Context: ['<unk>', 'the', 'whose', 'novel']\n",
      "Target: whose, Context: ['the', 'writer', 'novel', 'the']\n",
      "Target: novel, Context: ['writer', 'whose', 'the', 'warriors']\n",
      "Target: the, Context: ['whose', 'novel', 'warriors', 'was']\n",
      "Target: warriors, Context: ['novel', 'the', 'was', 'adapted']\n",
      "Target: was, Context: ['the', 'warriors', 'adapted', 'into']\n",
      "Target: adapted, Context: ['warriors', 'was', 'into', 'a']\n",
      "Target: into, Context: ['was', 'adapted', 'a', 'film']\n",
      "Target: a, Context: ['adapted', 'into', 'film', 'years']\n"
     ]
    }
   ],
   "source": [
    "i = 0\n",
    "for x, y in generate_context_target_pairs(numericalized, 2, vocab_size):\n",
    "    if 0 not in x:\n",
    "        if i == 10: break\n",
    "        i+=1\n",
    "\n",
    "        print(f'Target: {itos[np.argmax(y)]}, Context: {[itos[w] for w in x]}')"
   ]
  },
  {
   "cell_type": "code",
   "execution_count": 34,
   "id": "J9OFp6bNfWzI",
   "metadata": {
    "colab": {
     "base_uri": "https://localhost:8080/"
    },
    "id": "J9OFp6bNfWzI",
    "outputId": "1bd04f50-9217-49a2-89cc-397640595b8a"
   },
   "outputs": [
    {
     "data": {
      "text/plain": [
       "([None, 4], [None, 10002])"
      ]
     },
     "execution_count": 34,
     "metadata": {},
     "output_type": "execute_result"
    }
   ],
   "source": [
    "output_shapes = ([None, window_size*2],[None, vocab_size])\n",
    "output_shapes"
   ]
  },
  {
   "cell_type": "code",
   "execution_count": 35,
   "id": "eYXGjsibE0dH",
   "metadata": {
    "id": "eYXGjsibE0dH"
   },
   "outputs": [],
   "source": [
    "output_shapes = ([window_size*2],[vocab_size])\n",
    "dataset = tf.data.Dataset.from_generator(generate_context_target_pairs, (tf.int32, tf.int32), output_shapes=output_shapes)\n",
    "dataset = dataset.batch(1000)"
   ]
  },
  {
   "cell_type": "code",
   "execution_count": 39,
   "id": "qoc3fNijFhwJ",
   "metadata": {
    "colab": {
     "base_uri": "https://localhost:8080/",
     "height": 402
    },
    "id": "qoc3fNijFhwJ",
    "outputId": "b5fe46f3-34db-4017-b47e-fda1a22aa2ee"
   },
   "outputs": [
    {
     "name": "stdout",
     "output_type": "stream",
     "text": [
      "(1000, 4) (1000, 10002)\n"
     ]
    }
   ],
   "source": [
    "for batch, (x, y) in enumerate(dataset):\n",
    "    break\n",
    "    #print(\"batch: \", batch)\n",
    "    #if x.shape != (1000, 4) or y.shape != (1000, 37188):\n",
    "print(x.shape, y.shape)"
   ]
  },
  {
   "cell_type": "code",
   "execution_count": 41,
   "id": "92110bc5",
   "metadata": {
    "id": "92110bc5"
   },
   "outputs": [],
   "source": [
    "from tensorflow.keras.models import Sequential\n",
    "from tensorflow.keras.layers import Dense, Embedding, Lambda\n",
    "\n",
    "model = Sequential([\n",
    "    Embedding(input_dim=vocab_size, output_dim=embed_size, input_length=window_size*2),\n",
    "    Lambda(lambda x: keras.backend.mean(x, axis=1), output_shape=(embed_size)),\n",
    "    Dense(vocab_size, activation='softmax')\n",
    "])\n",
    "\n",
    "model.compile(loss='categorical_crossentropy', optimizer='adam', metrics=['accuracy'])"
   ]
  },
  {
   "cell_type": "code",
   "execution_count": 42,
   "id": "fb3a97fa",
   "metadata": {
    "colab": {
     "base_uri": "https://localhost:8080/"
    },
    "id": "fb3a97fa",
    "outputId": "5150d00d-4d97-45c3-b32e-f5915dc84639",
    "scrolled": false
   },
   "outputs": [
    {
     "name": "stdout",
     "output_type": "stream",
     "text": [
      "Model: \"sequential\"\n",
      "_________________________________________________________________\n",
      "Layer (type)                 Output Shape              Param #   \n",
      "=================================================================\n",
      "embedding (Embedding)        (None, 4, 300)            3000600   \n",
      "_________________________________________________________________\n",
      "lambda (Lambda)              (None, 300)               0         \n",
      "_________________________________________________________________\n",
      "dense (Dense)                (None, 10002)             3010602   \n",
      "=================================================================\n",
      "Total params: 6,011,202\n",
      "Trainable params: 6,011,202\n",
      "Non-trainable params: 0\n",
      "_________________________________________________________________\n"
     ]
    }
   ],
   "source": [
    "model.summary()"
   ]
  },
  {
   "cell_type": "code",
   "execution_count": 45,
   "id": "34abdf49",
   "metadata": {
    "colab": {
     "base_uri": "https://localhost:8080/",
     "height": 421
    },
    "id": "34abdf49",
    "outputId": "afe6a51e-9216-4fe8-a1b4-069baac8da35"
   },
   "outputs": [
    {
     "name": "stdout",
     "output_type": "stream",
     "text": [
      "('Failed to import pydot. You must `pip install pydot` and install graphviz (https://graphviz.gitlab.io/download/), ', 'for `pydotprint` to work.')\n"
     ]
    }
   ],
   "source": [
    "plot_model(model,show_shapes=True, show_layer_names=True, rankdir='TB', expand_nested=True)"
   ]
  },
  {
   "cell_type": "code",
   "execution_count": 46,
   "id": "dda46620",
   "metadata": {
    "id": "dda46620"
   },
   "outputs": [],
   "source": [
    "google_drive_path = 'models/local_en_10k_test.h5'\n",
    "# google_drive_path = '/content/drive/MyDrive/weights/cbow/now_1000.h5'"
   ]
  },
  {
   "cell_type": "code",
   "execution_count": 47,
   "id": "tcuFVYxLDU6J",
   "metadata": {
    "colab": {
     "base_uri": "https://localhost:8080/"
    },
    "id": "tcuFVYxLDU6J",
    "outputId": "b3656b3c-6dd6-4534-a397-8906f97fde7f"
   },
   "outputs": [
    {
     "name": "stdout",
     "output_type": "stream",
     "text": [
      "1600/1600 [==============================] - 1022s 638ms/step - loss: 7.0741 - accuracy: 0.0954\n",
      "\n",
      "Epoch 00001: loss improved from inf to 6.48802, saving model to models/local_en_10k_test.h5\n"
     ]
    }
   ],
   "source": [
    "early_stopping_cb = callbacks.EarlyStopping(monitor='loss', patience=4, verbose=True)\n",
    "checkpoint_cb = callbacks.ModelCheckpoint(google_drive_path, monitor='loss', verbose=True, save_best_only=True)\n",
    "tensorboard_callback = callbacks.TensorBoard(log_dir=\"logs\")\n",
    "\n",
    "callbacks_list = [early_stopping_cb, checkpoint_cb, tensorboard_callback]\n",
    "\n",
    "history = model.fit(dataset, epochs=1, callbacks=callbacks_list)"
   ]
  }
 ],
 "metadata": {
  "accelerator": "GPU",
  "colab": {
   "collapsed_sections": [],
   "name": "different sizes",
   "provenance": [],
   "toc_visible": true
  },
  "kernelspec": {
   "display_name": "Python 3",
   "language": "python",
   "name": "python3"
  },
  "language_info": {
   "codemirror_mode": {
    "name": "ipython",
    "version": 3
   },
   "file_extension": ".py",
   "mimetype": "text/x-python",
   "name": "python",
   "nbconvert_exporter": "python",
   "pygments_lexer": "ipython3",
   "version": "3.7.1"
  }
 },
 "nbformat": 4,
 "nbformat_minor": 5
}

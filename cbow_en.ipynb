{
 "cells": [
  {
   "cell_type": "code",
   "execution_count": 1,
   "id": "HeLOMlp2UfvL",
   "metadata": {
    "colab": {
     "base_uri": "https://localhost:8080/"
    },
    "id": "HeLOMlp2UfvL",
    "outputId": "8ce488fe-897e-4944-a565-8fce69d23e5f"
   },
   "outputs": [
    {
     "name": "stdout",
     "output_type": "stream",
     "text": [
      "Sat May 22 21:51:22 2021       \r\n",
      "+-----------------------------------------------------------------------------+\r\n",
      "| NVIDIA-SMI 465.31       Driver Version: 465.31       CUDA Version: 11.3     |\r\n",
      "|-------------------------------+----------------------+----------------------+\r\n",
      "| GPU  Name        Persistence-M| Bus-Id        Disp.A | Volatile Uncorr. ECC |\r\n",
      "| Fan  Temp  Perf  Pwr:Usage/Cap|         Memory-Usage | GPU-Util  Compute M. |\r\n",
      "|                               |                      |               MIG M. |\r\n",
      "|===============================+======================+======================|\r\n",
      "|   0  NVIDIA GeForce ...  Off  | 00000000:01:00.0  On |                  N/A |\r\n",
      "| N/A   55C    P8     6W /  N/A |     47MiB /  6078MiB |     29%      Default |\r\n",
      "|                               |                      |                  N/A |\r\n",
      "+-------------------------------+----------------------+----------------------+\r\n",
      "                                                                               \r\n",
      "+-----------------------------------------------------------------------------+\r\n",
      "| Processes:                                                                  |\r\n",
      "|  GPU   GI   CI        PID   Type   Process name                  GPU Memory |\r\n",
      "|        ID   ID                                                   Usage      |\r\n",
      "|=============================================================================|\r\n",
      "|    0   N/A  N/A      1416      G   /usr/lib/Xorg                      45MiB |\r\n",
      "+-----------------------------------------------------------------------------+\r\n"
     ]
    }
   ],
   "source": [
    "!nvidia-smi"
   ]
  },
  {
   "cell_type": "code",
   "execution_count": 2,
   "id": "14d01097",
   "metadata": {
    "colab": {
     "base_uri": "https://localhost:8080/"
    },
    "id": "14d01097",
    "outputId": "20f8f087-304e-4de5-e561-391190ad866b"
   },
   "outputs": [
    {
     "name": "stdout",
     "output_type": "stream",
     "text": [
      "[nltk_data] Downloading package punkt to /home/kelwa/nltk_data...\n",
      "[nltk_data]   Package punkt is already up-to-date!\n"
     ]
    }
   ],
   "source": [
    "import tensorflow.keras as keras\n",
    "from tensorflow.keras.preprocessing.text import text_to_word_sequence\n",
    "from tensorflow.keras.preprocessing.sequence import pad_sequences\n",
    "from tensorflow.keras.utils import to_categorical\n",
    "import tensorflow as tf\n",
    "import tensorflow.keras.callbacks as callbacks\n",
    "from tensorflow.keras.utils import plot_model \n",
    "\n",
    "\n",
    "from nltk import word_tokenize, sent_tokenize\n",
    "import nltk\n",
    "nltk.download('punkt')\n",
    "from tqdm import tqdm \n",
    "import numpy as np\n",
    "import re\n",
    "import string"
   ]
  },
  {
   "cell_type": "code",
   "execution_count": 40,
   "id": "b0oJ7rj2Uk-2",
   "metadata": {
    "colab": {
     "base_uri": "https://localhost:8080/"
    },
    "id": "b0oJ7rj2Uk-2",
    "outputId": "69d8a7d9-e725-4d3d-8908-5e5c7668c117"
   },
   "outputs": [
    {
     "name": "stdout",
     "output_type": "stream",
     "text": [
      "--2021-05-22 21:45:34--  https://www.corpusdata.org/now/samples/text.zip\n",
      "Loaded CA certificate '/etc/ssl/certs/ca-certificates.crt'\n",
      "Resolving www.corpusdata.org (www.corpusdata.org)... 209.90.108.238\n",
      "Connecting to www.corpusdata.org (www.corpusdata.org)|209.90.108.238|:443... connected.\n",
      "HTTP request sent, awaiting response... 200 OK\n",
      "Length: 3797519 (3.6M) [application/x-zip-compressed]\n",
      "Saving to: ‘text.zip’\n",
      "\n",
      "text.zip            100%[===================>]   3.62M   331KB/s    in 16s     \n",
      "\n",
      "2021-05-22 21:45:52 (232 KB/s) - ‘text.zip’ saved [3797519/3797519]\n",
      "\n"
     ]
    }
   ],
   "source": [
    "!wget https://www.corpusdata.org/now/samples/text.zip\n",
    "!unzip -q text.zip"
   ]
  },
  {
   "cell_type": "code",
   "execution_count": 3,
   "id": "e276f93b",
   "metadata": {
    "id": "e276f93b"
   },
   "outputs": [],
   "source": [
    "path_to_file = 'text.txt'"
   ]
  },
  {
   "cell_type": "code",
   "execution_count": 4,
   "id": "fa2bb56d",
   "metadata": {
    "colab": {
     "base_uri": "https://localhost:8080/"
    },
    "id": "fa2bb56d",
    "outputId": "93ec1584-74b3-40f3-c82e-8894ed0e74e4"
   },
   "outputs": [
    {
     "data": {
      "text/plain": [
       "2917"
      ]
     },
     "execution_count": 4,
     "metadata": {},
     "output_type": "execute_result"
    }
   ],
   "source": [
    "with open(path_to_file) as f:\n",
    "    corpus = f.read().splitlines()\n",
    "len(corpus)"
   ]
  },
  {
   "cell_type": "markdown",
   "id": "23763a63",
   "metadata": {
    "id": "23763a63"
   },
   "source": [
    "### Preprocessing "
   ]
  },
  {
   "cell_type": "code",
   "execution_count": 5,
   "id": "c5e5b5fb",
   "metadata": {
    "id": "c5e5b5fb"
   },
   "outputs": [],
   "source": [
    "punctuation_string = '!\"\\\\\\\\#\\\\$%\\\\&\\\\\\(\\\\)\\\\*\\\\+,\\\\-\\\\./:;<=>\\\\?@\\\\[\\\\\\\\\\\\]\\\\^_`\\\\{\\\\|\\\\}\\\\~\\d'"
   ]
  },
  {
   "cell_type": "code",
   "execution_count": 6,
   "id": "39654e9c",
   "metadata": {
    "id": "39654e9c"
   },
   "outputs": [],
   "source": [
    "def preprocess(corpus):\n",
    "    sentences = sent_tokenize(' '.join(w for w in corpus))\n",
    "    sentences = [sent.lower() for sent in sentences]\n",
    "    sentences = [re.sub('<\\w+>', '', sent) for sent in sentences]\n",
    "    sentences = [sent.decode() for sent in \n",
    "                 tf.strings.regex_replace(sentences,f'[{punctuation_string}]', '').numpy()]\n",
    "    \n",
    "    tokens = [word_tokenize(sent) for sent in tqdm(sentences)]\n",
    "    \n",
    "    # return tokenized sentences\n",
    "    return tokens"
   ]
  },
  {
   "cell_type": "code",
   "execution_count": 7,
   "id": "b2124c53",
   "metadata": {
    "colab": {
     "base_uri": "https://localhost:8080/"
    },
    "id": "b2124c53",
    "outputId": "217c5a76-9b9c-4470-d9e0-1646a56b737f"
   },
   "outputs": [
    {
     "name": "stderr",
     "output_type": "stream",
     "text": [
      "100%|██████████| 77044/77044 [00:11<00:00, 6431.02it/s]\n"
     ]
    }
   ],
   "source": [
    "tokens_list = preprocess(corpus[3:])"
   ]
  },
  {
   "cell_type": "code",
   "execution_count": 8,
   "id": "40961fd0",
   "metadata": {
    "colab": {
     "base_uri": "https://localhost:8080/"
    },
    "id": "40961fd0",
    "outputId": "6afe9551-f74d-415f-d0e9-ce435b069676",
    "scrolled": true
   },
   "outputs": [
    {
     "data": {
      "text/plain": [
       "77044"
      ]
     },
     "execution_count": 8,
     "metadata": {},
     "output_type": "execute_result"
    }
   ],
   "source": [
    "len(tokens_list)"
   ]
  },
  {
   "cell_type": "code",
   "execution_count": 9,
   "id": "1577c700",
   "metadata": {
    "colab": {
     "base_uri": "https://localhost:8080/"
    },
    "id": "1577c700",
    "outputId": "48aaef29-fbd6-4dde-cd16-1f0e1d056a10",
    "scrolled": false
   },
   "outputs": [
    {
     "name": "stdout",
     "output_type": "stream",
     "text": [
      "['sol', 'yurick', 'the', 'writer', 'whose']\n"
     ]
    }
   ],
   "source": [
    "print(tokens_list[0][:5])"
   ]
  },
  {
   "cell_type": "code",
   "execution_count": 10,
   "id": "039e7abf",
   "metadata": {
    "id": "039e7abf"
   },
   "outputs": [],
   "source": [
    "def build_vocabulary(tokens_list):\n",
    "    stoi = {}\n",
    "    itos = {}\n",
    "    idx = 0\n",
    "    \n",
    "    stoi['<pad>'] = idx\n",
    "    itos[idx] = '<pad>'\n",
    "    idx += 1\n",
    "    \n",
    "    for tokens in tqdm(tokens_list):\n",
    "        for word in tokens:\n",
    "            if word not in stoi:\n",
    "                stoi[word] = idx\n",
    "                itos[idx] = word\n",
    "                idx += 1\n",
    "    return stoi, itos"
   ]
  },
  {
   "cell_type": "code",
   "execution_count": 13,
   "id": "e71406ea",
   "metadata": {
    "colab": {
     "base_uri": "https://localhost:8080/"
    },
    "id": "e71406ea",
    "outputId": "eb1a0b1e-b7ab-4b10-c687-6b46f46128d4"
   },
   "outputs": [
    {
     "name": "stderr",
     "output_type": "stream",
     "text": [
      "100%|██████████| 77044/77044 [00:00<00:00, 291792.56it/s]\n"
     ]
    }
   ],
   "source": [
    "# remove '\n",
    "stoi, itos = build_vocabulary(tokens_list)"
   ]
  },
  {
   "cell_type": "code",
   "execution_count": 14,
   "id": "3ad5d165",
   "metadata": {
    "id": "3ad5d165"
   },
   "outputs": [],
   "source": [
    "numericalized = [[stoi[w] for w in sent] for sent in tokens_list]"
   ]
  },
  {
   "cell_type": "code",
   "execution_count": 15,
   "id": "7234b995",
   "metadata": {
    "colab": {
     "base_uri": "https://localhost:8080/"
    },
    "id": "7234b995",
    "outputId": "2a69988e-2b90-461c-eaf2-bbf088fa5f1d"
   },
   "outputs": [
    {
     "name": "stdout",
     "output_type": "stream",
     "text": [
      "Vocab Size  : 63525\n",
      "Vocab Sample: [('<pad>', 0), ('sol', 1), ('yurick', 2), ('the', 3), ('writer', 4)]\n"
     ]
    }
   ],
   "source": [
    "vocab_size = len(stoi)\n",
    "embed_size = 300\n",
    "window_size = 2\n",
    "\n",
    "print(f\"Vocab Size  : {vocab_size}\")\n",
    "print(f\"Vocab Sample: {list(stoi.items())[:5]}\")"
   ]
  },
  {
   "cell_type": "code",
   "execution_count": 16,
   "id": "8e9f1a8d",
   "metadata": {},
   "outputs": [],
   "source": [
    "# save stoi\n",
    "# Save Labels separately on a line-by-line manner.\n",
    "with open('logs/metadata.tsv', \"w\") as f:\n",
    "    for subwords in stoi:\n",
    "        f.write(\"{}\\n\".format(subwords))"
   ]
  },
  {
   "cell_type": "code",
   "execution_count": 17,
   "id": "60d18a9b",
   "metadata": {},
   "outputs": [
    {
     "data": {
      "text/plain": [
       "2216"
      ]
     },
     "execution_count": 17,
     "metadata": {},
     "output_type": "execute_result"
    }
   ],
   "source": [
    "stoi['king']"
   ]
  },
  {
   "cell_type": "code",
   "execution_count": 20,
   "id": "37101c11",
   "metadata": {},
   "outputs": [
    {
     "data": {
      "text/plain": [
       "\"ra'ad\""
      ]
     },
     "execution_count": 20,
     "metadata": {},
     "output_type": "execute_result"
    }
   ],
   "source": [
    "itos[41409]"
   ]
  },
  {
   "cell_type": "code",
   "execution_count": 88,
   "id": "919437ce",
   "metadata": {
    "id": "919437ce"
   },
   "outputs": [],
   "source": [
    "def generate_context_target_pairs(corpus=numericalized, window_size=2, vocab_size=vocab_size):\n",
    "    \n",
    "    context_length = window_size * 2\n",
    "    \n",
    "    for sentence in corpus:\n",
    "        sentence_length = len(sentence)\n",
    "        \n",
    "        for index, word in enumerate(sentence):\n",
    "            context_words = []\n",
    "            label_word = []\n",
    "            start = index - window_size\n",
    "            end = index + window_size + 1\n",
    "            \n",
    "            context_words.append([sentence[i] for i in range(start, end)\n",
    "                                 if 0 <= i < sentence_length and i != index])\n",
    "            label_word.append(word)\n",
    "            \n",
    "            x = pad_sequences(context_words, maxlen=context_length)\n",
    "            y = to_categorical(label_word, vocab_size)\n",
    "            yield(x[0], y[0])"
   ]
  },
  {
   "cell_type": "code",
   "execution_count": 89,
   "id": "15fd95d8",
   "metadata": {
    "colab": {
     "base_uri": "https://localhost:8080/"
    },
    "id": "15fd95d8",
    "outputId": "6c47719f-e860-446c-e479-7a54cc0c8e7b"
   },
   "outputs": [
    {
     "name": "stdout",
     "output_type": "stream",
     "text": [
      "Target: the, Context: ['sol', 'yurick', 'writer', 'whose']\n",
      "Target: writer, Context: ['yurick', 'the', 'whose', 'novel']\n",
      "Target: whose, Context: ['the', 'writer', 'novel', 'the']\n",
      "Target: novel, Context: ['writer', 'whose', 'the', 'warriors']\n",
      "Target: the, Context: ['whose', 'novel', 'warriors', 'was']\n",
      "Target: warriors, Context: ['novel', 'the', 'was', 'adapted']\n",
      "Target: was, Context: ['the', 'warriors', 'adapted', 'into']\n",
      "Target: adapted, Context: ['warriors', 'was', 'into', 'a']\n",
      "Target: into, Context: ['was', 'adapted', 'a', 'film']\n",
      "Target: a, Context: ['adapted', 'into', 'film', 'years']\n"
     ]
    }
   ],
   "source": [
    "i = 0\n",
    "for x, y in generate_context_target_pairs(numericalized, 2, vocab_size):\n",
    "    if 0 not in x:\n",
    "        if i == 10: break\n",
    "        i+=1\n",
    "\n",
    "        print(f'Target: {itos[np.argmax(y)]}, Context: {[itos[w] for w in x]}')"
   ]
  },
  {
   "cell_type": "code",
   "execution_count": 90,
   "id": "J9OFp6bNfWzI",
   "metadata": {
    "colab": {
     "base_uri": "https://localhost:8080/"
    },
    "id": "J9OFp6bNfWzI",
    "outputId": "1bd04f50-9217-49a2-89cc-397640595b8a"
   },
   "outputs": [
    {
     "data": {
      "text/plain": [
       "([None, 4], [None, 37188])"
      ]
     },
     "execution_count": 90,
     "metadata": {
      "tags": []
     },
     "output_type": "execute_result"
    }
   ],
   "source": [
    "output_shapes = ([None, window_size*2],[None, vocab_size])\n",
    "output_shapes"
   ]
  },
  {
   "cell_type": "code",
   "execution_count": 120,
   "id": "eYXGjsibE0dH",
   "metadata": {
    "id": "eYXGjsibE0dH"
   },
   "outputs": [],
   "source": [
    "output_shapes = ([window_size*2],[vocab_size])\n",
    "dataset = tf.data.Dataset.from_generator(generate_context_target_pairs, (tf.int32, tf.int32), output_shapes=output_shapes)\n",
    "dataset = dataset.batch(1000)"
   ]
  },
  {
   "cell_type": "code",
   "execution_count": 121,
   "id": "qoc3fNijFhwJ",
   "metadata": {
    "colab": {
     "base_uri": "https://localhost:8080/",
     "height": 402
    },
    "id": "qoc3fNijFhwJ",
    "outputId": "b5fe46f3-34db-4017-b47e-fda1a22aa2ee"
   },
   "outputs": [
    {
     "name": "stderr",
     "output_type": "stream",
     "text": [
      "26it [00:08,  3.33it/s]"
     ]
    },
    {
     "ename": "KeyboardInterrupt",
     "evalue": "ignored",
     "output_type": "error",
     "traceback": [
      "\u001b[0;31m---------------------------------------------------------------------------\u001b[0m",
      "\u001b[0;31mKeyboardInterrupt\u001b[0m                         Traceback (most recent call last)",
      "\u001b[0;32m<ipython-input-121-2d69b037be86>\u001b[0m in \u001b[0;36m<module>\u001b[0;34m()\u001b[0m\n\u001b[0;32m----> 1\u001b[0;31m \u001b[0;32mfor\u001b[0m \u001b[0mbatch\u001b[0m\u001b[0;34m,\u001b[0m \u001b[0;34m(\u001b[0m\u001b[0mx\u001b[0m\u001b[0;34m,\u001b[0m \u001b[0my\u001b[0m\u001b[0;34m)\u001b[0m \u001b[0;32min\u001b[0m \u001b[0mtqdm\u001b[0m\u001b[0;34m(\u001b[0m\u001b[0menumerate\u001b[0m\u001b[0;34m(\u001b[0m\u001b[0mdataset\u001b[0m\u001b[0;34m)\u001b[0m\u001b[0;34m)\u001b[0m\u001b[0;34m:\u001b[0m\u001b[0;34m\u001b[0m\u001b[0;34m\u001b[0m\u001b[0m\n\u001b[0m\u001b[1;32m      2\u001b[0m     \u001b[0;31m#break\u001b[0m\u001b[0;34m\u001b[0m\u001b[0;34m\u001b[0m\u001b[0;34m\u001b[0m\u001b[0m\n\u001b[1;32m      3\u001b[0m     \u001b[0;31m#print(\"batch: \", batch)\u001b[0m\u001b[0;34m\u001b[0m\u001b[0;34m\u001b[0m\u001b[0;34m\u001b[0m\u001b[0m\n\u001b[1;32m      4\u001b[0m     \u001b[0;32mif\u001b[0m \u001b[0mx\u001b[0m\u001b[0;34m.\u001b[0m\u001b[0mshape\u001b[0m \u001b[0;34m!=\u001b[0m \u001b[0;34m(\u001b[0m\u001b[0;36m1000\u001b[0m\u001b[0;34m,\u001b[0m \u001b[0;36m4\u001b[0m\u001b[0;34m)\u001b[0m \u001b[0;32mor\u001b[0m \u001b[0my\u001b[0m\u001b[0;34m.\u001b[0m\u001b[0mshape\u001b[0m \u001b[0;34m!=\u001b[0m \u001b[0;34m(\u001b[0m\u001b[0;36m1000\u001b[0m\u001b[0;34m,\u001b[0m \u001b[0;36m37188\u001b[0m\u001b[0;34m)\u001b[0m\u001b[0;34m:\u001b[0m\u001b[0;34m\u001b[0m\u001b[0;34m\u001b[0m\u001b[0m\n\u001b[1;32m      5\u001b[0m       \u001b[0mprint\u001b[0m\u001b[0;34m(\u001b[0m\u001b[0mx\u001b[0m\u001b[0;34m.\u001b[0m\u001b[0mshape\u001b[0m\u001b[0;34m,\u001b[0m \u001b[0my\u001b[0m\u001b[0;34m.\u001b[0m\u001b[0mshape\u001b[0m\u001b[0;34m)\u001b[0m\u001b[0;34m\u001b[0m\u001b[0;34m\u001b[0m\u001b[0m\n",
      "\u001b[0;32m/usr/local/lib/python3.7/dist-packages/tqdm/std.py\u001b[0m in \u001b[0;36m__iter__\u001b[0;34m(self)\u001b[0m\n\u001b[1;32m   1102\u001b[0m                 fp_write=getattr(self.fp, 'write', sys.stderr.write))\n\u001b[1;32m   1103\u001b[0m \u001b[0;34m\u001b[0m\u001b[0m\n\u001b[0;32m-> 1104\u001b[0;31m         \u001b[0;32mfor\u001b[0m \u001b[0mobj\u001b[0m \u001b[0;32min\u001b[0m \u001b[0miterable\u001b[0m\u001b[0;34m:\u001b[0m\u001b[0;34m\u001b[0m\u001b[0;34m\u001b[0m\u001b[0m\n\u001b[0m\u001b[1;32m   1105\u001b[0m             \u001b[0;32myield\u001b[0m \u001b[0mobj\u001b[0m\u001b[0;34m\u001b[0m\u001b[0;34m\u001b[0m\u001b[0m\n\u001b[1;32m   1106\u001b[0m             \u001b[0;31m# Update and possibly print the progressbar.\u001b[0m\u001b[0;34m\u001b[0m\u001b[0;34m\u001b[0m\u001b[0;34m\u001b[0m\u001b[0m\n",
      "\u001b[0;32m/usr/local/lib/python3.7/dist-packages/tensorflow/python/data/ops/iterator_ops.py\u001b[0m in \u001b[0;36m__next__\u001b[0;34m(self)\u001b[0m\n\u001b[1;32m    745\u001b[0m   \u001b[0;32mdef\u001b[0m \u001b[0m__next__\u001b[0m\u001b[0;34m(\u001b[0m\u001b[0mself\u001b[0m\u001b[0;34m)\u001b[0m\u001b[0;34m:\u001b[0m\u001b[0;34m\u001b[0m\u001b[0;34m\u001b[0m\u001b[0m\n\u001b[1;32m    746\u001b[0m     \u001b[0;32mtry\u001b[0m\u001b[0;34m:\u001b[0m\u001b[0;34m\u001b[0m\u001b[0;34m\u001b[0m\u001b[0m\n\u001b[0;32m--> 747\u001b[0;31m       \u001b[0;32mreturn\u001b[0m \u001b[0mself\u001b[0m\u001b[0;34m.\u001b[0m\u001b[0m_next_internal\u001b[0m\u001b[0;34m(\u001b[0m\u001b[0;34m)\u001b[0m\u001b[0;34m\u001b[0m\u001b[0;34m\u001b[0m\u001b[0m\n\u001b[0m\u001b[1;32m    748\u001b[0m     \u001b[0;32mexcept\u001b[0m \u001b[0merrors\u001b[0m\u001b[0;34m.\u001b[0m\u001b[0mOutOfRangeError\u001b[0m\u001b[0;34m:\u001b[0m\u001b[0;34m\u001b[0m\u001b[0;34m\u001b[0m\u001b[0m\n\u001b[1;32m    749\u001b[0m       \u001b[0;32mraise\u001b[0m \u001b[0mStopIteration\u001b[0m\u001b[0;34m\u001b[0m\u001b[0;34m\u001b[0m\u001b[0m\n",
      "\u001b[0;32m/usr/local/lib/python3.7/dist-packages/tensorflow/python/data/ops/iterator_ops.py\u001b[0m in \u001b[0;36m_next_internal\u001b[0;34m(self)\u001b[0m\n\u001b[1;32m    731\u001b[0m           \u001b[0mself\u001b[0m\u001b[0;34m.\u001b[0m\u001b[0m_iterator_resource\u001b[0m\u001b[0;34m,\u001b[0m\u001b[0;34m\u001b[0m\u001b[0;34m\u001b[0m\u001b[0m\n\u001b[1;32m    732\u001b[0m           \u001b[0moutput_types\u001b[0m\u001b[0;34m=\u001b[0m\u001b[0mself\u001b[0m\u001b[0;34m.\u001b[0m\u001b[0m_flat_output_types\u001b[0m\u001b[0;34m,\u001b[0m\u001b[0;34m\u001b[0m\u001b[0;34m\u001b[0m\u001b[0m\n\u001b[0;32m--> 733\u001b[0;31m           output_shapes=self._flat_output_shapes)\n\u001b[0m\u001b[1;32m    734\u001b[0m \u001b[0;34m\u001b[0m\u001b[0m\n\u001b[1;32m    735\u001b[0m       \u001b[0;32mtry\u001b[0m\u001b[0;34m:\u001b[0m\u001b[0;34m\u001b[0m\u001b[0;34m\u001b[0m\u001b[0m\n",
      "\u001b[0;32m/usr/local/lib/python3.7/dist-packages/tensorflow/python/ops/gen_dataset_ops.py\u001b[0m in \u001b[0;36miterator_get_next\u001b[0;34m(iterator, output_types, output_shapes, name)\u001b[0m\n\u001b[1;32m   2574\u001b[0m       _result = pywrap_tfe.TFE_Py_FastPathExecute(\n\u001b[1;32m   2575\u001b[0m         \u001b[0m_ctx\u001b[0m\u001b[0;34m,\u001b[0m \u001b[0;34m\"IteratorGetNext\"\u001b[0m\u001b[0;34m,\u001b[0m \u001b[0mname\u001b[0m\u001b[0;34m,\u001b[0m \u001b[0miterator\u001b[0m\u001b[0;34m,\u001b[0m \u001b[0;34m\"output_types\"\u001b[0m\u001b[0;34m,\u001b[0m \u001b[0moutput_types\u001b[0m\u001b[0;34m,\u001b[0m\u001b[0;34m\u001b[0m\u001b[0;34m\u001b[0m\u001b[0m\n\u001b[0;32m-> 2576\u001b[0;31m         \"output_shapes\", output_shapes)\n\u001b[0m\u001b[1;32m   2577\u001b[0m       \u001b[0;32mreturn\u001b[0m \u001b[0m_result\u001b[0m\u001b[0;34m\u001b[0m\u001b[0;34m\u001b[0m\u001b[0m\n\u001b[1;32m   2578\u001b[0m     \u001b[0;32mexcept\u001b[0m \u001b[0m_core\u001b[0m\u001b[0;34m.\u001b[0m\u001b[0m_NotOkStatusException\u001b[0m \u001b[0;32mas\u001b[0m \u001b[0me\u001b[0m\u001b[0;34m:\u001b[0m\u001b[0;34m\u001b[0m\u001b[0;34m\u001b[0m\u001b[0m\n",
      "\u001b[0;31mKeyboardInterrupt\u001b[0m: "
     ]
    }
   ],
   "source": [
    "for batch, (x, y) in tqdm(enumerate(dataset)):\n",
    "    #break\n",
    "    #print(\"batch: \", batch)\n",
    "    if x.shape != (1000, 4) or y.shape != (1000, 37188):\n",
    "      print(x.shape, y.shape)"
   ]
  },
  {
   "cell_type": "code",
   "execution_count": 122,
   "id": "92110bc5",
   "metadata": {
    "id": "92110bc5"
   },
   "outputs": [],
   "source": [
    "from keras.models import Sequential\n",
    "from keras.layers import Dense, Embedding, Lambda\n",
    "\n",
    "model = Sequential([\n",
    "    Embedding(input_dim=vocab_size, output_dim=embed_size, input_length=window_size*2),\n",
    "    Lambda(lambda x: keras.backend.mean(x, axis=1), output_shape=(embed_size)),\n",
    "    Dense(vocab_size, activation='softmax')\n",
    "])\n",
    "\n",
    "model.compile(loss='categorical_crossentropy', optimizer='adam', metrics=['accuracy'])"
   ]
  },
  {
   "cell_type": "code",
   "execution_count": 123,
   "id": "fb3a97fa",
   "metadata": {
    "colab": {
     "base_uri": "https://localhost:8080/"
    },
    "id": "fb3a97fa",
    "outputId": "5150d00d-4d97-45c3-b32e-f5915dc84639",
    "scrolled": true
   },
   "outputs": [
    {
     "name": "stdout",
     "output_type": "stream",
     "text": [
      "Model: \"sequential_5\"\n",
      "_________________________________________________________________\n",
      "Layer (type)                 Output Shape              Param #   \n",
      "=================================================================\n",
      "embedding_5 (Embedding)      (None, 4, 300)            11156400  \n",
      "_________________________________________________________________\n",
      "lambda_5 (Lambda)            (None, 300)               0         \n",
      "_________________________________________________________________\n",
      "dense_5 (Dense)              (None, 37188)             11193588  \n",
      "=================================================================\n",
      "Total params: 22,349,988\n",
      "Trainable params: 22,349,988\n",
      "Non-trainable params: 0\n",
      "_________________________________________________________________\n"
     ]
    }
   ],
   "source": [
    "model.summary()"
   ]
  },
  {
   "cell_type": "code",
   "execution_count": 124,
   "id": "34abdf49",
   "metadata": {
    "colab": {
     "base_uri": "https://localhost:8080/",
     "height": 421
    },
    "id": "34abdf49",
    "outputId": "afe6a51e-9216-4fe8-a1b4-069baac8da35"
   },
   "outputs": [
    {
     "data": {
      "image/png": "[encoded data removed]",
      "text/plain": [
       "<IPython.core.display.Image object>"
      ]
     },
     "execution_count": 124,
     "metadata": {
      "tags": []
     },
     "output_type": "execute_result"
    }
   ],
   "source": [
    "plot_model(model,show_shapes=True, show_layer_names=True, rankdir='TB', expand_nested=True)"
   ]
  },
  {
   "cell_type": "code",
   "execution_count": 125,
   "id": "dda46620",
   "metadata": {
    "id": "dda46620"
   },
   "outputs": [],
   "source": [
    "google_drive_path = '/content/drive/MyDrive/weights/cbow/now_1000.h5'"
   ]
  },
  {
   "cell_type": "code",
   "execution_count": 127,
   "id": "tcuFVYxLDU6J",
   "metadata": {
    "colab": {
     "base_uri": "https://localhost:8080/"
    },
    "id": "tcuFVYxLDU6J",
    "outputId": "b3656b3c-6dd6-4534-a397-8906f97fde7f"
   },
   "outputs": [
    {
     "name": "stdout",
     "output_type": "stream",
     "text": [
      "613/613 [==============================] - 319s 520ms/step - loss: 8.0322 - accuracy: 0.0707\n",
      "\n",
      "Epoch 00001: loss improved from inf to 8.03216, saving model to /content/drive/MyDrive/weights/cbow/now_1000.h5\n"
     ]
    }
   ],
   "source": [
    "early_stopping_cb = callbacks.EarlyStopping(monitor='loss', patience=4, verbose=True)\n",
    "checkpoint_cb = callbacks.ModelCheckpoint(google_drive_path, monitor='loss', verbose=True, save_best_only=True)\n",
    "tensorboard_callback = callbacks.TensorBoard(log_dir=\"logs\")\n",
    "\n",
    "callbacks_list = [early_stopping_cb, checkpoint_cb, tensorboard_callback]\n",
    "\n",
    "history = model.fit(dataset, epochs=1, callbacks=callbacks_list)"
   ]
  }
 ],
 "metadata": {
  "accelerator": "GPU",
  "colab": {
   "collapsed_sections": [],
   "name": "different sizes",
   "provenance": [],
   "toc_visible": true
  },
  "kernelspec": {
   "display_name": "Python 3",
   "language": "python",
   "name": "python3"
  },
  "language_info": {
   "codemirror_mode": {
    "name": "ipython",
    "version": 3
   },
   "file_extension": ".py",
   "mimetype": "text/x-python",
   "name": "python",
   "nbconvert_exporter": "python",
   "pygments_lexer": "ipython3",
   "version": "3.7.1"
  }
 },
 "nbformat": 4,
 "nbformat_minor": 5
}

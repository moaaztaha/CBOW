{
 "cells": [
  {
   "cell_type": "code",
   "execution_count": 23,
   "id": "14d01097",
   "metadata": {
    "id": "14d01097"
   },
   "outputs": [],
   "source": [
    "import tensorflow.keras as keras\n",
    "from keras.preprocessing.text import Tokenizer\n",
    "from keras.preprocessing.text import text_to_word_sequence\n",
    "from keras.preprocessing.sequence import pad_sequences\n",
    "from keras.utils.np_utils import to_categorical\n",
    "import tensorflow as tf\n",
    "import tensorflow.keras.callbacks as callbacks\n",
    "from tensorflow.keras.utils import plot_model \n",
    "\n",
    "\n",
    "from nltk import word_tokenize, sent_tokenize\n",
    "from tqdm import tqdm \n",
    "import numpy as np\n",
    "import re\n",
    "import string"
   ]
  },
  {
   "cell_type": "code",
   "execution_count": 24,
   "id": "e276f93b",
   "metadata": {
    "colab": {
     "base_uri": "https://localhost:8080/"
    },
    "id": "e276f93b",
    "outputId": "1be17e47-1927-4585-d862-2d9a0924e8ca"
   },
   "outputs": [],
   "source": [
    "path_to_file = 'data/text.txt'"
   ]
  },
  {
   "cell_type": "code",
   "execution_count": 25,
   "id": "fa2bb56d",
   "metadata": {
    "colab": {
     "base_uri": "https://localhost:8080/"
    },
    "id": "fa2bb56d",
    "outputId": "a50fff4f-ccff-4261-cb11-6d6bd48a0fed"
   },
   "outputs": [
    {
     "data": {
      "text/plain": [
       "2914"
      ]
     },
     "execution_count": 25,
     "metadata": {},
     "output_type": "execute_result"
    }
   ],
   "source": [
    "with open(path_to_file) as f:\n",
    "    corpus = f.read().splitlines()\n",
    "len(corpus)"
   ]
  },
  {
   "cell_type": "markdown",
   "id": "23763a63",
   "metadata": {},
   "source": [
    "### Preprocessing "
   ]
  },
  {
   "cell_type": "code",
   "execution_count": 26,
   "id": "c5e5b5fb",
   "metadata": {},
   "outputs": [],
   "source": [
    "punctuation_string = '!\"\\\\\\\\#\\\\$%\\\\&\\\\\\(\\\\)\\\\*\\\\+,\\\\-\\\\./:;<=>\\\\?@\\\\[\\\\\\\\\\\\]\\\\^_`\\\\{\\\\|\\\\}\\\\~\\d'"
   ]
  },
  {
   "cell_type": "code",
   "execution_count": 27,
   "id": "39654e9c",
   "metadata": {},
   "outputs": [],
   "source": [
    "def preprocess(corpus):\n",
    "    sentences = sent_tokenize(' '.join(w for w in corpus))\n",
    "    sentences = [sent.lower() for sent in sentences]\n",
    "    sentences = [re.sub('<\\w+>', '', sent) for sent in sentences]\n",
    "    sentences = [sent.decode() for sent in \n",
    "                 tf.strings.regex_replace(sentences,f'[{punctuation_string}]', '').numpy()]\n",
    "    \n",
    "    tokens = [word_tokenize(sent) for sent in tqdm(sentences)]\n",
    "    \n",
    "    # return tokenized sentences\n",
    "    return tokens"
   ]
  },
  {
   "cell_type": "code",
   "execution_count": 32,
   "id": "b2124c53",
   "metadata": {},
   "outputs": [
    {
     "name": "stderr",
     "output_type": "stream",
     "text": [
      "\n",
      "  0%|          | 0/8750 [00:00<?, ?it/s]\u001b[A\n",
      "  6%|▋         | 555/8750 [00:00<00:01, 5546.34it/s]\u001b[A\n",
      " 13%|█▎        | 1110/8750 [00:00<00:01, 5171.23it/s]\u001b[A\n",
      " 19%|█▉        | 1681/8750 [00:00<00:01, 5404.75it/s]\u001b[A\n",
      " 25%|██▌       | 2224/8750 [00:00<00:01, 5149.18it/s]\u001b[A\n",
      " 32%|███▏      | 2814/8750 [00:00<00:01, 5406.45it/s]\u001b[A\n",
      " 39%|███▉      | 3412/8750 [00:00<00:00, 5594.28it/s]\u001b[A\n",
      " 45%|████▌     | 3974/8750 [00:00<00:00, 5400.57it/s]\u001b[A\n",
      " 52%|█████▏    | 4517/8750 [00:00<00:00, 4806.09it/s]\u001b[A\n",
      " 58%|█████▊    | 5058/8750 [00:00<00:00, 4971.51it/s]\u001b[A\n",
      " 64%|██████▍   | 5613/8750 [00:01<00:00, 5135.03it/s]\u001b[A\n",
      " 71%|███████   | 6178/8750 [00:01<00:00, 5282.74it/s]\u001b[A\n",
      " 77%|███████▋  | 6728/8750 [00:01<00:00, 5344.93it/s]\u001b[A\n",
      " 83%|████████▎ | 7304/8750 [00:01<00:00, 5465.90it/s]\u001b[A\n",
      " 90%|█████████ | 7878/8750 [00:01<00:00, 5546.88it/s]\u001b[A\n",
      "100%|██████████| 8750/8750 [00:01<00:00, 5331.82it/s]\u001b[A\n"
     ]
    }
   ],
   "source": [
    "tokens_list = preprocess(corpus[:300])"
   ]
  },
  {
   "cell_type": "code",
   "execution_count": 33,
   "id": "40961fd0",
   "metadata": {
    "scrolled": true
   },
   "outputs": [
    {
     "data": {
      "text/plain": [
       "8750"
      ]
     },
     "execution_count": 33,
     "metadata": {},
     "output_type": "execute_result"
    }
   ],
   "source": [
    "len(tokens_list)"
   ]
  },
  {
   "cell_type": "code",
   "execution_count": 34,
   "id": "1577c700",
   "metadata": {
    "scrolled": false
   },
   "outputs": [
    {
     "name": "stdout",
     "output_type": "stream",
     "text": [
      "['sol', 'yurick', 'the', 'writer', 'whose', 'novel', 'the', 'warriors', 'was', 'adapted', 'into', 'a', 'film', 'years', 'later', 'which', 'then', 'became', 'one', 'of', 'the', 'best', 'adapted', 'works', 'ever', 'in', 'video', 'gaming', 'died', 'this', 'weekend']\n"
     ]
    }
   ],
   "source": [
    "print(tokens_list[0])"
   ]
  },
  {
   "cell_type": "code",
   "execution_count": 35,
   "id": "039e7abf",
   "metadata": {},
   "outputs": [],
   "source": [
    "def build_vocabulary(tokens_list):\n",
    "    stoi = {}\n",
    "    itos = {}\n",
    "    idx = 0\n",
    "    \n",
    "    stoi['<pad>'] = idx\n",
    "    itos[idx] = '<pad>'\n",
    "    idx += 1\n",
    "    \n",
    "    for tokens in tqdm(tokens_list):\n",
    "        for word in tokens:\n",
    "            if word not in stoi:\n",
    "                stoi[word] = idx\n",
    "                itos[idx] = word\n",
    "                idx += 1\n",
    "    return stoi, itos"
   ]
  },
  {
   "cell_type": "code",
   "execution_count": 36,
   "id": "e71406ea",
   "metadata": {},
   "outputs": [
    {
     "name": "stderr",
     "output_type": "stream",
     "text": [
      "\n",
      "100%|██████████| 8750/8750 [00:00<00:00, 219513.01it/s]\n"
     ]
    }
   ],
   "source": [
    "# remove '\n",
    "tokens_list\n",
    "stoi, itos = build_vocabulary(tokens_list)"
   ]
  },
  {
   "cell_type": "code",
   "execution_count": 37,
   "id": "3ad5d165",
   "metadata": {
    "id": "3ad5d165"
   },
   "outputs": [],
   "source": [
    "numericalized = [[stoi[w] for w in sent] for sent in tokens_list]"
   ]
  },
  {
   "cell_type": "code",
   "execution_count": 38,
   "id": "7234b995",
   "metadata": {
    "colab": {
     "base_uri": "https://localhost:8080/"
    },
    "id": "7234b995",
    "outputId": "b3df03c1-a68c-429a-b936-d268238e203b"
   },
   "outputs": [
    {
     "name": "stdout",
     "output_type": "stream",
     "text": [
      "Vocab Size  : 18856\n",
      "Vocab Sample: [('<pad>', 0), ('sol', 1), ('yurick', 2), ('the', 3), ('writer', 4)]\n"
     ]
    }
   ],
   "source": [
    "vocab_size = len(stoi)\n",
    "embed_size = 100\n",
    "window_size = 2\n",
    "\n",
    "print(f\"Vocab Size  : {vocab_size}\")\n",
    "print(f\"Vocab Sample: {list(stoi.items())[:5]}\")"
   ]
  },
  {
   "cell_type": "code",
   "execution_count": 44,
   "id": "ec1bf7f3",
   "metadata": {},
   "outputs": [
    {
     "data": {
      "text/plain": [
       "(2216, 3215, 9189, 2524)"
      ]
     },
     "execution_count": 44,
     "metadata": {},
     "output_type": "execute_result"
    }
   ],
   "source": [
    "stoi['king'], stoi['queen'], stoi['prince'], stoi['dog'] "
   ]
  },
  {
   "cell_type": "code",
   "execution_count": 15,
   "id": "919437ce",
   "metadata": {
    "id": "919437ce"
   },
   "outputs": [],
   "source": [
    "def generate_context_target_pairs(corpus=numericalized, window_size=2, vocab_size=vocab_size):\n",
    "    \n",
    "    context_length = window_size * 2\n",
    "    \n",
    "    for sentence in corpus:\n",
    "        sentence_length = len(sentence)\n",
    "        \n",
    "        for index, word in enumerate(sentence):\n",
    "            context_words = []\n",
    "            label_word = []\n",
    "            start = index - window_size\n",
    "            end = index + window_size + 1\n",
    "            \n",
    "            context_words.append([sentence[i] for i in range(start, end)\n",
    "                                 if 0 <= i < sentence_length and i != index])\n",
    "            label_word.append(word)\n",
    "            \n",
    "            x = pad_sequences(context_words, maxlen=context_length)\n",
    "            y = to_categorical(label_word, vocab_size)\n",
    "            yield(x[0], y[0])"
   ]
  },
  {
   "cell_type": "code",
   "execution_count": 16,
   "id": "15fd95d8",
   "metadata": {
    "colab": {
     "base_uri": "https://localhost:8080/"
    },
    "id": "15fd95d8",
    "outputId": "d1d784fe-169c-4521-8c2d-6159e5f7518f"
   },
   "outputs": [
    {
     "name": "stdout",
     "output_type": "stream",
     "text": [
      "Target: before, Context: ['first', 'citizen', 'we', 'proceed']\n",
      "Target: we, Context: ['citizen', 'before', 'proceed', 'any']\n",
      "Target: proceed, Context: ['before', 'we', 'any', 'further']\n",
      "Target: any, Context: ['we', 'proceed', 'further', 'hear']\n",
      "Target: further, Context: ['proceed', 'any', 'hear', 'me']\n",
      "Target: hear, Context: ['any', 'further', 'me', 'speak']\n",
      "Target: you, Context: ['first', 'citizen', 'are', 'all']\n",
      "Target: are, Context: ['citizen', 'you', 'all', 'resolved']\n",
      "Target: all, Context: ['you', 'are', 'resolved', 'rather']\n",
      "Target: resolved, Context: ['are', 'all', 'rather', 'to']\n"
     ]
    }
   ],
   "source": [
    "i = 0\n",
    "for x, y in generate_context_target_pairs(numericalized, 2, vocab_size):\n",
    "    if 0 not in x:\n",
    "        if i == 10: break\n",
    "        i+=1\n",
    "\n",
    "        print(f'Target: {itos[np.argmax(y)]}, Context: {[itos[w] for w in x]}')"
   ]
  },
  {
   "cell_type": "code",
   "execution_count": 17,
   "id": "eYXGjsibE0dH",
   "metadata": {
    "id": "eYXGjsibE0dH"
   },
   "outputs": [],
   "source": [
    "output_shapes = ([window_size*2],[vocab_size])\n",
    "dataset = tf.data.Dataset.from_generator(generate_context_target_pairs, (tf.int16, tf.int16), output_shapes=output_shapes)\n",
    "dataset = dataset.batch(100)"
   ]
  },
  {
   "cell_type": "code",
   "execution_count": 18,
   "id": "qoc3fNijFhwJ",
   "metadata": {
    "colab": {
     "base_uri": "https://localhost:8080/",
     "height": 385
    },
    "id": "qoc3fNijFhwJ",
    "outputId": "5b1256bb-ae10-49e0-985e-232b9acf7f8d"
   },
   "outputs": [
    {
     "name": "stdout",
     "output_type": "stream",
     "text": [
      "batch:  0\n"
     ]
    },
    {
     "data": {
      "text/plain": [
       "(TensorShape([100, 4]), TensorShape([100, 12482]))"
      ]
     },
     "execution_count": 18,
     "metadata": {},
     "output_type": "execute_result"
    }
   ],
   "source": [
    "for batch, (x, y) in enumerate(dataset):\n",
    "    break\n",
    "print(\"batch: \", batch)\n",
    "x.shape, y.shape"
   ]
  },
  {
   "cell_type": "code",
   "execution_count": 19,
   "id": "92110bc5",
   "metadata": {
    "id": "92110bc5"
   },
   "outputs": [],
   "source": [
    "from keras.models import Sequential\n",
    "from keras.layers import Dense, Embedding, Lambda\n",
    "\n",
    "model = Sequential([\n",
    "    Embedding(input_dim=vocab_size, output_dim=embed_size, input_length=window_size*2),\n",
    "    Lambda(lambda x: keras.backend.mean(x, axis=1), output_shape=(embed_size)),\n",
    "    Dense(vocab_size, activation='softmax')\n",
    "])\n",
    "\n",
    "model.compile(loss='categorical_crossentropy', optimizer='adam', metrics=['accuracy'])"
   ]
  },
  {
   "cell_type": "code",
   "execution_count": 20,
   "id": "fb3a97fa",
   "metadata": {
    "colab": {
     "base_uri": "https://localhost:8080/"
    },
    "id": "fb3a97fa",
    "outputId": "9904a204-09fc-467e-f98c-da93714667c9",
    "scrolled": true
   },
   "outputs": [
    {
     "name": "stdout",
     "output_type": "stream",
     "text": [
      "Model: \"sequential\"\n",
      "_________________________________________________________________\n",
      "Layer (type)                 Output Shape              Param #   \n",
      "=================================================================\n",
      "embedding (Embedding)        (None, 4, 100)            1248200   \n",
      "_________________________________________________________________\n",
      "lambda (Lambda)              (None, 100)               0         \n",
      "_________________________________________________________________\n",
      "dense (Dense)                (None, 12482)             1260682   \n",
      "=================================================================\n",
      "Total params: 2,508,882\n",
      "Trainable params: 2,508,882\n",
      "Non-trainable params: 0\n",
      "_________________________________________________________________\n"
     ]
    }
   ],
   "source": [
    "model.summary()"
   ]
  },
  {
   "cell_type": "code",
   "execution_count": 21,
   "id": "34abdf49",
   "metadata": {
    "colab": {
     "base_uri": "https://localhost:8080/",
     "height": 421
    },
    "id": "34abdf49",
    "outputId": "354dd2cd-cb54-44ba-af7b-e0393a7f018e"
   },
   "outputs": [
    {
     "name": "stdout",
     "output_type": "stream",
     "text": [
      "('You must install pydot (`pip install pydot`) and install graphviz (see instructions at https://graphviz.gitlab.io/download/) ', 'for plot_model/model_to_dot to work.')\n"
     ]
    }
   ],
   "source": [
    "plot_model(model,show_shapes=True, show_layer_names=True, rankdir='TB', expand_nested=True)"
   ]
  },
  {
   "cell_type": "code",
   "execution_count": 23,
   "id": "dda46620",
   "metadata": {},
   "outputs": [],
   "source": [
    "google_drive_path = 'models/shakespeare_local.h5'"
   ]
  },
  {
   "cell_type": "code",
   "execution_count": 25,
   "id": "tcuFVYxLDU6J",
   "metadata": {
    "colab": {
     "base_uri": "https://localhost:8080/",
     "height": 755
    },
    "id": "tcuFVYxLDU6J",
    "outputId": "fe8d8716-0047-46cb-e202-54daed27f773"
   },
   "outputs": [
    {
     "name": "stdout",
     "output_type": "stream",
     "text": [
      "2078/2078 [==============================] - 153s 74ms/step - loss: 6.3912 - accuracy: 0.0677\n",
      "\n",
      "Epoch 00001: loss improved from inf to 6.39122, saving model to models/shakespeare_local.h5\n"
     ]
    }
   ],
   "source": [
    "early_stopping_cb = callbacks.EarlyStopping(monitor='loss', patience=10, verbose=True)\n",
    "checkpoint_cb = callbacks.ModelCheckpoint(google_drive_path, monitor='loss', verbose=True, save_best_only=True)\n",
    "tensorboard_callback = callbacks.TensorBoard(log_dir=\"logs\")\n",
    "\n",
    "callbacks_list = [early_stopping_cb, checkpoint_cb, tensorboard_callback]\n",
    "\n",
    "history = model.fit(dataset, epochs=1, callbacks=callbacks_list)"
   ]
  },
  {
   "cell_type": "code",
   "execution_count": 21,
   "id": "fe259003",
   "metadata": {},
   "outputs": [
    {
     "data": {
      "text/plain": [
       "2369"
      ]
     },
     "execution_count": 21,
     "metadata": {},
     "output_type": "execute_result"
    }
   ],
   "source": [
    "stoi['king']"
   ]
  },
  {
   "cell_type": "code",
   "execution_count": 22,
   "id": "5391d82f",
   "metadata": {},
   "outputs": [
    {
     "data": {
      "text/plain": [
       "3633"
      ]
     },
     "execution_count": 22,
     "metadata": {},
     "output_type": "execute_result"
    }
   ],
   "source": [
    "stoi['queen']"
   ]
  },
  {
   "cell_type": "code",
   "execution_count": 20,
   "id": "50136f65",
   "metadata": {},
   "outputs": [
    {
     "data": {
      "text/plain": [
       "2"
      ]
     },
     "execution_count": 20,
     "metadata": {},
     "output_type": "execute_result"
    }
   ],
   "source": [
    "stoi['citizen']"
   ]
  },
  {
   "cell_type": "code",
   "execution_count": null,
   "id": "e57b4e62",
   "metadata": {},
   "outputs": [],
   "source": [
    "`"
   ]
  }
 ],
 "metadata": {
  "accelerator": "GPU",
  "colab": {
   "collapsed_sections": [],
   "name": "Untitled.ipynb",
   "provenance": []
  },
  "kernelspec": {
   "display_name": "Python 3",
   "language": "python",
   "name": "python3"
  },
  "language_info": {
   "codemirror_mode": {
    "name": "ipython",
    "version": 3
   },
   "file_extension": ".py",
   "mimetype": "text/x-python",
   "name": "python",
   "nbconvert_exporter": "python",
   "pygments_lexer": "ipython3",
   "version": "3.8.8"
  }
 },
 "nbformat": 4,
 "nbformat_minor": 5
}
